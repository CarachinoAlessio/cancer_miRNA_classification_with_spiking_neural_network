{
 "cells": [
  {
   "cell_type": "markdown",
   "id": "47d5313e-c29d-4581-a9c7-a45122337069",
   "metadata": {
    "id": "47d5313e-c29d-4581-a9c7-a45122337069"
   },
   "source": [
    "[<img src='https://github.com/jeshraghian/snntorch/blob/master/docs/_static/img/snntorch_alpha_w.png?raw=true' width=\"400\">](https://github.com/jeshraghian/snntorch/)\n",
    "\n",
    "# snnTorch - Population Coding in Spiking Neural Nets\n",
    "## By Jason K. Eshraghian (www.jasoneshraghian.com)\n",
    "\n",
    "<a href=\"https://colab.research.google.com/github/jeshraghian/snntorch/blob/master/examples/tutorial_pop.ipynb\">\n",
    "  <img src=\"https://colab.research.google.com/assets/colab-badge.svg\" alt=\"Open In Colab\"/>\n",
    "</a>\n",
    "\n",
    "[<img src='https://github.com/jeshraghian/snntorch/blob/master/docs/_static/img/GitHub-Mark-Light-120px-plus.png?raw=true' width=\"28\">](https://github.com/jeshraghian/snntorch/) [<img src='https://github.com/jeshraghian/snntorch/blob/master/docs/_static/img/GitHub_Logo_White.png?raw=true' width=\"80\">](https://github.com/jeshraghian/snntorch/)"
   ]
  },
  {
   "cell_type": "markdown",
   "id": "oll2NNFeG1NG",
   "metadata": {
    "id": "oll2NNFeG1NG"
   },
   "source": [
    "For a comprehensive overview on how SNNs work, and what is going on under the hood, [then you might be interested in the snnTorch tutorial series available here.](https://snntorch.readthedocs.io/en/latest/tutorials/index.html)\n",
    "The snnTorch tutorial series is based on the following paper. If you find these resources or code useful in your work, please consider citing the following source:\n",
    "\n",
    "> <cite> [Jason K. Eshraghian, Max Ward, Emre Neftci, Xinxin Wang, Gregor Lenz, Girish Dwivedi, Mohammed Bennamoun, Doo Seok Jeong, and Wei D. Lu. \"Training Spiking Neural Networks Using Lessons From Deep Learning\". arXiv preprint arXiv:2109.12894, September 2021.](https://arxiv.org/abs/2109.12894) </cite>"
   ]
  },
  {
   "cell_type": "markdown",
   "id": "6w8ThNNEYn5i",
   "metadata": {
    "id": "6w8ThNNEYn5i"
   },
   "source": [
    "# Introduction\n",
    "It is thought that rate codes alone cannot be the dominant encoding mechanism in the primary cortex. One of several reasons is because the average neuronal firing rate is roughly $0.1-1$ Hz, which is far slower than the reaction response time of animals and humans.\n",
    "\n",
    "But if we pool together multiple neurons and count their spikes together, then it becomes possible to measure a firing rate for a population of neurons in a very short window of time. Population coding adds some credibility to the plausibility of rate-encoding mechanisms.\n",
    "\n",
    "<center>\n",
    "<img src='https://github.com/jeshraghian/snntorch/blob/master/docs/_static/img/examples/tutorial_pop/pop.png?raw=true' width=\"300\">\n",
    "</center>\n",
    "\n",
    "\n",
    "In this tutorial, you will:\n",
    "* Learn how to train a population coded network. Instead of assigning one neuron per class, we will extend this to multiple neurons per class, and aggregate their spikes together.\n",
    "\n",
    "If running in Google Colab:\n",
    "* You may connect to GPU by checking `Runtime` > `Change runtime type` > `Hardware accelerator: GPU`\n",
    "* Next, install the latest PyPi distribution of snnTorch by clicking into the following cell and pressing `Shift+Enter`."
   ]
  },
  {
   "cell_type": "code",
   "execution_count": 1,
   "id": "hDnIEHOKB8LD",
   "metadata": {
    "colab": {
     "base_uri": "https://localhost:8080/"
    },
    "id": "hDnIEHOKB8LD",
    "outputId": "1f7617c3-8068-4153-d407-51b036f1b969"
   },
   "outputs": [
    {
     "name": "stdout",
     "output_type": "stream",
     "text": [
      "\u001b[?25l     \u001b[90m━━━━━━━━━━━━━━━━━━━━━━━━━━━━━━━━━━━━━━━━\u001b[0m \u001b[32m0.0/104.7 kB\u001b[0m \u001b[31m?\u001b[0m eta \u001b[36m-:--:--\u001b[0m\r\u001b[2K     \u001b[91m━━━━━━━━━━━━━━━━━━━━━━━━━━━━━━━━━━━━━━\u001b[0m\u001b[90m╺\u001b[0m \u001b[32m102.4/104.7 kB\u001b[0m \u001b[31m3.1 MB/s\u001b[0m eta \u001b[36m0:00:01\u001b[0m\r\u001b[2K     \u001b[90m━━━━━━━━━━━━━━━━━━━━━━━━━━━━━━━━━━━━━━━\u001b[0m \u001b[32m104.7/104.7 kB\u001b[0m \u001b[31m2.6 MB/s\u001b[0m eta \u001b[36m0:00:00\u001b[0m\n",
      "\u001b[?25h"
     ]
    }
   ],
   "source": [
    "!pip install snntorch --quiet"
   ]
  },
  {
   "cell_type": "code",
   "execution_count": 6,
   "id": "WL487gZW1Agy",
   "metadata": {
    "ExecuteTime": {
     "end_time": "2023-09-18T16:06:21.456840Z",
     "start_time": "2023-09-18T16:06:21.289599Z"
    },
    "id": "WL487gZW1Agy"
   },
   "outputs": [],
   "source": [
    "import torch, torch.nn as nn\n",
    "import snntorch as snn"
   ]
  },
  {
   "cell_type": "markdown",
   "id": "Jti6Ib045h8q",
   "metadata": {
    "id": "Jti6Ib045h8q"
   },
   "source": [
    "### Useful functions"
   ]
  },
  {
   "cell_type": "code",
   "execution_count": 7,
   "id": "TcmTPCEl54vt",
   "metadata": {
    "ExecuteTime": {
     "end_time": "2023-09-18T16:06:30.870957Z",
     "start_time": "2023-09-18T16:06:30.844357Z"
    },
    "id": "TcmTPCEl54vt"
   },
   "outputs": [],
   "source": [
    "import csv\n",
    "import numpy as np\n",
    "import scipy.stats\n",
    "from sklearn.model_selection import train_test_split"
   ]
  },
  {
   "cell_type": "code",
   "execution_count": 8,
   "id": "82O2NvNG5t8G",
   "metadata": {
    "ExecuteTime": {
     "end_time": "2023-09-18T16:06:32.684427Z",
     "start_time": "2023-09-18T16:06:32.642311Z"
    },
    "id": "82O2NvNG5t8G"
   },
   "outputs": [],
   "source": [
    "def extract_label(file_name, verbose=False):\n",
    "    data = {}\n",
    "    label = []\n",
    "    with open(file_name, \"r\") as fin:\n",
    "        reader = csv.reader(fin, delimiter=',')\n",
    "        first = True\n",
    "        for row in reader:\n",
    "            lbl = row[2]\n",
    "            if first or \"TARGET\" in lbl:\n",
    "                first = False\n",
    "                continue\n",
    "            lbl = lbl.replace(\"TCGA-\",\"\")\n",
    "\n",
    "            label.append(lbl)\n",
    "            if lbl in data.keys():\n",
    "                data[lbl] += 1 \n",
    "            else:\n",
    "                data[lbl] = 1\n",
    "    if verbose:\n",
    "        print(f\"Number of classes in the dataset = {len(data)}\")\n",
    "        pprint.pprint(data, indent=4)\n",
    "\n",
    "    return label"
   ]
  },
  {
   "cell_type": "code",
   "execution_count": 9,
   "id": "2pRSXdGV6qJj",
   "metadata": {
    "ExecuteTime": {
     "end_time": "2023-09-18T16:06:34.982788Z",
     "start_time": "2023-09-18T16:06:34.955005Z"
    },
    "id": "2pRSXdGV6qJj"
   },
   "outputs": [],
   "source": [
    "def create_dictionary(labels):\n",
    "    dictionary = {}\n",
    "    class_names = np.unique(labels)\n",
    "    for i, name in enumerate(class_names):\n",
    "        dictionary[name] = i\n",
    "    return dictionary"
   ]
  },
  {
   "cell_type": "code",
   "execution_count": 10,
   "id": "1ub0G7Fu5kTn",
   "metadata": {
    "ExecuteTime": {
     "end_time": "2023-09-18T16:06:37.783741Z",
     "start_time": "2023-09-18T16:06:37.772218Z"
    },
    "id": "1ub0G7Fu5kTn"
   },
   "outputs": [],
   "source": [
    "def label_processing(labels):\n",
    "    new_miRna_label = []\n",
    "    dictionary = create_dictionary(labels)\n",
    "    for i in labels:\n",
    "        new_miRna_label.append(dictionary[i])\n",
    "    return new_miRna_label"
   ]
  },
  {
   "cell_type": "markdown",
   "id": "OKoDb1345MMN",
   "metadata": {
    "id": "OKoDb1345MMN"
   },
   "source": [
    "### 1.2 Download Dataset"
   ]
  },
  {
   "cell_type": "code",
   "execution_count": 1,
   "id": "yoq22pky4_MA",
   "metadata": {
    "ExecuteTime": {
     "end_time": "2023-09-18T15:53:20.019265Z",
     "start_time": "2023-09-18T15:53:19.975612Z"
    },
    "id": "yoq22pky4_MA"
   },
   "outputs": [
    {
     "name": "stderr",
     "output_type": "stream",
     "text": [
      "\"gdown\" non Š riconosciuto come comando interno o esterno,\n",
      " un programma eseguibile o un file batch.\n"
     ]
    }
   ],
   "source": [
    "import os\n",
    "mir_dataset = \"https://drive.google.com/drive/folders/1oWWeord8YYvtxIo2Pq2peyx7xOI-1Tmb?usp=sharing\"\n",
    "if \"MLinApp_course_data\" not in os.listdir(\"./\"):\n",
    "  ! gdown $mir_dataset -O ./MLinApp_course_data --folder"
   ]
  },
  {
   "cell_type": "code",
   "execution_count": 11,
   "id": "rtH__xJc5RwF",
   "metadata": {
    "ExecuteTime": {
     "end_time": "2023-09-18T16:06:59.171720Z",
     "start_time": "2023-09-18T16:06:40.666120Z"
    },
    "id": "rtH__xJc5RwF"
   },
   "outputs": [],
   "source": [
    "# Remove the first row and the last column from the feature\n",
    "miR_label = extract_label(\"./MLinApp_course_data/tcga_mir_label.csv\")\n",
    "miR_data = np.genfromtxt('./MLinApp_course_data/tcga_mir_rpm.csv', delimiter=',')[1:,0:-1]"
   ]
  },
  {
   "cell_type": "code",
   "execution_count": 12,
   "id": "Fh3eoJQt6ci9",
   "metadata": {
    "ExecuteTime": {
     "end_time": "2023-09-18T16:07:01.653197Z",
     "start_time": "2023-09-18T16:07:01.639069Z"
    },
    "id": "Fh3eoJQt6ci9"
   },
   "outputs": [],
   "source": [
    "number_to_delete = abs(len(miR_label) - miR_data.shape[0])\n",
    "miR_data = miR_data[number_to_delete:,:]\n",
    "# Convert labels in number \n",
    "num_miR_label = label_processing(miR_label)"
   ]
  },
  {
   "cell_type": "code",
   "execution_count": 13,
   "id": "J1cuN86D5Uz3",
   "metadata": {
    "ExecuteTime": {
     "end_time": "2023-09-18T16:07:09.845035Z",
     "start_time": "2023-09-18T16:07:09.219375Z"
    },
    "id": "J1cuN86D5Uz3"
   },
   "outputs": [],
   "source": [
    "# Z-score normalization\n",
    "miR_data = scipy.stats.zscore(miR_data, axis=1)\n",
    "\n",
    "assert np.isnan(miR_data).sum() == 0"
   ]
  },
  {
   "cell_type": "code",
   "execution_count": 14,
   "id": "e9l36qy285uT",
   "metadata": {
    "ExecuteTime": {
     "end_time": "2023-09-18T16:07:12.754958Z",
     "start_time": "2023-09-18T16:07:12.728673Z"
    },
    "colab": {
     "base_uri": "https://localhost:8080/"
    },
    "id": "e9l36qy285uT",
    "outputId": "a17195c2-3ba3-42e0-d922-98b0a21aa5b6"
   },
   "outputs": [
    {
     "name": "stdout",
     "output_type": "stream",
     "text": [
      "[ 1.68703834  1.67910068  1.71667838 ... -0.05112508 -0.01854857\n",
      "  3.38106288] -0.13941802539632334\n"
     ]
    }
   ],
   "source": [
    "print(miR_data[0], np.min(miR_data))"
   ]
  },
  {
   "cell_type": "code",
   "execution_count": 37,
   "id": "vBjE2ZOaMkIO",
   "metadata": {
    "id": "vBjE2ZOaMkIO"
   },
   "outputs": [],
   "source": [
    "# log2 normalization <Optional>\n",
    "\n",
    "miR_data = miR_data + abs(np.min(miR_data)) + 0.001\n",
    "\n",
    "miR_data = np.log2(miR_data)"
   ]
  },
  {
   "cell_type": "code",
   "execution_count": 38,
   "id": "EXX5bWCx8O5b",
   "metadata": {
    "id": "EXX5bWCx8O5b"
   },
   "outputs": [],
   "source": [
    "# normalization between [0, 255] <Optional>\n",
    "miR_data = (miR_data - np.min(miR_data)) / (np.max(miR_data) - np.min(miR_data)) * 255"
   ]
  },
  {
   "cell_type": "code",
   "execution_count": 127,
   "id": "bkWSVv7N5YSy",
   "metadata": {
    "colab": {
     "base_uri": "https://localhost:8080/"
    },
    "id": "bkWSVv7N5YSy",
    "outputId": "c21bf852-61b2-4cc5-b862-37a9024c4c3f"
   },
   "outputs": [
    {
     "name": "stdout",
     "output_type": "stream",
     "text": [
      "33\n",
      "['READ', 'READ', 'READ', 'READ', 'READ', 'READ', 'READ', 'READ', 'READ', 'READ', 'READ', 'READ', 'READ', 'READ', 'READ', 'READ', 'READ', 'READ', 'READ', 'READ', 'READ', 'READ', 'READ', 'READ', 'READ', 'READ', 'READ', 'READ', 'READ', 'READ', 'READ', 'READ', 'READ', 'READ', 'READ', 'READ', 'READ', 'READ', 'READ', 'READ', 'READ', 'READ', 'READ', 'READ', 'READ', 'READ', 'READ', 'READ', 'READ', 'READ', 'READ', 'READ', 'READ', 'READ', 'READ', 'READ', 'READ', 'READ', 'READ', 'READ', 'READ', 'READ', 'READ', 'READ', 'READ', 'READ', 'READ', 'READ', 'READ', 'READ', 'READ', 'READ', 'READ', 'READ', 'READ', 'READ', 'READ', 'READ', 'READ', 'READ', 'READ', 'READ', 'READ', 'READ', 'READ', 'READ', 'READ', 'READ', 'READ', 'READ', 'READ', 'READ', 'READ', 'READ', 'READ', 'READ', 'READ', 'READ', 'READ', 'READ', 'READ', 'READ', 'READ', 'READ', 'READ', 'READ', 'READ', 'READ', 'READ', 'READ', 'READ', 'READ', 'READ', 'READ', 'READ', 'READ', 'READ', 'READ', 'READ', 'READ', 'READ', 'READ', 'READ', 'READ', 'READ', 'READ', 'READ', 'READ', 'READ', 'READ', 'READ', 'READ', 'READ', 'READ', 'READ', 'READ', 'READ', 'READ', 'READ', 'READ', 'READ', 'READ', 'READ', 'READ', 'READ', 'READ', 'READ', 'READ', 'READ', 'READ', 'READ', 'READ', 'READ', 'READ', 'READ', 'READ', 'READ', 'READ', 'READ', 'READ', 'READ', 'READ', 'READ', 'READ', 'READ', 'BLCA', 'BLCA', 'BLCA', 'BLCA', 'BLCA', 'BLCA', 'BLCA', 'BLCA', 'BLCA', 'BLCA', 'BLCA', 'BLCA', 'BLCA', 'BLCA', 'BLCA', 'BLCA', 'BLCA', 'BLCA', 'BLCA', 'BLCA', 'BLCA', 'BLCA', 'BLCA', 'BLCA', 'BLCA', 'BLCA', 'BLCA', 'BLCA', 'BLCA', 'BLCA', 'BLCA', 'BLCA', 'BLCA', 'BLCA', 'BLCA', 'BLCA', 'BLCA', 'BLCA', 'BLCA', 'BLCA', 'BLCA', 'BLCA', 'BLCA', 'BLCA', 'BLCA', 'BLCA', 'BLCA', 'BLCA', 'BLCA', 'BLCA', 'BLCA', 'BLCA', 'BLCA', 'BLCA', 'BLCA', 'BLCA', 'BLCA', 'BLCA', 'BLCA', 'BLCA', 'BLCA', 'BLCA', 'BLCA', 'BLCA', 'BLCA', 'BLCA', 'BLCA', 'BLCA', 'BLCA', 'BLCA', 'BLCA', 'BLCA', 'BLCA', 'BLCA', 'BLCA', 'BLCA', 'BLCA', 'BLCA', 'BLCA', 'BLCA', 'BLCA', 'BLCA', 'BLCA', 'BLCA', 'BLCA', 'BLCA', 'BLCA', 'BLCA', 'BLCA', 'BLCA', 'BLCA', 'BLCA', 'BLCA', 'BLCA', 'BLCA', 'BLCA', 'BLCA', 'BLCA', 'BLCA', 'BLCA', 'BLCA', 'BLCA', 'BLCA', 'BLCA', 'BLCA', 'BLCA', 'BLCA', 'BLCA', 'BLCA', 'BLCA', 'BLCA', 'BLCA', 'BLCA', 'BLCA', 'BLCA', 'BLCA', 'BLCA', 'BLCA', 'BLCA', 'BLCA', 'BLCA', 'BLCA', 'BLCA', 'BLCA', 'BLCA', 'BLCA', 'BLCA', 'BLCA', 'BLCA', 'BLCA', 'BLCA', 'BLCA', 'BLCA', 'BLCA', 'BLCA', 'BLCA', 'BLCA', 'BLCA', 'BLCA', 'BLCA', 'BLCA', 'BLCA', 'BLCA', 'BLCA', 'BLCA', 'BLCA', 'BLCA', 'BLCA', 'BLCA', 'BLCA', 'BLCA', 'BLCA', 'BLCA', 'BLCA', 'BLCA', 'BLCA', 'BLCA', 'BLCA', 'BLCA', 'BLCA', 'BLCA', 'BLCA', 'BLCA', 'BLCA', 'BLCA', 'BLCA', 'BLCA', 'BLCA', 'BLCA', 'BLCA', 'BLCA', 'BLCA', 'BLCA', 'BLCA', 'BLCA', 'BLCA', 'BLCA', 'BLCA', 'BLCA', 'BLCA', 'BLCA', 'BLCA', 'BLCA', 'BLCA', 'BLCA', 'BLCA', 'BLCA', 'BLCA', 'BLCA', 'BLCA', 'BLCA', 'BLCA', 'BLCA', 'BLCA', 'BLCA', 'BLCA', 'BLCA', 'BLCA', 'BLCA', 'BLCA', 'BLCA', 'BLCA', 'BLCA', 'BLCA', 'BLCA', 'BLCA', 'BLCA', 'BLCA', 'BLCA', 'BLCA', 'BLCA', 'BLCA', 'BLCA', 'BLCA', 'BLCA', 'BLCA', 'BLCA', 'BLCA', 'BLCA', 'BLCA', 'BLCA', 'BLCA', 'BLCA', 'BLCA', 'BLCA', 'BLCA', 'BLCA', 'BLCA', 'BLCA', 'BLCA', 'BLCA', 'BLCA', 'BLCA', 'BLCA', 'BLCA', 'BLCA', 'BLCA', 'BLCA', 'BLCA', 'BLCA', 'BLCA', 'BLCA', 'BLCA', 'BLCA', 'BLCA', 'BLCA', 'BLCA', 'BLCA', 'BLCA', 'BLCA', 'BLCA', 'BLCA', 'BLCA', 'BLCA', 'BLCA', 'BLCA', 'BLCA', 'BLCA', 'BLCA', 'BLCA', 'BLCA', 'BLCA', 'BLCA', 'BLCA', 'BLCA', 'BLCA', 'BLCA', 'BLCA', 'BLCA', 'BLCA', 'BLCA', 'BLCA', 'BLCA', 'BLCA', 'BLCA', 'BLCA', 'BLCA', 'BLCA', 'BLCA', 'BLCA', 'BLCA', 'BLCA', 'BLCA', 'BLCA', 'BLCA', 'BLCA', 'BLCA', 'BLCA', 'BLCA', 'BLCA', 'BLCA', 'BLCA', 'BLCA', 'BLCA', 'BLCA', 'BLCA', 'BLCA', 'BLCA', 'BLCA', 'BLCA', 'BLCA', 'BLCA', 'BLCA', 'BLCA', 'BLCA', 'BLCA', 'BLCA', 'BLCA', 'BLCA', 'BLCA', 'BLCA', 'BLCA', 'BLCA', 'BLCA', 'BLCA', 'BLCA', 'BLCA', 'BLCA', 'BLCA', 'BLCA', 'BLCA', 'BLCA', 'BLCA', 'BLCA', 'BLCA', 'BLCA', 'BLCA', 'BLCA', 'BLCA', 'BLCA', 'BLCA', 'BLCA', 'BLCA', 'BLCA', 'BLCA', 'BLCA', 'BLCA', 'BLCA', 'BLCA', 'BLCA', 'BLCA', 'BLCA', 'BLCA', 'BLCA', 'BLCA', 'BLCA', 'BLCA', 'BLCA', 'BLCA', 'BLCA', 'BLCA', 'BLCA', 'BLCA', 'BLCA', 'BLCA', 'BLCA', 'BLCA', 'BLCA', 'BLCA', 'BLCA', 'BLCA', 'BLCA', 'BLCA', 'BLCA', 'BLCA', 'BLCA', 'BLCA', 'BLCA', 'BLCA', 'BLCA', 'BLCA', 'BLCA', 'BLCA', 'BLCA', 'BLCA', 'BLCA', 'BLCA', 'BLCA', 'BLCA', 'BLCA', 'BLCA', 'BLCA', 'BLCA', 'BLCA', 'BLCA', 'BLCA', 'BLCA', 'BLCA', 'BLCA', 'BLCA', 'BLCA', 'BLCA', 'BLCA', 'BLCA', 'BLCA', 'BLCA', 'BLCA', 'BLCA', 'BLCA', 'BLCA', 'BLCA', 'BLCA', 'BLCA', 'BLCA', 'BLCA', 'BLCA', 'BLCA', 'BLCA', 'BLCA', 'BLCA', 'BLCA', 'BLCA', 'BLCA', 'BLCA', 'BLCA', 'BLCA', 'BLCA', 'BLCA', 'BLCA', 'BLCA', 'BLCA', 'BLCA', 'BLCA', 'BLCA', 'BLCA', 'BLCA', 'BLCA', 'BLCA', 'BLCA', 'BLCA', 'BLCA', 'BLCA', 'BLCA', 'BLCA', 'BLCA', 'BLCA', 'BLCA', 'COAD', 'COAD', 'COAD', 'COAD', 'COAD', 'COAD', 'COAD', 'COAD', 'COAD', 'COAD', 'COAD', 'COAD', 'COAD', 'COAD', 'COAD', 'COAD', 'COAD', 'COAD', 'COAD', 'COAD', 'COAD', 'COAD', 'COAD', 'COAD', 'COAD', 'COAD', 'COAD', 'COAD', 'COAD', 'COAD', 'COAD', 'COAD', 'COAD', 'COAD', 'COAD', 'COAD', 'COAD', 'COAD', 'COAD', 'COAD', 'COAD', 'COAD', 'COAD', 'COAD', 'COAD', 'COAD', 'COAD', 'COAD', 'COAD', 'COAD', 'COAD', 'COAD', 'COAD', 'COAD', 'COAD', 'COAD', 'COAD', 'COAD', 'COAD', 'COAD', 'COAD', 'COAD', 'COAD', 'COAD', 'COAD', 'COAD', 'COAD', 'COAD', 'COAD', 'COAD', 'COAD', 'COAD', 'COAD', 'COAD', 'COAD', 'COAD', 'COAD', 'COAD', 'COAD', 'COAD', 'COAD', 'COAD', 'COAD', 'COAD', 'COAD', 'COAD', 'COAD', 'COAD', 'COAD', 'COAD', 'COAD', 'COAD', 'COAD', 'COAD', 'COAD', 'COAD', 'COAD', 'COAD', 'COAD', 'COAD', 'COAD', 'COAD', 'COAD', 'COAD', 'COAD', 'COAD', 'COAD', 'COAD', 'COAD', 'COAD', 'COAD', 'COAD', 'COAD', 'COAD', 'COAD', 'COAD', 'COAD', 'COAD', 'COAD', 'COAD', 'COAD', 'COAD', 'COAD', 'COAD', 'COAD', 'COAD', 'COAD', 'COAD', 'COAD', 'COAD', 'COAD', 'COAD', 'COAD', 'COAD', 'COAD', 'COAD', 'COAD', 'COAD', 'COAD', 'COAD', 'COAD', 'COAD', 'COAD', 'COAD', 'COAD', 'COAD', 'COAD', 'COAD', 'COAD', 'COAD', 'COAD', 'COAD', 'COAD', 'COAD', 'COAD', 'COAD', 'COAD', 'COAD', 'COAD', 'COAD', 'COAD', 'COAD', 'COAD', 'COAD', 'COAD', 'COAD', 'COAD', 'COAD', 'COAD', 'COAD', 'COAD', 'COAD', 'COAD', 'COAD', 'COAD', 'COAD', 'COAD', 'COAD', 'COAD', 'COAD', 'COAD', 'COAD', 'COAD', 'COAD', 'COAD', 'COAD', 'COAD', 'COAD', 'COAD', 'COAD', 'COAD', 'COAD', 'COAD', 'COAD', 'COAD', 'COAD', 'COAD', 'COAD', 'COAD', 'COAD', 'COAD', 'COAD', 'COAD', 'COAD', 'COAD', 'COAD', 'COAD', 'COAD', 'COAD', 'COAD', 'COAD', 'COAD', 'COAD', 'COAD', 'COAD', 'COAD', 'COAD', 'COAD', 'COAD', 'COAD', 'COAD', 'COAD', 'COAD', 'COAD', 'COAD', 'COAD', 'COAD', 'COAD', 'COAD', 'COAD', 'COAD', 'COAD', 'COAD', 'COAD', 'COAD', 'COAD', 'COAD', 'COAD', 'COAD', 'COAD', 'COAD', 'COAD', 'COAD', 'COAD', 'COAD', 'COAD', 'COAD', 'COAD', 'COAD', 'COAD', 'COAD', 'COAD', 'COAD', 'COAD', 'COAD', 'COAD', 'COAD', 'COAD', 'COAD', 'COAD', 'COAD', 'COAD', 'COAD', 'COAD', 'COAD', 'COAD', 'COAD', 'COAD', 'COAD', 'COAD', 'COAD', 'COAD', 'COAD', 'COAD', 'COAD', 'COAD', 'COAD', 'COAD', 'COAD', 'COAD', 'COAD', 'COAD', 'COAD', 'COAD', 'COAD', 'COAD', 'COAD', 'COAD', 'COAD', 'COAD', 'COAD', 'COAD', 'COAD', 'COAD', 'COAD', 'COAD', 'COAD', 'COAD', 'COAD', 'COAD', 'COAD', 'COAD', 'COAD', 'COAD', 'COAD', 'COAD', 'COAD', 'COAD', 'COAD', 'COAD', 'COAD', 'COAD', 'COAD', 'COAD', 'COAD', 'COAD', 'COAD', 'COAD', 'COAD', 'COAD', 'COAD', 'COAD', 'COAD', 'COAD', 'COAD', 'COAD', 'COAD', 'COAD', 'COAD', 'COAD', 'COAD', 'COAD', 'COAD', 'COAD', 'COAD', 'COAD', 'COAD', 'COAD', 'COAD', 'COAD', 'COAD', 'COAD', 'COAD', 'COAD', 'COAD', 'COAD', 'COAD', 'COAD', 'COAD', 'COAD', 'COAD', 'COAD', 'COAD', 'COAD', 'COAD', 'COAD', 'COAD', 'COAD', 'COAD', 'COAD', 'COAD', 'COAD', 'COAD', 'COAD', 'COAD', 'COAD', 'COAD', 'COAD', 'COAD', 'COAD', 'COAD', 'COAD', 'COAD', 'COAD', 'COAD', 'COAD', 'COAD', 'COAD', 'COAD', 'COAD', 'COAD', 'COAD', 'COAD', 'COAD', 'COAD', 'COAD', 'COAD', 'COAD', 'COAD', 'COAD', 'COAD', 'COAD', 'COAD', 'COAD', 'COAD', 'COAD', 'COAD', 'COAD', 'COAD', 'COAD', 'COAD', 'COAD', 'COAD', 'COAD', 'COAD', 'COAD', 'COAD', 'COAD', 'COAD', 'COAD', 'COAD', 'COAD', 'COAD', 'COAD', 'COAD', 'COAD', 'COAD', 'COAD', 'COAD', 'COAD', 'COAD', 'COAD', 'COAD', 'COAD', 'COAD', 'COAD', 'COAD', 'COAD', 'COAD', 'COAD', 'COAD', 'COAD', 'COAD', 'COAD', 'COAD', 'COAD', 'COAD', 'COAD', 'COAD', 'COAD', 'COAD', 'COAD', 'COAD', 'COAD', 'COAD', 'COAD', 'COAD', 'COAD', 'COAD', 'COAD', 'COAD', 'COAD', 'COAD', 'COAD', 'COAD', 'COAD', 'COAD', 'COAD', 'COAD', 'COAD', 'COAD', 'COAD', 'COAD', 'COAD', 'COAD', 'KIRP', 'KIRP', 'KIRP', 'KIRP', 'KIRP', 'KIRP', 'KIRP', 'KIRP', 'KIRP', 'KIRP', 'KIRP', 'KIRP', 'KIRP', 'KIRP', 'KIRP', 'KIRP', 'KIRP', 'KIRP', 'KIRP', 'KIRP', 'KIRP', 'KIRP', 'KIRP', 'KIRP', 'KIRP', 'KIRP', 'KIRP', 'KIRP', 'KIRP', 'KIRP', 'KIRP', 'KIRP', 'KIRP', 'KIRP', 'KIRP', 'KIRP', 'KIRP', 'KIRP', 'KIRP', 'KIRP', 'KIRP', 'KIRP', 'KIRP', 'KIRP', 'KIRP', 'KIRP', 'KIRP', 'KIRP', 'KIRP', 'KIRP', 'KIRP', 'KIRP', 'KIRP', 'KIRP', 'KIRP', 'KIRP', 'KIRP', 'KIRP', 'KIRP', 'KIRP', 'KIRP', 'KIRP', 'KIRP', 'KIRP', 'KIRP', 'KIRP', 'KIRP', 'KIRP', 'KIRP', 'KIRP', 'KIRP', 'KIRP', 'KIRP', 'KIRP', 'KIRP', 'KIRP', 'KIRP', 'KIRP', 'KIRP', 'KIRP', 'KIRP', 'KIRP', 'KIRP', 'KIRP', 'KIRP', 'KIRP', 'KIRP', 'KIRP', 'KIRP', 'KIRP', 'KIRP', 'KIRP', 'KIRP', 'KIRP', 'KIRP', 'KIRP', 'KIRP', 'KIRP', 'KIRP', 'KIRP', 'KIRP', 'KIRP', 'KIRP', 'KIRP', 'KIRP', 'KIRP', 'KIRP', 'KIRP', 'KIRP', 'KIRP', 'KIRP', 'KIRP', 'KIRP', 'KIRP', 'KIRP', 'KIRP', 'KIRP', 'KIRP', 'KIRP', 'KIRP', 'KIRP', 'KIRP', 'KIRP', 'KIRP', 'KIRP', 'KIRP', 'KIRP', 'KIRP', 'KIRP', 'KIRP', 'KIRP', 'KIRP', 'KIRP', 'KIRP', 'KIRP', 'KIRP', 'KIRP', 'KIRP', 'KIRP', 'KIRP', 'KIRP', 'KIRP', 'KIRP', 'KIRP', 'KIRP', 'KIRP', 'KIRP', 'KIRP', 'KIRP', 'KIRP', 'KIRP', 'KIRP', 'KIRP', 'KIRP', 'KIRP', 'KIRP', 'KIRP', 'KIRP', 'KIRP', 'KIRP', 'KIRP', 'KIRP', 'KIRP', 'KIRP', 'KIRP', 'KIRP', 'KIRP', 'KIRP', 'KIRP', 'KIRP', 'KIRP', 'KIRP', 'KIRP', 'KIRP', 'KIRP', 'KIRP', 'KIRP', 'KIRP', 'KIRP', 'KIRP', 'KIRP', 'KIRP', 'KIRP', 'KIRP', 'KIRP', 'KIRP', 'KIRP', 'KIRP', 'KIRP', 'KIRP', 'KIRP', 'KIRP', 'KIRP', 'KIRP', 'KIRP', 'KIRP', 'KIRP', 'KIRP', 'KIRP', 'KIRP', 'KIRP', 'KIRP', 'KIRP', 'KIRP', 'KIRP', 'KIRP', 'KIRP', 'KIRP', 'KIRP', 'KIRP', 'KIRP', 'KIRP', 'KIRP', 'KIRP', 'KIRP', 'KIRP', 'KIRP', 'KIRP', 'KIRP', 'KIRP', 'KIRP', 'KIRP', 'KIRP', 'KIRP', 'KIRP', 'KIRP', 'KIRP', 'KIRP', 'KIRP', 'KIRP', 'KIRP', 'KIRP', 'KIRP', 'KIRP', 'KIRP', 'KIRP', 'KIRP', 'KIRP', 'KIRP', 'KIRP', 'KIRP', 'KIRP', 'KIRP', 'KIRP', 'KIRP', 'KIRP', 'KIRP', 'KIRP', 'KIRP', 'KIRP', 'KIRP', 'KIRP', 'KIRP', 'KIRP', 'KIRP', 'KIRP', 'KIRP', 'KIRP', 'KIRP', 'KIRP', 'KIRP', 'KIRP', 'KIRP', 'KIRP', 'KIRP', 'KIRP', 'KIRP', 'KIRP', 'KIRP', 'KIRP', 'KIRP', 'KIRP', 'KIRP', 'KIRP', 'KIRP', 'KIRP', 'KIRP', 'KIRP', 'KIRP', 'KIRP', 'KIRP', 'KIRP', 'KIRP', 'KIRP', 'KIRP', 'KIRP', 'KIRP', 'KIRP', 'KIRP', 'KIRP', 'KIRP', 'KIRP', 'KIRP', 'KIRP', 'KIRP', 'KIRP', 'KIRP', 'KIRP', 'KIRP', 'KIRP', 'KIRP', 'KIRP', 'KIRP', 'KIRP', 'KIRP', 'KIRP', 'KIRP', 'KIRP', 'KIRP', 'KIRP', 'KIRP', 'KIRP', 'KIRP', 'KIRP', 'KIRP', 'KIRP', 'KIRP', 'KIRP', 'KIRP', 'KIRP', 'KIRP', 'KIRP', 'KIRP', 'KIRP', 'KIRP', 'KIRP', 'CESC', 'CESC', 'CESC', 'CESC', 'CESC', 'CESC', 'CESC', 'CESC', 'CESC', 'CESC', 'CESC', 'CESC', 'CESC', 'CESC', 'CESC', 'CESC', 'CESC', 'CESC', 'CESC', 'CESC', 'CESC', 'CESC', 'CESC', 'CESC', 'CESC', 'CESC', 'CESC', 'CESC', 'CESC', 'CESC', 'CESC', 'CESC', 'CESC', 'CESC', 'CESC', 'CESC', 'CESC', 'CESC', 'CESC', 'CESC', 'CESC', 'CESC', 'CESC', 'CESC', 'CESC', 'CESC', 'CESC', 'CESC', 'CESC', 'CESC', 'CESC', 'CESC', 'CESC', 'CESC', 'CESC', 'CESC', 'CESC', 'CESC', 'CESC', 'CESC', 'CESC', 'CESC', 'CESC', 'CESC', 'CESC', 'CESC', 'CESC', 'CESC', 'CESC', 'CESC', 'CESC', 'CESC', 'CESC', 'CESC', 'CESC', 'CESC', 'CESC', 'CESC', 'CESC', 'CESC', 'CESC', 'CESC', 'CESC', 'CESC', 'CESC', 'CESC', 'CESC', 'CESC', 'CESC', 'CESC', 'CESC', 'CESC', 'CESC', 'CESC', 'CESC', 'CESC', 'CESC', 'CESC', 'CESC', 'CESC', 'CESC', 'CESC', 'CESC', 'CESC', 'CESC', 'CESC', 'CESC', 'CESC', 'CESC', 'CESC', 'CESC', 'CESC', 'CESC', 'CESC', 'CESC', 'CESC', 'CESC', 'CESC', 'CESC', 'CESC', 'CESC', 'CESC', 'CESC', 'CESC', 'CESC', 'CESC', 'CESC', 'CESC', 'CESC', 'CESC', 'CESC', 'CESC', 'CESC', 'CESC', 'CESC', 'CESC', 'CESC', 'CESC', 'CESC', 'CESC', 'CESC', 'CESC', 'CESC', 'CESC', 'CESC', 'CESC', 'CESC', 'CESC', 'CESC', 'CESC', 'CESC', 'CESC', 'CESC', 'CESC', 'CESC', 'CESC', 'CESC', 'CESC', 'CESC', 'CESC', 'CESC', 'CESC', 'CESC', 'CESC', 'CESC', 'CESC', 'CESC', 'CESC', 'CESC', 'CESC', 'CESC', 'CESC', 'CESC', 'CESC', 'CESC', 'CESC', 'CESC', 'CESC', 'CESC', 'CESC', 'CESC', 'CESC', 'CESC', 'CESC', 'CESC', 'CESC', 'CESC', 'CESC', 'CESC', 'CESC', 'CESC', 'CESC', 'CESC', 'CESC', 'CESC', 'CESC', 'CESC', 'CESC', 'CESC', 'CESC', 'CESC', 'CESC', 'CESC', 'CESC', 'CESC', 'CESC', 'CESC', 'CESC', 'CESC', 'CESC', 'CESC', 'CESC', 'CESC', 'CESC', 'CESC', 'CESC', 'CESC', 'CESC', 'CESC', 'CESC', 'CESC', 'CESC', 'CESC', 'CESC', 'CESC', 'CESC', 'CESC', 'CESC', 'CESC', 'CESC', 'CESC', 'CESC', 'CESC', 'CESC', 'CESC', 'CESC', 'CESC', 'CESC', 'CESC', 'CESC', 'CESC', 'CESC', 'CESC', 'CESC', 'CESC', 'CESC', 'CESC', 'CESC', 'CESC', 'CESC', 'CESC', 'CESC', 'CESC', 'CESC', 'CESC', 'CESC', 'CESC', 'CESC', 'CESC', 'CESC', 'CESC', 'CESC', 'CESC', 'CESC', 'CESC', 'CESC', 'CESC', 'CESC', 'CESC', 'CESC', 'CESC', 'CESC', 'CESC', 'CESC', 'CESC', 'CESC', 'CESC', 'CESC', 'CESC', 'CESC', 'CESC', 'CESC', 'CESC', 'CESC', 'CESC', 'CESC', 'CESC', 'CESC', 'CESC', 'CESC', 'CESC', 'CESC', 'CESC', 'CESC', 'CESC', 'CESC', 'CESC', 'CESC', 'CESC', 'CESC', 'CESC', 'CESC', 'CESC', 'CESC', 'CESC', 'CESC', 'CESC', 'CESC', 'CESC', 'CESC', 'CESC', 'CESC', 'HNSC', 'HNSC', 'HNSC', 'HNSC', 'HNSC', 'HNSC', 'HNSC', 'HNSC', 'HNSC', 'HNSC', 'HNSC', 'HNSC', 'HNSC', 'HNSC', 'HNSC', 'HNSC', 'HNSC', 'HNSC', 'HNSC', 'HNSC', 'HNSC', 'HNSC', 'HNSC', 'HNSC', 'HNSC', 'HNSC', 'HNSC', 'HNSC', 'HNSC', 'HNSC', 'HNSC', 'HNSC', 'HNSC', 'HNSC', 'HNSC', 'HNSC', 'HNSC', 'HNSC', 'HNSC', 'HNSC', 'HNSC', 'HNSC', 'HNSC', 'HNSC', 'HNSC', 'HNSC', 'HNSC', 'HNSC', 'HNSC', 'HNSC', 'HNSC', 'HNSC', 'HNSC', 'HNSC', 'HNSC', 'HNSC', 'HNSC', 'HNSC', 'HNSC', 'HNSC', 'HNSC', 'HNSC', 'HNSC', 'HNSC', 'HNSC', 'HNSC', 'HNSC', 'HNSC', 'HNSC', 'HNSC', 'HNSC', 'HNSC', 'HNSC', 'HNSC', 'HNSC', 'HNSC', 'HNSC', 'HNSC', 'HNSC', 'HNSC', 'HNSC', 'HNSC', 'HNSC', 'HNSC', 'HNSC', 'HNSC', 'HNSC', 'HNSC', 'HNSC', 'HNSC', 'HNSC', 'HNSC', 'HNSC', 'HNSC', 'HNSC', 'HNSC', 'HNSC', 'HNSC', 'HNSC', 'HNSC', 'HNSC', 'HNSC', 'HNSC', 'HNSC', 'HNSC', 'HNSC', 'HNSC', 'HNSC', 'HNSC', 'HNSC', 'HNSC', 'HNSC', 'HNSC', 'HNSC', 'HNSC', 'HNSC', 'HNSC', 'HNSC', 'HNSC', 'HNSC', 'HNSC', 'HNSC', 'HNSC', 'HNSC', 'HNSC', 'HNSC', 'HNSC', 'HNSC', 'HNSC', 'HNSC', 'HNSC', 'HNSC', 'HNSC', 'HNSC', 'HNSC', 'HNSC', 'HNSC', 'HNSC', 'HNSC', 'HNSC', 'HNSC', 'HNSC', 'HNSC', 'HNSC', 'HNSC', 'HNSC', 'HNSC', 'HNSC', 'HNSC', 'HNSC', 'HNSC', 'HNSC', 'HNSC', 'HNSC', 'HNSC', 'HNSC', 'HNSC', 'HNSC', 'HNSC', 'HNSC', 'HNSC', 'HNSC', 'HNSC', 'HNSC', 'HNSC', 'HNSC', 'HNSC', 'HNSC', 'HNSC', 'HNSC', 'HNSC', 'HNSC', 'HNSC', 'HNSC', 'HNSC', 'HNSC', 'HNSC', 'HNSC', 'HNSC', 'HNSC', 'HNSC', 'HNSC', 'HNSC', 'HNSC', 'HNSC', 'HNSC', 'HNSC', 'HNSC', 'HNSC', 'HNSC', 'HNSC', 'HNSC', 'HNSC', 'HNSC', 'HNSC', 'HNSC', 'HNSC', 'HNSC', 'HNSC', 'HNSC', 'HNSC', 'HNSC', 'HNSC', 'HNSC', 'HNSC', 'HNSC', 'HNSC', 'HNSC', 'HNSC', 'HNSC', 'HNSC', 'HNSC', 'HNSC', 'HNSC', 'HNSC', 'HNSC', 'HNSC', 'HNSC', 'HNSC', 'HNSC', 'HNSC', 'HNSC', 'HNSC', 'HNSC', 'HNSC', 'HNSC', 'HNSC', 'HNSC', 'HNSC', 'HNSC', 'HNSC', 'HNSC', 'HNSC', 'HNSC', 'HNSC', 'HNSC', 'HNSC', 'HNSC', 'HNSC', 'HNSC', 'HNSC', 'HNSC', 'HNSC', 'HNSC', 'HNSC', 'HNSC', 'HNSC', 'HNSC', 'HNSC', 'HNSC', 'HNSC', 'HNSC', 'HNSC', 'HNSC', 'HNSC', 'HNSC', 'HNSC', 'HNSC', 'HNSC', 'HNSC', 'HNSC', 'HNSC', 'HNSC', 'HNSC', 'HNSC', 'HNSC', 'HNSC', 'HNSC', 'HNSC', 'HNSC', 'HNSC', 'HNSC', 'HNSC', 'HNSC', 'HNSC', 'HNSC', 'HNSC', 'HNSC', 'HNSC', 'HNSC', 'HNSC', 'HNSC', 'HNSC', 'HNSC', 'HNSC', 'HNSC', 'HNSC', 'HNSC', 'HNSC', 'HNSC', 'HNSC', 'HNSC', 'HNSC', 'HNSC', 'HNSC', 'HNSC', 'HNSC', 'HNSC', 'HNSC', 'HNSC', 'HNSC', 'HNSC', 'HNSC', 'HNSC', 'HNSC', 'HNSC', 'HNSC', 'HNSC', 'HNSC', 'HNSC', 'HNSC', 'HNSC', 'HNSC', 'HNSC', 'HNSC', 'HNSC', 'HNSC', 'HNSC', 'HNSC', 'HNSC', 'HNSC', 'HNSC', 'HNSC', 'HNSC', 'HNSC', 'HNSC', 'HNSC', 'HNSC', 'HNSC', 'HNSC', 'HNSC', 'HNSC', 'HNSC', 'HNSC', 'HNSC', 'HNSC', 'HNSC', 'HNSC', 'HNSC', 'HNSC', 'HNSC', 'HNSC', 'HNSC', 'HNSC', 'HNSC', 'HNSC', 'HNSC', 'HNSC', 'HNSC', 'HNSC', 'HNSC', 'HNSC', 'HNSC', 'HNSC', 'HNSC', 'HNSC', 'HNSC', 'HNSC', 'HNSC', 'HNSC', 'HNSC', 'HNSC', 'HNSC', 'HNSC', 'HNSC', 'HNSC', 'HNSC', 'HNSC', 'HNSC', 'HNSC', 'HNSC', 'HNSC', 'HNSC', 'HNSC', 'HNSC', 'HNSC', 'HNSC', 'HNSC', 'HNSC', 'HNSC', 'HNSC', 'HNSC', 'HNSC', 'HNSC', 'HNSC', 'HNSC', 'HNSC', 'HNSC', 'HNSC', 'HNSC', 'HNSC', 'HNSC', 'HNSC', 'HNSC', 'HNSC', 'HNSC', 'HNSC', 'HNSC', 'HNSC', 'HNSC', 'HNSC', 'HNSC', 'HNSC', 'HNSC', 'HNSC', 'HNSC', 'HNSC', 'HNSC', 'HNSC', 'HNSC', 'HNSC', 'HNSC', 'HNSC', 'HNSC', 'HNSC', 'HNSC', 'HNSC', 'HNSC', 'HNSC', 'HNSC', 'HNSC', 'HNSC', 'HNSC', 'HNSC', 'HNSC', 'HNSC', 'HNSC', 'HNSC', 'HNSC', 'HNSC', 'HNSC', 'HNSC', 'HNSC', 'HNSC', 'HNSC', 'HNSC', 'HNSC', 'HNSC', 'HNSC', 'HNSC', 'HNSC', 'HNSC', 'HNSC', 'HNSC', 'HNSC', 'HNSC', 'HNSC', 'HNSC', 'HNSC', 'HNSC', 'HNSC', 'HNSC', 'HNSC', 'HNSC', 'HNSC', 'HNSC', 'HNSC', 'HNSC', 'HNSC', 'HNSC', 'HNSC', 'HNSC', 'HNSC', 'HNSC', 'HNSC', 'HNSC', 'HNSC', 'HNSC', 'HNSC', 'HNSC', 'HNSC', 'HNSC', 'HNSC', 'HNSC', 'HNSC', 'HNSC', 'HNSC', 'HNSC', 'HNSC', 'HNSC', 'HNSC', 'HNSC', 'HNSC', 'HNSC', 'HNSC', 'HNSC', 'HNSC', 'HNSC', 'HNSC', 'HNSC', 'HNSC', 'HNSC', 'HNSC', 'HNSC', 'HNSC', 'STAD', 'STAD', 'STAD', 'STAD', 'STAD', 'STAD', 'STAD', 'STAD', 'STAD', 'STAD', 'STAD', 'STAD', 'STAD', 'STAD', 'STAD', 'STAD', 'STAD', 'STAD', 'STAD', 'STAD', 'STAD', 'STAD', 'STAD', 'STAD', 'STAD', 'STAD', 'STAD', 'STAD', 'STAD', 'STAD', 'STAD', 'STAD', 'STAD', 'STAD', 'STAD', 'STAD', 'STAD', 'STAD', 'STAD', 'STAD', 'STAD', 'STAD', 'STAD', 'STAD', 'STAD', 'STAD', 'STAD', 'STAD', 'STAD', 'STAD', 'STAD', 'STAD', 'STAD', 'STAD', 'STAD', 'STAD', 'STAD', 'STAD', 'STAD', 'STAD', 'STAD', 'STAD', 'STAD', 'STAD', 'STAD', 'STAD', 'STAD', 'STAD', 'STAD', 'STAD', 'STAD', 'STAD', 'STAD', 'STAD', 'STAD', 'STAD', 'STAD', 'STAD', 'STAD', 'STAD', 'STAD', 'STAD', 'STAD', 'STAD', 'STAD', 'STAD', 'STAD', 'STAD', 'STAD', 'STAD', 'STAD', 'STAD', 'STAD', 'STAD', 'STAD', 'STAD', 'STAD', 'STAD', 'STAD', 'STAD', 'STAD', 'STAD', 'STAD', 'STAD', 'STAD', 'STAD', 'STAD', 'STAD', 'STAD', 'STAD', 'STAD', 'STAD', 'STAD', 'STAD', 'STAD', 'STAD', 'STAD', 'STAD', 'STAD', 'STAD', 'STAD', 'STAD', 'STAD', 'STAD', 'STAD', 'STAD', 'STAD', 'STAD', 'STAD', 'STAD', 'STAD', 'STAD', 'STAD', 'STAD', 'STAD', 'STAD', 'STAD', 'STAD', 'STAD', 'STAD', 'STAD', 'STAD', 'STAD', 'STAD', 'STAD', 'STAD', 'STAD', 'STAD', 'STAD', 'STAD', 'STAD', 'STAD', 'STAD', 'STAD', 'STAD', 'STAD', 'STAD', 'STAD', 'STAD', 'STAD', 'STAD', 'STAD', 'STAD', 'STAD', 'STAD', 'STAD', 'STAD', 'STAD', 'STAD', 'STAD', 'STAD', 'STAD', 'STAD', 'STAD', 'STAD', 'STAD', 'STAD', 'STAD', 'STAD', 'STAD', 'STAD', 'STAD', 'STAD', 'STAD', 'STAD', 'STAD', 'STAD', 'STAD', 'STAD', 'STAD', 'STAD', 'STAD', 'STAD', 'STAD', 'STAD', 'STAD', 'STAD', 'STAD', 'STAD', 'STAD', 'STAD', 'STAD', 'STAD', 'STAD', 'STAD', 'STAD', 'STAD', 'STAD', 'STAD', 'STAD', 'STAD', 'STAD', 'STAD', 'STAD', 'STAD', 'STAD', 'STAD', 'STAD', 'STAD', 'STAD', 'STAD', 'STAD', 'STAD', 'STAD', 'STAD', 'STAD', 'STAD', 'STAD', 'STAD', 'STAD', 'STAD', 'STAD', 'STAD', 'STAD', 'STAD', 'STAD', 'STAD', 'STAD', 'STAD', 'STAD', 'STAD', 'STAD', 'STAD', 'STAD', 'STAD', 'STAD', 'STAD', 'STAD', 'STAD', 'STAD', 'STAD', 'STAD', 'STAD', 'STAD', 'STAD', 'STAD', 'STAD', 'STAD', 'STAD', 'STAD', 'STAD', 'STAD', 'STAD', 'STAD', 'STAD', 'STAD', 'STAD', 'STAD', 'STAD', 'STAD', 'STAD', 'STAD', 'STAD', 'STAD', 'STAD', 'STAD', 'STAD', 'STAD', 'STAD', 'STAD', 'STAD', 'STAD', 'STAD', 'STAD', 'STAD', 'STAD', 'STAD', 'STAD', 'STAD', 'STAD', 'STAD', 'STAD', 'STAD', 'STAD', 'STAD', 'STAD', 'STAD', 'STAD', 'STAD', 'STAD', 'STAD', 'STAD', 'STAD', 'STAD', 'STAD', 'STAD', 'STAD', 'STAD', 'STAD', 'STAD', 'STAD', 'STAD', 'STAD', 'STAD', 'STAD', 'STAD', 'STAD', 'STAD', 'STAD', 'STAD', 'STAD', 'STAD', 'STAD', 'STAD', 'STAD', 'STAD', 'STAD', 'STAD', 'STAD', 'STAD', 'STAD', 'STAD', 'STAD', 'STAD', 'STAD', 'STAD', 'STAD', 'STAD', 'STAD', 'STAD', 'STAD', 'STAD', 'STAD', 'STAD', 'STAD', 'STAD', 'STAD', 'STAD', 'STAD', 'STAD', 'STAD', 'STAD', 'STAD', 'STAD', 'STAD', 'STAD', 'STAD', 'STAD', 'STAD', 'STAD', 'STAD', 'STAD', 'STAD', 'STAD', 'STAD', 'STAD', 'STAD', 'STAD', 'STAD', 'STAD', 'STAD', 'STAD', 'STAD', 'STAD', 'STAD', 'STAD', 'STAD', 'STAD', 'STAD', 'STAD', 'STAD', 'STAD', 'STAD', 'STAD', 'STAD', 'STAD', 'STAD', 'STAD', 'STAD', 'STAD', 'STAD', 'STAD', 'STAD', 'STAD', 'STAD', 'STAD', 'STAD', 'STAD', 'STAD', 'STAD', 'STAD', 'STAD', 'STAD', 'STAD', 'STAD', 'STAD', 'STAD', 'STAD', 'STAD', 'STAD', 'STAD', 'STAD', 'STAD', 'STAD', 'STAD', 'STAD', 'STAD', 'STAD', 'STAD', 'STAD', 'STAD', 'STAD', 'STAD', 'STAD', 'STAD', 'STAD', 'STAD', 'STAD', 'STAD', 'STAD', 'STAD', 'STAD', 'STAD', 'STAD', 'STAD', 'STAD', 'STAD', 'STAD', 'STAD', 'STAD', 'STAD', 'STAD', 'UCS', 'UCS', 'UCS', 'UCS', 'UCS', 'UCS', 'UCS', 'UCS', 'UCS', 'UCS', 'UCS', 'UCS', 'UCS', 'UCS', 'UCS', 'UCS', 'UCS', 'UCS', 'UCS', 'UCS', 'UCS', 'UCS', 'UCS', 'UCS', 'UCS', 'UCS', 'UCS', 'UCS', 'UCS', 'UCS', 'UCS', 'UCS', 'UCS', 'UCS', 'UCS', 'UCS', 'UCS', 'UCS', 'UCS', 'UCS', 'UCS', 'UCS', 'UCS', 'UCS', 'UCS', 'UCS', 'UCS', 'UCS', 'UCS', 'UCS', 'UCS', 'UCS', 'UCS', 'UCS', 'UCS', 'UCS', 'UCS', 'STAD', 'STAD', 'STAD', 'STAD', 'STAD', 'STAD', 'STAD', 'STAD', 'STAD', 'STAD', 'STAD', 'STAD', 'STAD', 'STAD', 'STAD', 'STAD', 'STAD', 'STAD', 'STAD', 'STAD', 'STAD', 'STAD', 'STAD', 'STAD', 'STAD', 'STAD', 'STAD', 'STAD', 'STAD', 'STAD', 'STAD', 'STAD', 'STAD', 'STAD', 'STAD', 'STAD', 'STAD', 'STAD', 'STAD', 'STAD', 'STAD', 'STAD', 'STAD', 'STAD', 'STAD', 'STAD', 'STAD', 'STAD', 'STAD', 'HNSC', 'HNSC', 'HNSC', 'HNSC', 'HNSC', 'HNSC', 'HNSC', 'HNSC', 'HNSC', 'HNSC', 'HNSC', 'HNSC', 'HNSC', 'HNSC', 'HNSC', 'HNSC', 'HNSC', 'HNSC', 'HNSC', 'HNSC', 'HNSC', 'HNSC', 'HNSC', 'HNSC', 'HNSC', 'HNSC', 'HNSC', 'HNSC', 'HNSC', 'HNSC', 'HNSC', 'HNSC', 'HNSC', 'HNSC', 'HNSC', 'HNSC', 'HNSC', 'HNSC', 'HNSC', 'HNSC', 'HNSC', 'HNSC', 'HNSC', 'HNSC', 'HNSC', 'HNSC', 'HNSC', 'HNSC', 'HNSC', 'HNSC', 'HNSC', 'HNSC', 'HNSC', 'HNSC', 'HNSC', 'HNSC', 'HNSC', 'HNSC', 'HNSC', 'HNSC', 'HNSC', 'HNSC', 'HNSC', 'HNSC', 'HNSC', 'HNSC', 'HNSC', 'HNSC', 'HNSC', 'HNSC', 'HNSC', 'HNSC', 'HNSC', 'HNSC', 'THYM', 'THYM', 'THYM', 'THYM', 'THYM', 'THYM', 'THYM', 'THYM', 'THYM', 'THYM', 'THYM', 'THYM', 'THYM', 'THYM', 'THYM', 'THYM', 'THYM', 'THYM', 'THYM', 'THYM', 'THYM', 'THYM', 'THYM', 'THYM', 'THYM', 'THYM', 'THYM', 'THYM', 'THYM', 'THYM', 'THYM', 'THYM', 'THYM', 'THYM', 'THYM', 'THYM', 'THYM', 'THYM', 'THYM', 'THYM', 'THYM', 'THYM', 'THYM', 'THYM', 'THYM', 'THYM', 'THYM', 'THYM', 'THYM', 'THYM', 'THYM', 'THYM', 'THYM', 'THYM', 'THYM', 'THYM', 'THYM', 'THYM', 'THYM', 'THYM', 'THYM', 'THYM', 'THYM', 'THYM', 'THYM', 'THYM', 'THYM', 'THYM', 'THYM', 'THYM', 'THYM', 'THYM', 'THYM', 'THYM', 'THYM', 'THYM', 'THYM', 'THYM', 'THYM', 'THYM', 'THYM', 'THYM', 'THYM', 'THYM', 'THYM', 'THYM', 'THYM', 'THYM', 'THYM', 'THYM', 'THYM', 'THYM', 'THYM', 'THYM', 'THYM', 'THYM', 'THYM', 'THYM', 'THYM', 'THYM', 'THYM', 'THYM', 'THYM', 'THYM', 'THYM', 'THYM', 'THYM', 'THYM', 'THYM', 'THYM', 'THYM', 'THYM', 'THYM', 'THYM', 'THYM', 'THYM', 'THYM', 'THYM', 'THYM', 'THYM', 'THYM', 'THYM', 'THYM', 'PAAD', 'PAAD', 'PAAD', 'PAAD', 'PAAD', 'PAAD', 'PAAD', 'PAAD', 'PAAD', 'PAAD', 'PAAD', 'PAAD', 'PAAD', 'PAAD', 'PAAD', 'PAAD', 'PAAD', 'PAAD', 'PAAD', 'PAAD', 'PAAD', 'PAAD', 'PAAD', 'PAAD', 'PAAD', 'PAAD', 'PAAD', 'PAAD', 'PAAD', 'PAAD', 'PAAD', 'PAAD', 'PAAD', 'PAAD', 'PAAD', 'PAAD', 'PAAD', 'PAAD', 'PAAD', 'PAAD', 'PAAD', 'PAAD', 'PAAD', 'PAAD', 'PAAD', 'PAAD', 'PAAD', 'PAAD', 'PAAD', 'PAAD', 'PAAD', 'PAAD', 'PAAD', 'PAAD', 'PAAD', 'PAAD', 'PAAD', 'PAAD', 'PAAD', 'PAAD', 'PAAD', 'PAAD', 'PAAD', 'PAAD', 'PAAD', 'PAAD', 'PAAD', 'PAAD', 'PAAD', 'PAAD', 'PAAD', 'PAAD', 'PAAD', 'PAAD', 'PAAD', 'PAAD', 'PAAD', 'PAAD', 'PAAD', 'PAAD', 'PAAD', 'PAAD', 'PAAD', 'PAAD', 'PAAD', 'PAAD', 'PAAD', 'PAAD', 'PAAD', 'PAAD', 'PAAD', 'PAAD', 'PAAD', 'PAAD', 'PAAD', 'PAAD', 'PAAD', 'PAAD', 'PAAD', 'PAAD', 'PAAD', 'PAAD', 'PAAD', 'PAAD', 'PAAD', 'PAAD', 'PAAD', 'PAAD', 'PAAD', 'PAAD', 'PAAD', 'PAAD', 'PAAD', 'PAAD', 'PAAD', 'PAAD', 'PAAD', 'PAAD', 'PAAD', 'PAAD', 'PAAD', 'PAAD', 'PAAD', 'PAAD', 'PAAD', 'PAAD', 'PAAD', 'PAAD', 'PAAD', 'PAAD', 'PAAD', 'PAAD', 'PAAD', 'PAAD', 'PAAD', 'PAAD', 'PAAD', 'PAAD', 'PAAD', 'PAAD', 'PAAD', 'PAAD', 'PAAD', 'PAAD', 'PAAD', 'PAAD', 'PAAD', 'PAAD', 'PAAD', 'PAAD', 'PAAD', 'PAAD', 'PAAD', 'PAAD', 'PAAD', 'PAAD', 'PAAD', 'PAAD', 'PAAD', 'PAAD', 'PAAD', 'PAAD', 'PAAD', 'PAAD', 'PAAD', 'PAAD', 'PAAD', 'PAAD', 'PAAD', 'PAAD', 'PAAD', 'PAAD', 'PAAD', 'PAAD', 'PAAD', 'PAAD', 'PAAD', 'PAAD', 'PAAD', 'PAAD', 'PAAD', 'PAAD', 'PAAD', 'PCPG', 'PCPG', 'PCPG', 'PCPG', 'PCPG', 'PCPG', 'PCPG', 'PCPG', 'PCPG', 'PCPG', 'PCPG', 'PCPG', 'PCPG', 'PCPG', 'PCPG', 'PCPG', 'PCPG', 'PCPG', 'PCPG', 'PCPG', 'PCPG', 'PCPG', 'PCPG', 'PCPG', 'PCPG', 'PCPG', 'PCPG', 'PCPG', 'PCPG', 'PCPG', 'PCPG', 'PCPG', 'PCPG', 'PCPG', 'PCPG', 'PCPG', 'PCPG', 'PCPG', 'PCPG', 'PCPG', 'PCPG', 'PCPG', 'PCPG', 'PCPG', 'PCPG', 'PCPG', 'PCPG', 'PCPG', 'PCPG', 'PCPG', 'PCPG', 'PCPG', 'PCPG', 'PCPG', 'PCPG', 'PCPG', 'PCPG', 'PCPG', 'PCPG', 'PCPG', 'PCPG', 'PCPG', 'PCPG', 'PCPG', 'PCPG', 'PCPG', 'PCPG', 'PCPG', 'PCPG', 'PCPG', 'PCPG', 'PCPG', 'PCPG', 'PCPG', 'PCPG', 'PCPG', 'PCPG', 'PCPG', 'PCPG', 'PCPG', 'PCPG', 'PCPG', 'PCPG', 'PCPG', 'PCPG', 'PCPG', 'PCPG', 'PCPG', 'PCPG', 'PCPG', 'PCPG', 'PCPG', 'PCPG', 'PCPG', 'PCPG', 'PCPG', 'PCPG', 'PCPG', 'PCPG', 'PCPG', 'PCPG', 'PCPG', 'PCPG', 'PCPG', 'PCPG', 'PCPG', 'PCPG', 'PCPG', 'PCPG', 'PCPG', 'PCPG', 'PCPG', 'PCPG', 'PCPG', 'PCPG', 'PCPG', 'PCPG', 'PCPG', 'PCPG', 'PCPG', 'PCPG', 'PCPG', 'PCPG', 'PCPG', 'PCPG', 'PCPG', 'PCPG', 'PCPG', 'PCPG', 'PCPG', 'PCPG', 'PCPG', 'PCPG', 'PCPG', 'PCPG', 'PCPG', 'PCPG', 'PCPG', 'PCPG', 'PCPG', 'PCPG', 'PCPG', 'PCPG', 'PCPG', 'PCPG', 'PCPG', 'PCPG', 'PCPG', 'PCPG', 'PCPG', 'PCPG', 'PCPG', 'PCPG', 'PCPG', 'PCPG', 'PCPG', 'PCPG', 'PCPG', 'PCPG', 'PCPG', 'PCPG', 'PCPG', 'PCPG', 'PCPG', 'PCPG', 'PCPG', 'PCPG', 'PCPG', 'PCPG', 'PCPG', 'PCPG', 'PCPG', 'PCPG', 'PCPG', 'PCPG', 'PCPG', 'PCPG', 'PCPG', 'PCPG', 'PCPG', 'PCPG', 'PCPG', 'PCPG', 'PCPG', 'PCPG', 'PCPG', 'PCPG', 'ESCA', 'ESCA', 'ESCA', 'ESCA', 'ESCA', 'ESCA', 'ESCA', 'ESCA', 'ESCA', 'ESCA', 'ESCA', 'ESCA', 'ESCA', 'ESCA', 'ESCA', 'ESCA', 'ESCA', 'ESCA', 'ESCA', 'ESCA', 'ESCA', 'ESCA', 'ESCA', 'ESCA', 'ESCA', 'ESCA', 'ESCA', 'ESCA', 'ESCA', 'ESCA', 'ESCA', 'ESCA', 'ESCA', 'ESCA', 'ESCA', 'ESCA', 'ESCA', 'ESCA', 'ESCA', 'ESCA', 'ESCA', 'ESCA', 'ESCA', 'ESCA', 'ESCA', 'ESCA', 'ESCA', 'ESCA', 'ESCA', 'ESCA', 'ESCA', 'ESCA', 'ESCA', 'ESCA', 'ESCA', 'ESCA', 'ESCA', 'ESCA', 'ESCA', 'ESCA', 'ESCA', 'ESCA', 'ESCA', 'ESCA', 'ESCA', 'ESCA', 'ESCA', 'ESCA', 'ESCA', 'ESCA', 'ESCA', 'ESCA', 'ESCA', 'ESCA', 'ESCA', 'ESCA', 'ESCA', 'ESCA', 'ESCA', 'ESCA', 'ESCA', 'ESCA', 'ESCA', 'ESCA', 'ESCA', 'ESCA', 'ESCA', 'ESCA', 'ESCA', 'ESCA', 'ESCA', 'ESCA', 'ESCA', 'ESCA', 'ESCA', 'ESCA', 'ESCA', 'ESCA', 'ESCA', 'ESCA', 'ESCA', 'ESCA', 'ESCA', 'ESCA', 'ESCA', 'ESCA', 'ESCA', 'ESCA', 'ESCA', 'ESCA', 'ESCA', 'ESCA', 'ESCA', 'ESCA', 'ESCA', 'ESCA', 'ESCA', 'ESCA', 'ESCA', 'ESCA', 'ESCA', 'ESCA', 'ESCA', 'ESCA', 'ESCA', 'ESCA', 'ESCA', 'ESCA', 'ESCA', 'ESCA', 'ESCA', 'ESCA', 'ESCA', 'ESCA', 'ESCA', 'ESCA', 'ESCA', 'ESCA', 'ESCA', 'ESCA', 'ESCA', 'ESCA', 'ESCA', 'ESCA', 'ESCA', 'ESCA', 'ESCA', 'ESCA', 'ESCA', 'ESCA', 'ESCA', 'ESCA', 'ESCA', 'ESCA', 'ESCA', 'ESCA', 'ESCA', 'ESCA', 'ESCA', 'ESCA', 'ESCA', 'ESCA', 'ESCA', 'ESCA', 'ESCA', 'ESCA', 'ESCA', 'ESCA', 'ESCA', 'ESCA', 'ESCA', 'ESCA', 'ESCA', 'ESCA', 'ESCA', 'ESCA', 'ESCA', 'ESCA', 'ESCA', 'ESCA', 'ESCA', 'ESCA', 'ESCA', 'ESCA', 'ESCA', 'ESCA', 'ESCA', 'ESCA', 'ESCA', 'ESCA', 'ESCA', 'ESCA', 'ESCA', 'ESCA', 'ESCA', 'ESCA', 'ESCA', 'ESCA', 'ESCA', 'ESCA', 'SKCM', 'SKCM', 'SKCM', 'SKCM', 'SKCM', 'SKCM', 'SKCM', 'SKCM', 'SKCM', 'SKCM', 'SKCM', 'SKCM', 'SKCM', 'SKCM', 'SKCM', 'SKCM', 'SKCM', 'SKCM', 'SKCM', 'SKCM', 'SKCM', 'SKCM', 'SKCM', 'SKCM', 'SKCM', 'SKCM', 'SKCM', 'SKCM', 'SKCM', 'SKCM', 'SKCM', 'SKCM', 'SKCM', 'SKCM', 'SKCM', 'SKCM', 'SKCM', 'SKCM', 'SKCM', 'SKCM', 'SKCM', 'SKCM', 'SKCM', 'SKCM', 'SKCM', 'SKCM', 'SKCM', 'SKCM', 'SKCM', 'SKCM', 'SKCM', 'SKCM', 'SKCM', 'SKCM', 'SKCM', 'SKCM', 'SKCM', 'SKCM', 'SKCM', 'SKCM', 'SKCM', 'SKCM', 'SKCM', 'SKCM', 'SKCM', 'SKCM', 'SKCM', 'SKCM', 'SKCM', 'SKCM', 'SKCM', 'SKCM', 'SKCM', 'SKCM', 'SKCM', 'SKCM', 'SKCM', 'SKCM', 'SKCM', 'SKCM', 'SKCM', 'SKCM', 'SKCM', 'SKCM', 'SKCM', 'SKCM', 'SKCM', 'SKCM', 'SKCM', 'SKCM', 'SKCM', 'SKCM', 'SKCM', 'SKCM', 'SKCM', 'SKCM', 'SKCM', 'SKCM', 'SKCM', 'SKCM', 'SKCM', 'SKCM', 'SKCM', 'SKCM', 'SKCM', 'SKCM', 'SKCM', 'SKCM', 'SKCM', 'SKCM', 'SKCM', 'SKCM', 'SKCM', 'SKCM', 'SKCM', 'SKCM', 'SKCM', 'SKCM', 'SKCM', 'SKCM', 'SKCM', 'SKCM', 'SKCM', 'SKCM', 'SKCM', 'SKCM', 'SKCM', 'SKCM', 'SKCM', 'SKCM', 'SKCM', 'SKCM', 'SKCM', 'SKCM', 'SKCM', 'SKCM', 'SKCM', 'SKCM', 'SKCM', 'SKCM', 'SKCM', 'SKCM', 'SKCM', 'SKCM', 'SKCM', 'SKCM', 'SKCM', 'SKCM', 'SKCM', 'SKCM', 'SKCM', 'SKCM', 'SKCM', 'SKCM', 'SKCM', 'SKCM', 'SKCM', 'SKCM', 'SKCM', 'SKCM', 'SKCM', 'SKCM', 'SKCM', 'SKCM', 'SKCM', 'SKCM', 'SKCM', 'SKCM', 'SKCM', 'SKCM', 'SKCM', 'SKCM', 'SKCM', 'SKCM', 'SKCM', 'SKCM', 'SKCM', 'SKCM', 'SKCM', 'SKCM', 'SKCM', 'SKCM', 'SKCM', 'SKCM', 'SKCM', 'SKCM', 'SKCM', 'SKCM', 'SKCM', 'SKCM', 'SKCM', 'SKCM', 'SKCM', 'SKCM', 'SKCM', 'SKCM', 'SKCM', 'SKCM', 'SKCM', 'SKCM', 'SKCM', 'SKCM', 'SKCM', 'SKCM', 'SKCM', 'SKCM', 'SKCM', 'SKCM', 'SKCM', 'SKCM', 'SKCM', 'SKCM', 'SKCM', 'SKCM', 'SKCM', 'SKCM', 'SKCM', 'SKCM', 'SKCM', 'SKCM', 'SKCM', 'SKCM', 'SKCM', 'SKCM', 'SKCM', 'SKCM', 'SKCM', 'SKCM', 'SKCM', 'SKCM', 'SKCM', 'SKCM', 'SKCM', 'SKCM', 'SKCM', 'SKCM', 'SKCM', 'SKCM', 'SKCM', 'SKCM', 'SKCM', 'SKCM', 'SKCM', 'SKCM', 'SKCM', 'SKCM', 'SKCM', 'SKCM', 'SKCM', 'SKCM', 'SKCM', 'SKCM', 'SKCM', 'SKCM', 'SKCM', 'SKCM', 'SKCM', 'SKCM', 'SKCM', 'SKCM', 'SKCM', 'SKCM', 'SKCM', 'SKCM', 'SKCM', 'SKCM', 'SKCM', 'SKCM', 'SKCM', 'SKCM', 'SKCM', 'SKCM', 'SKCM', 'SKCM', 'SKCM', 'SKCM', 'SKCM', 'SKCM', 'SKCM', 'SKCM', 'SKCM', 'SKCM', 'SKCM', 'SKCM', 'SKCM', 'SKCM', 'SKCM', 'SKCM', 'SKCM', 'SKCM', 'SKCM', 'SKCM', 'SKCM', 'SKCM', 'SKCM', 'SKCM', 'SKCM', 'SKCM', 'SKCM', 'SKCM', 'SKCM', 'SKCM', 'SKCM', 'SKCM', 'SKCM', 'SKCM', 'SKCM', 'SKCM', 'SKCM', 'SKCM', 'SKCM', 'SKCM', 'SKCM', 'SKCM', 'SKCM', 'SKCM', 'SKCM', 'SKCM', 'SKCM', 'SKCM', 'SKCM', 'SKCM', 'SKCM', 'SKCM', 'SKCM', 'SKCM', 'SKCM', 'SKCM', 'SKCM', 'SKCM', 'SKCM', 'SKCM', 'SKCM', 'SKCM', 'SKCM', 'SKCM', 'SKCM', 'SKCM', 'SKCM', 'SKCM', 'SKCM', 'SKCM', 'SKCM', 'SKCM', 'SKCM', 'SKCM', 'SKCM', 'SKCM', 'SKCM', 'SKCM', 'SKCM', 'SKCM', 'SKCM', 'SKCM', 'SKCM', 'SKCM', 'SKCM', 'SKCM', 'SKCM', 'SKCM', 'SKCM', 'SKCM', 'SKCM', 'SKCM', 'SKCM', 'SKCM', 'SKCM', 'SKCM', 'SKCM', 'SKCM', 'SKCM', 'SKCM', 'SKCM', 'SKCM', 'SKCM', 'SKCM', 'SKCM', 'SKCM', 'SKCM', 'SKCM', 'SKCM', 'SKCM', 'SKCM', 'SKCM', 'SKCM', 'SKCM', 'SKCM', 'SKCM', 'SKCM', 'SKCM', 'SKCM', 'SKCM', 'SKCM', 'SKCM', 'SKCM', 'SKCM', 'SKCM', 'SKCM', 'SKCM', 'SKCM', 'SKCM', 'SKCM', 'SKCM', 'SKCM', 'SKCM', 'SKCM', 'SKCM', 'SKCM', 'SKCM', 'SKCM', 'SKCM', 'SKCM', 'SKCM', 'SKCM', 'SKCM', 'SKCM', 'SKCM', 'SKCM', 'SKCM', 'SKCM', 'SKCM', 'SKCM', 'SKCM', 'SKCM', 'SKCM', 'SKCM', 'SKCM', 'SKCM', 'SKCM', 'SKCM', 'SKCM', 'SKCM', 'SKCM', 'SKCM', 'SKCM', 'SKCM', 'SKCM', 'SKCM', 'SKCM', 'SKCM', 'SKCM', 'SKCM', 'SKCM', 'SKCM', 'SKCM', 'SKCM', 'SKCM', 'SKCM', 'SKCM', 'SKCM', 'SKCM', 'SKCM', 'THCA', 'THCA', 'THCA', 'THCA', 'THCA', 'THCA', 'THCA', 'THCA', 'THCA', 'THCA', 'THCA', 'THCA', 'THCA', 'THCA', 'THCA', 'THCA', 'THCA', 'THCA', 'THCA', 'THCA', 'THCA', 'THCA', 'THCA', 'THCA', 'THCA', 'THCA', 'THCA', 'THCA', 'THCA', 'THCA', 'THCA', 'THCA', 'THCA', 'THCA', 'THCA', 'THCA', 'THCA', 'THCA', 'THCA', 'THCA', 'THCA', 'THCA', 'THCA', 'THCA', 'THCA', 'THCA', 'THCA', 'THCA', 'THCA', 'THCA', 'THCA', 'THCA', 'THCA', 'THCA', 'THCA', 'THCA', 'THCA', 'THCA', 'THCA', 'THCA', 'THCA', 'THCA', 'THCA', 'THCA', 'THCA', 'THCA', 'THCA', 'THCA', 'THCA', 'THCA', 'THCA', 'THCA', 'THCA', 'THCA', 'THCA', 'THCA', 'THCA', 'THCA', 'THCA', 'THCA', 'THCA', 'THCA', 'THCA', 'THCA', 'THCA', 'THCA', 'THCA', 'THCA', 'THCA', 'THCA', 'THCA', 'THCA', 'THCA', 'THCA', 'THCA', 'THCA', 'THCA', 'THCA', 'THCA', 'THCA', 'THCA', 'THCA', 'THCA', 'THCA', 'THCA', 'THCA', 'THCA', 'THCA', 'THCA', 'THCA', 'THCA', 'THCA', 'THCA', 'THCA', 'THCA', 'THCA', 'THCA', 'THCA', 'THCA', 'THCA', 'THCA', 'THCA', 'THCA', 'THCA', 'THCA', 'THCA', 'THCA', 'THCA', 'THCA', 'THCA', 'THCA', 'THCA', 'THCA', 'THCA', 'THCA', 'THCA', 'THCA', 'THCA', 'THCA', 'THCA', 'THCA', 'THCA', 'THCA', 'THCA', 'THCA', 'THCA', 'THCA', 'THCA', 'THCA', 'THCA', 'THCA', 'THCA', 'THCA', 'THCA', 'THCA', 'THCA', 'THCA', 'THCA', 'THCA', 'THCA', 'THCA', 'THCA', 'THCA', 'THCA', 'THCA', 'THCA', 'THCA', 'THCA', 'THCA', 'THCA', 'THCA', 'THCA', 'THCA', 'THCA', 'THCA', 'THCA', 'THCA', 'THCA', 'THCA', 'THCA', 'THCA', 'THCA', 'THCA', 'THCA', 'THCA', 'THCA', 'THCA', 'THCA', 'THCA', 'THCA', 'THCA', 'THCA', 'THCA', 'THCA', 'THCA', 'THCA', 'THCA', 'THCA', 'THCA', 'THCA', 'THCA', 'THCA', 'THCA', 'THCA', 'THCA', 'THCA', 'THCA', 'THCA', 'THCA', 'THCA', 'THCA', 'THCA', 'THCA', 'THCA', 'THCA', 'THCA', 'THCA', 'THCA', 'THCA', 'THCA', 'THCA', 'THCA', 'THCA', 'THCA', 'THCA', 'THCA', 'THCA', 'THCA', 'THCA', 'THCA', 'THCA', 'THCA', 'THCA', 'THCA', 'THCA', 'THCA', 'THCA', 'THCA', 'THCA', 'THCA', 'THCA', 'THCA', 'THCA', 'THCA', 'THCA', 'THCA', 'THCA', 'THCA', 'THCA', 'THCA', 'THCA', 'THCA', 'THCA', 'THCA', 'THCA', 'THCA', 'THCA', 'THCA', 'THCA', 'THCA', 'THCA', 'THCA', 'THCA', 'THCA', 'THCA', 'THCA', 'THCA', 'THCA', 'THCA', 'THCA', 'THCA', 'THCA', 'THCA', 'THCA', 'THCA', 'THCA', 'THCA', 'THCA', 'THCA', 'THCA', 'THCA', 'THCA', 'THCA', 'THCA', 'THCA', 'THCA', 'THCA', 'THCA', 'THCA', 'THCA', 'THCA', 'THCA', 'THCA', 'THCA', 'THCA', 'THCA', 'THCA', 'THCA', 'THCA', 'THCA', 'THCA', 'THCA', 'THCA', 'THCA', 'THCA', 'THCA', 'THCA', 'THCA', 'THCA', 'THCA', 'THCA', 'THCA', 'THCA', 'THCA', 'THCA', 'THCA', 'THCA', 'THCA', 'THCA', 'THCA', 'THCA', 'THCA', 'THCA', 'THCA', 'THCA', 'THCA', 'THCA', 'THCA', 'THCA', 'THCA', 'THCA', 'THCA', 'THCA', 'THCA', 'THCA', 'THCA', 'THCA', 'THCA', 'THCA', 'THCA', 'THCA', 'THCA', 'THCA', 'THCA', 'THCA', 'THCA', 'THCA', 'THCA', 'THCA', 'THCA', 'THCA', 'THCA', 'THCA', 'THCA', 'THCA', 'THCA', 'THCA', 'THCA', 'THCA', 'THCA', 'THCA', 'THCA', 'THCA', 'THCA', 'THCA', 'THCA', 'THCA', 'THCA', 'THCA', 'THCA', 'THCA', 'THCA', 'THCA', 'THCA', 'THCA', 'THCA', 'THCA', 'THCA', 'THCA', 'THCA', 'THCA', 'THCA', 'THCA', 'THCA', 'THCA', 'THCA', 'THCA', 'THCA', 'THCA', 'THCA', 'THCA', 'THCA', 'THCA', 'THCA', 'THCA', 'THCA', 'THCA', 'THCA', 'THCA', 'THCA', 'THCA', 'THCA', 'THCA', 'THCA', 'THCA', 'THCA', 'THCA', 'THCA', 'THCA', 'THCA', 'THCA', 'THCA', 'THCA', 'THCA', 'THCA', 'THCA', 'THCA', 'THCA', 'THCA', 'THCA', 'THCA', 'THCA', 'THCA', 'THCA', 'THCA', 'THCA', 'THCA', 'THCA', 'THCA', 'THCA', 'THCA', 'THCA', 'THCA', 'THCA', 'THCA', 'THCA', 'THCA', 'THCA', 'THCA', 'THCA', 'THCA', 'THCA', 'THCA', 'THCA', 'THCA', 'THCA', 'THCA', 'THCA', 'THCA', 'THCA', 'THCA', 'THCA', 'THCA', 'THCA', 'THCA', 'THCA', 'THCA', 'THCA', 'THCA', 'THCA', 'THCA', 'THCA', 'THCA', 'THCA', 'THCA', 'THCA', 'THCA', 'LAML', 'LAML', 'LAML', 'LAML', 'LAML', 'LAML', 'LAML', 'LAML', 'LAML', 'LAML', 'LAML', 'LAML', 'LAML', 'LAML', 'LAML', 'LAML', 'LAML', 'LAML', 'LAML', 'LAML', 'LAML', 'LAML', 'LAML', 'LAML', 'LAML', 'LAML', 'LAML', 'LAML', 'LAML', 'LAML', 'LAML', 'LAML', 'LAML', 'LAML', 'LAML', 'LAML', 'LAML', 'LAML', 'LAML', 'LAML', 'LAML', 'LAML', 'LAML', 'LAML', 'LAML', 'LAML', 'LAML', 'LAML', 'LAML', 'LAML', 'LAML', 'LAML', 'LAML', 'LAML', 'LAML', 'LAML', 'LAML', 'LAML', 'LAML', 'LAML', 'LAML', 'LAML', 'LAML', 'LAML', 'LAML', 'LAML', 'LAML', 'LAML', 'LAML', 'LAML', 'LAML', 'LAML', 'LAML', 'LAML', 'LAML', 'LAML', 'LAML', 'LAML', 'LAML', 'LAML', 'LAML', 'LAML', 'LAML', 'LAML', 'LAML', 'LAML', 'LAML', 'LAML', 'LAML', 'LAML', 'LAML', 'LAML', 'LAML', 'LAML', 'LAML', 'LAML', 'LAML', 'LAML', 'LAML', 'LAML', 'LAML', 'LAML', 'LAML', 'LAML', 'LAML', 'LAML', 'LAML', 'LAML', 'LAML', 'LAML', 'LAML', 'LAML', 'LAML', 'LAML', 'LAML', 'LAML', 'LAML', 'LAML', 'LAML', 'LAML', 'LAML', 'LAML', 'LAML', 'LAML', 'LAML', 'LAML', 'LAML', 'LAML', 'LAML', 'LAML', 'LAML', 'LAML', 'LAML', 'LAML', 'LAML', 'LAML', 'LAML', 'LAML', 'LAML', 'LAML', 'LAML', 'LAML', 'LAML', 'LAML', 'LAML', 'LAML', 'LAML', 'LAML', 'LAML', 'LAML', 'LAML', 'LAML', 'LAML', 'LAML', 'LAML', 'LAML', 'LAML', 'LAML', 'LAML', 'LAML', 'LAML', 'LAML', 'LAML', 'LAML', 'LAML', 'LAML', 'LAML', 'LAML', 'LAML', 'LAML', 'LAML', 'LAML', 'LAML', 'LAML', 'LAML', 'LAML', 'LAML', 'LAML', 'LAML', 'LAML', 'LAML', 'LAML', 'LAML', 'LAML', 'LAML', 'LAML', 'LAML', 'LAML', 'THCA', 'THCA', 'THCA', 'THCA', 'THCA', 'THCA', 'THCA', 'THCA', 'THCA', 'THCA', 'THCA', 'THCA', 'THCA', 'THCA', 'THCA', 'THCA', 'THCA', 'THCA', 'THCA', 'THCA', 'THCA', 'THCA', 'THCA', 'THCA', 'THCA', 'THCA', 'THCA', 'THCA', 'THCA', 'THCA', 'THCA', 'THCA', 'THCA', 'THCA', 'THCA', 'THCA', 'THCA', 'THCA', 'THCA', 'THCA', 'THCA', 'THCA', 'THCA', 'THCA', 'THCA', 'THCA', 'THCA', 'THCA', 'THCA', 'THCA', 'THCA', 'THCA', 'THCA', 'THCA', 'THCA', 'THCA', 'THCA', 'THCA', 'THCA', 'THCA', 'THCA', 'THCA', 'THCA', 'THCA', 'THCA', 'THCA', 'THCA', 'THCA', 'THCA', 'THCA', 'THCA', 'THCA', 'THCA', 'THCA', 'THCA', 'THCA', 'THCA', 'THCA', 'THCA', 'THCA', 'THCA', 'THCA', 'THCA', 'THCA', 'THCA', 'THCA', 'THCA', 'THCA', 'THCA', 'THCA', 'THCA', 'THCA', 'THCA', 'THCA', 'THCA', 'THCA', 'THCA', 'THCA', 'THCA', 'THCA', 'THCA', 'THCA', 'THCA', 'THCA', 'THCA', 'THCA', 'ACC', 'ACC', 'ACC', 'ACC', 'ACC', 'ACC', 'ACC', 'ACC', 'ACC', 'ACC', 'ACC', 'ACC', 'ACC', 'ACC', 'ACC', 'ACC', 'ACC', 'ACC', 'ACC', 'ACC', 'ACC', 'ACC', 'ACC', 'ACC', 'ACC', 'ACC', 'ACC', 'ACC', 'ACC', 'ACC', 'ACC', 'ACC', 'ACC', 'ACC', 'ACC', 'ACC', 'ACC', 'ACC', 'ACC', 'ACC', 'ACC', 'ACC', 'ACC', 'ACC', 'ACC', 'ACC', 'ACC', 'ACC', 'ACC', 'ACC', 'ACC', 'ACC', 'ACC', 'ACC', 'ACC', 'ACC', 'ACC', 'ACC', 'ACC', 'ACC', 'ACC', 'ACC', 'ACC', 'ACC', 'ACC', 'ACC', 'ACC', 'ACC', 'ACC', 'ACC', 'ACC', 'ACC', 'ACC', 'ACC', 'ACC', 'ACC', 'ACC', 'ACC', 'ACC', 'ACC', 'CHOL', 'CHOL', 'CHOL', 'CHOL', 'CHOL', 'CHOL', 'CHOL', 'CHOL', 'CHOL', 'CHOL', 'CHOL', 'CHOL', 'CHOL', 'CHOL', 'CHOL', 'CHOL', 'CHOL', 'CHOL', 'CHOL', 'CHOL', 'CHOL', 'CHOL', 'CHOL', 'CHOL', 'CHOL', 'CHOL', 'CHOL', 'CHOL', 'CHOL', 'CHOL', 'CHOL', 'CHOL', 'CHOL', 'CHOL', 'CHOL', 'CHOL', 'CHOL', 'CHOL', 'CHOL', 'CHOL', 'CHOL', 'CHOL', 'CHOL', 'CHOL', 'CHOL', 'LIHC', 'LIHC', 'LIHC', 'LIHC', 'LIHC', 'LIHC', 'LIHC', 'LIHC', 'LIHC', 'LIHC', 'LIHC', 'LIHC', 'LIHC', 'LIHC', 'LIHC', 'LIHC', 'LIHC', 'LIHC', 'LIHC', 'LIHC', 'LIHC', 'LIHC', 'LIHC', 'LIHC', 'LIHC', 'LIHC', 'LIHC', 'LIHC', 'LIHC', 'LIHC', 'LIHC', 'LIHC', 'LIHC', 'LIHC', 'LIHC', 'LIHC', 'LIHC', 'LIHC', 'LIHC', 'LIHC', 'LIHC', 'LIHC', 'LIHC', 'LIHC', 'LIHC', 'LIHC', 'LIHC', 'LIHC', 'LIHC', 'LIHC', 'LIHC', 'LIHC', 'LIHC', 'LIHC', 'LIHC', 'LIHC', 'LIHC', 'LIHC', 'LIHC', 'LIHC', 'LIHC', 'LIHC', 'LIHC', 'LIHC', 'LIHC', 'LIHC', 'LIHC', 'LIHC', 'LIHC', 'LIHC', 'LIHC', 'LIHC', 'LIHC', 'LIHC', 'LIHC', 'LIHC', 'LIHC', 'LIHC', 'LIHC', 'LIHC', 'LIHC', 'LIHC', 'LIHC', 'LIHC', 'LIHC', 'LIHC', 'LIHC', 'LIHC', 'LIHC', 'LIHC', 'LIHC', 'LIHC', 'LIHC', 'LIHC', 'LIHC', 'LIHC', 'LIHC', 'LIHC', 'LIHC', 'LIHC', 'LIHC', 'LIHC', 'LIHC', 'LIHC', 'LIHC', 'LIHC', 'LIHC', 'LIHC', 'LIHC', 'LIHC', 'LIHC', 'LIHC', 'LIHC', 'LIHC', 'LIHC', 'LIHC', 'LIHC', 'LIHC', 'LIHC', 'LIHC', 'LIHC', 'LIHC', 'LIHC', 'LIHC', 'LIHC', 'LIHC', 'LIHC', 'LIHC', 'LIHC', 'LIHC', 'LIHC', 'LIHC', 'LIHC', 'LIHC', 'LIHC', 'LIHC', 'LIHC', 'LIHC', 'LIHC', 'LIHC', 'LIHC', 'LIHC', 'LIHC', 'LIHC', 'LIHC', 'LIHC', 'LIHC', 'LIHC', 'LIHC', 'LIHC', 'LIHC', 'LIHC', 'LIHC', 'LIHC', 'LIHC', 'LIHC', 'LIHC', 'LIHC', 'LIHC', 'LIHC', 'LIHC', 'LIHC', 'LIHC', 'LIHC', 'LIHC', 'LIHC', 'LIHC', 'LIHC', 'LIHC', 'LIHC', 'LIHC', 'LIHC', 'LIHC', 'LIHC', 'LIHC', 'LIHC', 'LIHC', 'LIHC', 'LIHC', 'LIHC', 'LIHC', 'LIHC', 'LIHC', 'LIHC', 'LIHC', 'LIHC', 'LIHC', 'LIHC', 'LIHC', 'LIHC', 'LIHC', 'LIHC', 'LIHC', 'LIHC', 'LIHC', 'LIHC', 'LIHC', 'LIHC', 'LIHC', 'LIHC', 'LIHC', 'LIHC', 'LIHC', 'LIHC', 'LIHC', 'LIHC', 'LIHC', 'LIHC', 'LIHC', 'LIHC', 'LIHC', 'LIHC', 'LIHC', 'LIHC', 'LIHC', 'LIHC', 'LIHC', 'LIHC', 'LIHC', 'LIHC', 'LIHC', 'LIHC', 'LIHC', 'LIHC', 'LIHC', 'LIHC', 'LIHC', 'LIHC', 'LIHC', 'LIHC', 'LIHC', 'LIHC', 'LIHC', 'LIHC', 'LIHC', 'LIHC', 'LIHC', 'LIHC', 'LIHC', 'LIHC', 'LIHC', 'LIHC', 'LIHC', 'LIHC', 'LIHC', 'LIHC', 'LIHC', 'LIHC', 'LIHC', 'LIHC', 'LIHC', 'LIHC', 'LIHC', 'LIHC', 'LIHC', 'LIHC', 'LIHC', 'LIHC', 'LIHC', 'LIHC', 'LIHC', 'LIHC', 'LIHC', 'LIHC', 'LIHC', 'LIHC', 'LIHC', 'LIHC', 'LIHC', 'LIHC', 'LIHC', 'LIHC', 'LIHC', 'LIHC', 'LIHC', 'LIHC', 'LIHC', 'LIHC', 'LIHC', 'LIHC', 'LIHC', 'LIHC', 'LIHC', 'LIHC', 'LIHC', 'LIHC', 'LIHC', 'LIHC', 'LIHC', 'LIHC', 'LIHC', 'LIHC', 'LIHC', 'LIHC', 'LIHC', 'LIHC', 'LIHC', 'LIHC', 'LIHC', 'LIHC', 'LIHC', 'LIHC', 'LIHC', 'LIHC', 'LIHC', 'LIHC', 'LIHC', 'LIHC', 'LIHC', 'LIHC', 'LIHC', 'LIHC', 'LIHC', 'LIHC', 'LIHC', 'LIHC', 'LIHC', 'LIHC', 'LIHC', 'LIHC', 'LIHC', 'LIHC', 'LIHC', 'LIHC', 'LIHC', 'LIHC', 'LIHC', 'LIHC', 'LIHC', 'LIHC', 'LIHC', 'LIHC', 'LIHC', 'LIHC', 'LIHC', 'LIHC', 'LIHC', 'LIHC', 'LIHC', 'LIHC', 'LIHC', 'LIHC', 'LIHC', 'LIHC', 'LIHC', 'LIHC', 'LIHC', 'LIHC', 'LIHC', 'LIHC', 'LIHC', 'LIHC', 'LIHC', 'LIHC', 'LIHC', 'LIHC', 'LIHC', 'LIHC', 'LIHC', 'LIHC', 'LIHC', 'LIHC', 'LIHC', 'LIHC', 'LIHC', 'LIHC', 'LIHC', 'LIHC', 'LIHC', 'LIHC', 'LIHC', 'LIHC', 'LIHC', 'LIHC', 'LIHC', 'LIHC', 'LIHC', 'LIHC', 'LIHC', 'LIHC', 'LIHC', 'LIHC', 'LIHC', 'LIHC', 'LIHC', 'LIHC', 'LIHC', 'LIHC', 'LIHC', 'LIHC', 'LIHC', 'LIHC', 'LIHC', 'LIHC', 'LIHC', 'LIHC', 'LIHC', 'LIHC', 'LIHC', 'LIHC', 'LIHC', 'LIHC', 'LIHC', 'LIHC', 'LIHC', 'LIHC', 'LIHC', 'LIHC', 'LIHC', 'LIHC', 'LIHC', 'LIHC', 'LIHC', 'LIHC', 'LIHC', 'LIHC', 'LIHC', 'LIHC', 'LIHC', 'LIHC', 'LIHC', 'LIHC', 'LIHC', 'LIHC', 'LIHC', 'SARC', 'SARC', 'SARC', 'SARC', 'SARC', 'SARC', 'SARC', 'SARC', 'SARC', 'SARC', 'SARC', 'SARC', 'SARC', 'SARC', 'SARC', 'SARC', 'SARC', 'SARC', 'SARC', 'SARC', 'SARC', 'SARC', 'SARC', 'SARC', 'SARC', 'SARC', 'SARC', 'SARC', 'SARC', 'SARC', 'SARC', 'SARC', 'SARC', 'SARC', 'SARC', 'SARC', 'SARC', 'SARC', 'SARC', 'SARC', 'SARC', 'SARC', 'SARC', 'SARC', 'SARC', 'SARC', 'SARC', 'SARC', 'SARC', 'SARC', 'SARC', 'SARC', 'SARC', 'SARC', 'SARC', 'SARC', 'SARC', 'SARC', 'SARC', 'SARC', 'SARC', 'SARC', 'SARC', 'SARC', 'SARC', 'SARC', 'SARC', 'SARC', 'SARC', 'SARC', 'SARC', 'SARC', 'SARC', 'SARC', 'SARC', 'SARC', 'SARC', 'SARC', 'SARC', 'SARC', 'SARC', 'SARC', 'SARC', 'SARC', 'SARC', 'SARC', 'SARC', 'SARC', 'SARC', 'SARC', 'SARC', 'SARC', 'SARC', 'SARC', 'SARC', 'SARC', 'SARC', 'SARC', 'SARC', 'SARC', 'SARC', 'SARC', 'SARC', 'SARC', 'SARC', 'SARC', 'SARC', 'SARC', 'SARC', 'SARC', 'SARC', 'SARC', 'SARC', 'SARC', 'SARC', 'SARC', 'SARC', 'SARC', 'SARC', 'SARC', 'SARC', 'SARC', 'SARC', 'SARC', 'SARC', 'SARC', 'SARC', 'SARC', 'SARC', 'SARC', 'SARC', 'SARC', 'SARC', 'SARC', 'SARC', 'SARC', 'SARC', 'SARC', 'SARC', 'SARC', 'SARC', 'SARC', 'SARC', 'SARC', 'SARC', 'SARC', 'SARC', 'SARC', 'SARC', 'SARC', 'SARC', 'SARC', 'SARC', 'SARC', 'SARC', 'SARC', 'SARC', 'SARC', 'SARC', 'SARC', 'SARC', 'SARC', 'SARC', 'SARC', 'SARC', 'SARC', 'SARC', 'SARC', 'SARC', 'SARC', 'SARC', 'SARC', 'SARC', 'SARC', 'SARC', 'SARC', 'SARC', 'SARC', 'SARC', 'SARC', 'SARC', 'SARC', 'SARC', 'SARC', 'SARC', 'SARC', 'SARC', 'SARC', 'SARC', 'SARC', 'SARC', 'SARC', 'SARC', 'SARC', 'SARC', 'SARC', 'SARC', 'SARC', 'SARC', 'SARC', 'SARC', 'SARC', 'SARC', 'SARC', 'SARC', 'SARC', 'SARC', 'SARC', 'SARC', 'SARC', 'SARC', 'SARC', 'SARC', 'SARC', 'SARC', 'SARC', 'SARC', 'SARC', 'SARC', 'SARC', 'SARC', 'SARC', 'SARC', 'SARC', 'SARC', 'SARC', 'SARC', 'SARC', 'SARC', 'SARC', 'SARC', 'SARC', 'SARC', 'SARC', 'SARC', 'SARC', 'SARC', 'SARC', 'SARC', 'SARC', 'SARC', 'SARC', 'SARC', 'SARC', 'SARC', 'SARC', 'SARC', 'SARC', 'SARC', 'SARC', 'SARC', 'SARC', 'SARC', 'SARC', 'SARC', 'SARC', 'SARC', 'SARC', 'SARC', 'SARC', 'SARC', 'SARC', 'SARC', 'KICH', 'KICH', 'KICH', 'KICH', 'KICH', 'KICH', 'KICH', 'KICH', 'KICH', 'KICH', 'KICH', 'KICH', 'KICH', 'KICH', 'KICH', 'KICH', 'KICH', 'KICH', 'KICH', 'KICH', 'KICH', 'KICH', 'KICH', 'KICH', 'KICH', 'KICH', 'KICH', 'KICH', 'KICH', 'KICH', 'KICH', 'KICH', 'KICH', 'KICH', 'KICH', 'KICH', 'KICH', 'KICH', 'KICH', 'KICH', 'KICH', 'KICH', 'KICH', 'KICH', 'KICH', 'KICH', 'KICH', 'KICH', 'KICH', 'KICH', 'KICH', 'KICH', 'KICH', 'KICH', 'KICH', 'KICH', 'KICH', 'KICH', 'KICH', 'KICH', 'KICH', 'KICH', 'KICH', 'KICH', 'KICH', 'KICH', 'KICH', 'KICH', 'KICH', 'KICH', 'KICH', 'KICH', 'KICH', 'KICH', 'KICH', 'KICH', 'KICH', 'KICH', 'KICH', 'KICH', 'KICH', 'KICH', 'KICH', 'KICH', 'KICH', 'KICH', 'KICH', 'KICH', 'KICH', 'KICH', 'KICH', 'THYM', 'THYM', 'THYM', 'UCEC', 'UCEC', 'UCEC', 'UCEC', 'UCEC', 'UCEC', 'UCEC', 'UCEC', 'UCEC', 'UCEC', 'UCEC', 'UCEC', 'UCEC', 'UCEC', 'UCEC', 'UCEC', 'UCEC', 'UCEC', 'UCEC', 'UCEC', 'UCEC', 'UCEC', 'UCEC', 'UCEC', 'UCEC', 'UCEC', 'UCEC', 'UCEC', 'UCEC', 'UCEC', 'UCEC', 'UCEC', 'UCEC', 'UCEC', 'UCEC', 'UCEC', 'UCEC', 'UCEC', 'UCEC', 'UCEC', 'UCEC', 'UCEC', 'UCEC', 'UCEC', 'UCEC', 'UCEC', 'UCEC', 'UCEC', 'UCEC', 'UCEC', 'UCEC', 'UCEC', 'UCEC', 'UCEC', 'UCEC', 'UCEC', 'UCEC', 'UCEC', 'UCEC', 'KIRC', 'KIRC', 'KIRC', 'KIRC', 'KIRC', 'KIRC', 'KIRC', 'KIRC', 'KIRC', 'KIRC', 'KIRC', 'KIRC', 'KIRC', 'KIRC', 'KIRC', 'KIRC', 'KIRC', 'KIRC', 'KIRC', 'KIRC', 'KIRC', 'KIRC', 'KIRC', 'KIRC', 'KIRC', 'KIRC', 'KIRC', 'KIRC', 'KIRC', 'KIRC', 'KIRC', 'KIRC', 'KIRC', 'KIRC', 'KIRC', 'KIRC', 'KIRC', 'KIRC', 'KIRC', 'KIRC', 'KIRC', 'KIRC', 'KIRC', 'KIRC', 'KIRC', 'KIRC', 'KIRC', 'KIRC', 'KIRC', 'KIRC', 'KIRC', 'KIRC', 'KIRC', 'KIRC', 'KIRC', 'KIRC', 'KIRC', 'KIRC', 'KIRC', 'KIRC', 'KIRC', 'KIRC', 'KIRC', 'KIRC', 'KIRC', 'KIRC', 'KIRC', 'KIRC', 'KIRC', 'KIRC', 'KIRC', 'KIRC', 'KIRC', 'KIRC', 'KIRC', 'KIRC', 'KIRC', 'KIRC', 'KIRC', 'KIRC', 'KIRC', 'KIRC', 'KIRC', 'KIRC', 'KIRC', 'KIRC', 'KIRC', 'KIRC', 'KIRC', 'KIRC', 'KIRC', 'KIRC', 'KIRC', 'KIRC', 'KIRC', 'KIRC', 'KIRC', 'KIRC', 'KIRC', 'KIRC', 'KIRC', 'KIRC', 'KIRC', 'KIRC', 'KIRC', 'KIRC', 'KIRC', 'KIRC', 'KIRC', 'KIRC', 'KIRC', 'KIRC', 'KIRC', 'KIRC', 'KIRC', 'KIRC', 'KIRC', 'KIRC', 'KIRC', 'KIRC', 'KIRC', 'KIRC', 'KIRC', 'KIRC', 'KIRC', 'KIRC', 'KIRC', 'KIRC', 'KIRC', 'KIRC', 'KIRC', 'KIRC', 'KIRC', 'KIRC', 'KIRC', 'KIRC', 'KIRC', 'KIRC', 'KIRC', 'KIRC', 'KIRC', 'KIRC', 'KIRC', 'KIRC', 'KIRC', 'KIRC', 'KIRC', 'KIRC', 'KIRC', 'KIRC', 'KIRC', 'LUAD', 'LUAD', 'LUAD', 'LUAD', 'LUAD', 'LUAD', 'LUAD', 'LUAD', 'LUAD', 'LUAD', 'LUAD', 'LUAD', 'LUAD', 'LUAD', 'LUAD', 'LUAD', 'LUAD', 'LUAD', 'LUAD', 'LUAD', 'LUAD', 'LUAD', 'LUAD', 'LUAD', 'LUAD', 'LUAD', 'LUAD', 'LUAD', 'LUAD', 'LUAD', 'LUAD', 'LUAD', 'LUAD', 'LUAD', 'LUAD', 'LUAD', 'LUAD', 'LUAD', 'LUAD', 'LUAD', 'LUAD', 'LUAD', 'LUAD', 'LUAD', 'LUAD', 'LUAD', 'LUAD', 'LUAD', 'LUAD', 'LUAD', 'LUAD', 'LUAD', 'LUAD', 'LUAD', 'LUAD', 'LUAD', 'LUAD', 'LUAD', 'LUAD', 'LUAD', 'LUAD', 'LUAD', 'LUAD', 'LUAD', 'LUAD', 'LUAD', 'LUAD', 'LUAD', 'LUAD', 'LUAD', 'LUAD', 'LUAD', 'LUAD', 'LUAD', 'LUAD', 'LUAD', 'LUAD', 'LUAD', 'LUAD', 'LUAD', 'LUAD', 'LUAD', 'LUAD', 'LUAD', 'LUAD', 'LUAD', 'LUAD', 'LUAD', 'LUAD', 'LUAD', 'LUAD', 'LUAD', 'LUAD', 'LUAD', 'LUAD', 'LUAD', 'LUAD', 'LUAD', 'LUAD', 'LUAD', 'LUAD', 'LUAD', 'LUAD', 'LUAD', 'LUAD', 'LUAD', 'LUAD', 'LUAD', 'LUAD', 'LUAD', 'LUAD', 'LUAD', 'LUAD', 'LUAD', 'LUAD', 'LUAD', 'LUAD', 'LUAD', 'LUAD', 'LUAD', 'LUAD', 'LUAD', 'LUAD', 'LUAD', 'LUAD', 'LUAD', 'LUAD', 'LUAD', 'LUAD', 'LUAD', 'LUAD', 'LUAD', 'LUAD', 'LUAD', 'LUAD', 'LUAD', 'LUAD', 'LUAD', 'LUAD', 'LUAD', 'LUAD', 'LUAD', 'LUAD', 'LUAD', 'LUAD', 'LUAD', 'LUAD', 'LUAD', 'LUAD', 'LUAD', 'LUAD', 'LUAD', 'LUAD', 'LUAD', 'LUAD', 'LUAD', 'LUAD', 'LUAD', 'LUAD', 'LUAD', 'LUAD', 'LUAD', 'LUAD', 'LUAD', 'LUAD', 'LUAD', 'LUAD', 'LUAD', 'LUAD', 'LUAD', 'LUAD', 'LUAD', 'LUAD', 'LUAD', 'LUAD', 'LUAD', 'LUAD', 'LUAD', 'LUAD', 'LUAD', 'LUAD', 'LUAD', 'LUAD', 'LUAD', 'LUAD', 'LUAD', 'LUAD', 'LUAD', 'LUAD', 'LUAD', 'LUAD', 'LUAD', 'LUAD', 'LUAD', 'LUAD', 'LUAD', 'LUAD', 'LUAD', 'LUAD', 'LUAD', 'LUAD', 'LUAD', 'LUAD', 'LUAD', 'LUAD', 'LUAD', 'LUAD', 'LUAD', 'LUAD', 'LUAD', 'LUAD', 'LUAD', 'LUAD', 'LUAD', 'LUAD', 'LUAD', 'LUAD', 'LUAD', 'LUAD', 'LUAD', 'LUAD', 'LUAD', 'LUAD', 'LUAD', 'LUAD', 'LUAD', 'LUAD', 'MESO', 'MESO', 'MESO', 'MESO', 'MESO', 'MESO', 'MESO', 'MESO', 'MESO', 'MESO', 'MESO', 'MESO', 'MESO', 'MESO', 'MESO', 'MESO', 'MESO', 'MESO', 'MESO', 'MESO', 'MESO', 'MESO', 'MESO', 'MESO', 'MESO', 'MESO', 'MESO', 'MESO', 'MESO', 'MESO', 'MESO', 'MESO', 'MESO', 'MESO', 'MESO', 'MESO', 'MESO', 'MESO', 'MESO', 'MESO', 'MESO', 'MESO', 'MESO', 'MESO', 'MESO', 'MESO', 'MESO', 'MESO', 'MESO', 'MESO', 'MESO', 'MESO', 'MESO', 'MESO', 'MESO', 'MESO', 'MESO', 'MESO', 'MESO', 'MESO', 'MESO', 'MESO', 'MESO', 'MESO', 'MESO', 'MESO', 'MESO', 'MESO', 'MESO', 'MESO', 'MESO', 'MESO', 'MESO', 'MESO', 'MESO', 'MESO', 'MESO', 'MESO', 'MESO', 'MESO', 'MESO', 'MESO', 'MESO', 'MESO', 'MESO', 'MESO', 'MESO', 'KIRC', 'KIRC', 'KIRC', 'KIRC', 'KIRC', 'KIRC', 'KIRC', 'KIRC', 'KIRC', 'KIRC', 'KIRC', 'KIRC', 'KIRC', 'KIRC', 'KIRC', 'KIRC', 'KIRC', 'KIRC', 'KIRC', 'KIRC', 'KIRC', 'KIRC', 'KIRC', 'KIRC', 'KIRC', 'KIRC', 'KIRC', 'KIRC', 'KIRC', 'KIRC', 'KIRC', 'KIRC', 'KIRC', 'KIRC', 'KIRC', 'KIRC', 'KIRC', 'KIRC', 'KIRC', 'KIRC', 'KIRC', 'KIRC', 'KIRC', 'KIRC', 'KIRC', 'KIRC', 'KIRC', 'KIRC', 'KIRC', 'KIRC', 'KIRC', 'KIRC', 'KIRC', 'KIRC', 'KIRC', 'KIRC', 'KIRC', 'KIRC', 'KIRC', 'KIRC', 'KIRC', 'KIRC', 'KIRC', 'KIRC', 'KIRC', 'KIRC', 'KIRC', 'KIRC', 'KIRC', 'KIRC', 'KIRC', 'KIRC', 'KIRC', 'KIRC', 'KIRC', 'KIRC', 'KIRC', 'KIRC', 'KIRC', 'KIRC', 'KIRC', 'KIRC', 'KIRC', 'KIRC', 'KIRC', 'KIRC', 'KIRC', 'KIRC', 'KIRC', 'KIRC', 'KIRC', 'KIRC', 'KIRC', 'KIRC', 'KIRC', 'KIRC', 'KIRC', 'KIRC', 'KIRC', 'KIRC', 'KIRC', 'KIRC', 'KIRC', 'KIRC', 'KIRC', 'KIRC', 'KIRC', 'KIRC', 'KIRC', 'KIRC', 'KIRC', 'KIRC', 'KIRC', 'KIRC', 'KIRC', 'KIRC', 'KIRC', 'KIRC', 'KIRC', 'KIRC', 'KIRC', 'KIRC', 'KIRC', 'KIRC', 'KIRC', 'KIRC', 'KIRC', 'KIRC', 'KIRC', 'KIRC', 'KIRC', 'KIRC', 'KIRC', 'KIRC', 'KIRC', 'KIRC', 'KIRC', 'KIRC', 'KIRC', 'KIRC', 'KIRC', 'KIRC', 'KIRC', 'KIRC', 'KIRC', 'KIRC', 'KIRC', 'KIRC', 'KIRC', 'KIRC', 'KIRC', 'KIRC', 'KIRC', 'KIRC', 'KIRC', 'KIRC', 'KIRC', 'KIRC', 'KIRC', 'KIRC', 'KIRC', 'KIRC', 'KIRC', 'KIRC', 'KIRC', 'KIRC', 'KIRC', 'KIRC', 'KIRC', 'KIRC', 'KIRC', 'KIRC', 'KIRC', 'KIRC', 'KIRC', 'KIRC', 'KIRC', 'KIRC', 'KIRC', 'KIRC', 'KIRC', 'KIRC', 'KIRC', 'KIRC', 'KIRC', 'KIRC', 'KIRC', 'KIRC', 'KIRC', 'KIRC', 'KIRC', 'KIRC', 'KIRC', 'KIRC', 'KIRC', 'KIRC', 'KIRC', 'KIRC', 'KIRC', 'KIRC', 'KIRC', 'KIRC', 'KIRC', 'KIRC', 'KIRC', 'KIRC', 'KIRC', 'KIRC', 'KIRC', 'KIRC', 'KIRC', 'KIRC', 'KIRC', 'KIRC', 'KIRC', 'KIRC', 'KIRC', 'KIRC', 'KIRC', 'KIRC', 'KIRC', 'KIRC', 'KIRC', 'KIRC', 'KIRC', 'KIRC', 'KIRC', 'KIRC', 'KIRC', 'KIRC', 'KIRC', 'KIRC', 'KIRC', 'KIRC', 'KIRC', 'KIRC', 'KIRC', 'KIRC', 'KIRC', 'KIRC', 'KIRC', 'KIRC', 'KIRC', 'KIRC', 'KIRC', 'KIRC', 'KIRC', 'KIRC', 'KIRC', 'KIRC', 'KIRC', 'KIRC', 'KIRC', 'KIRC', 'KIRC', 'KIRC', 'KIRC', 'KIRC', 'KIRC', 'KIRC', 'KIRC', 'KIRC', 'KIRC', 'KIRC', 'KIRC', 'KIRC', 'KIRC', 'KIRC', 'KIRC', 'KIRC', 'KIRC', 'KIRC', 'KIRC', 'KIRC', 'KIRC', 'KIRC', 'KIRC', 'KIRC', 'KIRC', 'KIRC', 'KIRC', 'KIRC', 'KIRC', 'KIRC', 'KIRC', 'KIRC', 'KIRC', 'KIRC', 'KIRC', 'KIRC', 'KIRC', 'KIRC', 'KIRC', 'KIRC', 'KIRC', 'KIRC', 'KIRC', 'KIRC', 'KIRC', 'KIRC', 'KIRC', 'KIRC', 'KIRC', 'KIRC', 'KIRC', 'KIRC', 'KIRC', 'KIRC', 'KIRC', 'KIRC', 'KIRC', 'KIRC', 'KIRC', 'KIRC', 'KIRC', 'KIRC', 'KIRC', 'KIRC', 'KIRC', 'KIRC', 'KIRC', 'KIRC', 'KIRC', 'KIRC', 'KIRC', 'KIRC', 'KIRC', 'KIRC', 'KIRC', 'KIRC', 'KIRC', 'KIRC', 'KIRC', 'KIRC', 'KIRC', 'KIRC', 'KIRC', 'KIRC', 'KIRC', 'KIRC', 'KIRC', 'KIRC', 'KIRC', 'KIRC', 'KIRC', 'KIRC', 'KIRC', 'KIRC', 'KIRC', 'KIRC', 'KIRC', 'KIRC', 'KIRC', 'KIRC', 'KIRC', 'KIRC', 'KIRC', 'KIRC', 'KIRC', 'KIRC', 'KIRC', 'KIRC', 'KIRC', 'KIRC', 'KIRC', 'KIRC', 'KIRC', 'KIRC', 'KIRC', 'KIRC', 'KIRC', 'KIRC', 'KIRC', 'KIRC', 'KIRC', 'KIRC', 'KIRC', 'KIRC', 'KIRC', 'KIRC', 'KIRC', 'KIRC', 'KIRC', 'KIRC', 'KIRC', 'KIRC', 'KIRC', 'KIRC', 'KIRC', 'KIRC', 'KIRC', 'KIRC', 'KIRC', 'KIRC', 'KIRC', 'KIRC', 'KIRC', 'KIRC', 'KIRC', 'KIRC', 'KIRC', 'KIRC', 'KIRC', 'KIRC', 'KIRC', 'KIRC', 'KIRC', 'KIRC', 'KIRC', 'KIRC', 'KIRC', 'KIRC', 'KIRC', 'KIRC', 'KIRC', 'KIRC', 'KIRC', 'KIRC', 'KIRC', 'KIRC', 'KIRC', 'KIRC', 'KIRC', 'KIRC', 'KIRC', 'KIRC', 'KIRC', 'KIRC', 'KIRC', 'KIRC', 'KIRC', 'KIRC', 'KIRC', 'KIRC', 'KIRC', 'KIRC', 'KIRC', 'KIRC', 'KIRC', 'KIRC', 'KIRC', 'KIRC', 'KIRC', 'KIRC', 'KIRC', 'KIRC', 'KIRC', 'KIRC', 'KIRC', 'KIRC', 'KIRC', 'KIRC', 'KIRC', 'KIRC', 'KIRC', 'KIRC', 'KIRC', 'KIRC', 'KIRC', 'KIRC', 'KIRC', 'KIRC', 'KIRC', 'KIRC', 'KIRC', 'OV', 'OV', 'OV', 'OV', 'OV', 'OV', 'OV', 'OV', 'OV', 'OV', 'OV', 'OV', 'OV', 'OV', 'OV', 'OV', 'OV', 'OV', 'OV', 'OV', 'OV', 'OV', 'OV', 'OV', 'OV', 'OV', 'OV', 'OV', 'OV', 'OV', 'OV', 'OV', 'OV', 'OV', 'OV', 'OV', 'OV', 'OV', 'OV', 'OV', 'OV', 'OV', 'OV', 'OV', 'OV', 'OV', 'OV', 'OV', 'OV', 'OV', 'OV', 'OV', 'OV', 'OV', 'OV', 'OV', 'OV', 'OV', 'OV', 'OV', 'OV', 'OV', 'OV', 'OV', 'OV', 'OV', 'OV', 'OV', 'OV', 'OV', 'OV', 'OV', 'OV', 'OV', 'OV', 'OV', 'OV', 'OV', 'OV', 'OV', 'OV', 'OV', 'OV', 'OV', 'OV', 'OV', 'OV', 'OV', 'OV', 'OV', 'OV', 'OV', 'OV', 'OV', 'OV', 'OV', 'OV', 'OV', 'OV', 'OV', 'OV', 'OV', 'OV', 'OV', 'OV', 'OV', 'OV', 'OV', 'OV', 'OV', 'OV', 'OV', 'OV', 'OV', 'OV', 'OV', 'OV', 'OV', 'OV', 'OV', 'OV', 'OV', 'OV', 'OV', 'OV', 'OV', 'OV', 'OV', 'OV', 'OV', 'OV', 'OV', 'OV', 'OV', 'OV', 'OV', 'OV', 'OV', 'OV', 'OV', 'OV', 'OV', 'OV', 'OV', 'OV', 'OV', 'OV', 'OV', 'OV', 'OV', 'OV', 'OV', 'OV', 'OV', 'OV', 'OV', 'OV', 'OV', 'OV', 'OV', 'OV', 'OV', 'OV', 'OV', 'OV', 'OV', 'OV', 'OV', 'OV', 'OV', 'OV', 'OV', 'OV', 'OV', 'OV', 'OV', 'OV', 'OV', 'OV', 'OV', 'OV', 'OV', 'OV', 'OV', 'OV', 'OV', 'OV', 'OV', 'OV', 'OV', 'OV', 'OV', 'OV', 'OV', 'OV', 'OV', 'OV', 'OV', 'OV', 'OV', 'OV', 'OV', 'OV', 'OV', 'OV', 'OV', 'OV', 'OV', 'OV', 'OV', 'OV', 'OV', 'OV', 'OV', 'OV', 'OV', 'OV', 'OV', 'OV', 'OV', 'OV', 'OV', 'OV', 'OV', 'OV', 'OV', 'OV', 'OV', 'OV', 'OV', 'OV', 'OV', 'OV', 'OV', 'OV', 'OV', 'OV', 'OV', 'OV', 'OV', 'OV', 'OV', 'OV', 'OV', 'OV', 'OV', 'OV', 'OV', 'OV', 'OV', 'OV', 'OV', 'OV', 'OV', 'OV', 'OV', 'OV', 'OV', 'OV', 'OV', 'OV', 'OV', 'OV', 'OV', 'OV', 'OV', 'OV', 'OV', 'OV', 'OV', 'OV', 'OV', 'OV', 'OV', 'OV', 'OV', 'OV', 'OV', 'OV', 'OV', 'OV', 'OV', 'OV', 'OV', 'OV', 'OV', 'OV', 'OV', 'OV', 'OV', 'OV', 'OV', 'OV', 'OV', 'OV', 'OV', 'OV', 'OV', 'OV', 'OV', 'OV', 'OV', 'OV', 'OV', 'OV', 'OV', 'OV', 'OV', 'OV', 'OV', 'OV', 'OV', 'OV', 'OV', 'OV', 'OV', 'OV', 'OV', 'OV', 'OV', 'OV', 'OV', 'OV', 'OV', 'OV', 'OV', 'OV', 'OV', 'OV', 'OV', 'OV', 'OV', 'OV', 'OV', 'OV', 'OV', 'OV', 'OV', 'OV', 'OV', 'OV', 'OV', 'OV', 'OV', 'OV', 'OV', 'OV', 'OV', 'OV', 'OV', 'OV', 'OV', 'OV', 'OV', 'OV', 'OV', 'OV', 'OV', 'OV', 'OV', 'OV', 'OV', 'OV', 'OV', 'OV', 'OV', 'OV', 'OV', 'OV', 'OV', 'OV', 'OV', 'OV', 'OV', 'OV', 'OV', 'OV', 'OV', 'OV', 'OV', 'OV', 'OV', 'OV', 'OV', 'OV', 'OV', 'OV', 'OV', 'OV', 'OV', 'OV', 'OV', 'OV', 'OV', 'OV', 'OV', 'OV', 'OV', 'OV', 'OV', 'OV', 'OV', 'OV', 'OV', 'OV', 'OV', 'OV', 'OV', 'OV', 'OV', 'OV', 'OV', 'OV', 'OV', 'OV', 'OV', 'OV', 'OV', 'OV', 'OV', 'OV', 'OV', 'OV', 'OV', 'OV', 'OV', 'OV', 'OV', 'OV', 'LUSC', 'LUSC', 'LUSC', 'LUSC', 'LUSC', 'LUSC', 'LUSC', 'LUSC', 'LUSC', 'LUSC', 'LUSC', 'LUSC', 'LUSC', 'LUSC', 'LUSC', 'LUSC', 'LUSC', 'LUSC', 'LUSC', 'LUSC', 'LUSC', 'LUSC', 'LUSC', 'LUSC', 'LUSC', 'LUSC', 'LUSC', 'LUSC', 'LUSC', 'LUSC', 'LUSC', 'LUSC', 'LUSC', 'LUSC', 'LUSC', 'LUSC', 'LUSC', 'LUSC', 'LUSC', 'LUSC', 'LUSC', 'LUSC', 'LUSC', 'LUSC', 'LUSC', 'LUSC', 'LUSC', 'LUSC', 'LUSC', 'LUSC', 'LUSC', 'LUSC', 'LUSC', 'LUSC', 'LUSC', 'LUSC', 'LUSC', 'LUSC', 'LUSC', 'LUSC', 'LUSC', 'LUSC', 'LUSC', 'LUSC', 'LUSC', 'LUSC', 'LUSC', 'LUSC', 'LUSC', 'LUSC', 'LUSC', 'LUSC', 'LUSC', 'LUSC', 'LUSC', 'LUSC', 'LUSC', 'LUSC', 'LUSC', 'LUSC', 'LUSC', 'LUSC', 'LUSC', 'LUSC', 'LUSC', 'LUSC', 'LUSC', 'LUSC', 'LUSC', 'LUSC', 'LUSC', 'LUSC', 'LUSC', 'LUSC', 'LUSC', 'LUSC', 'LUSC', 'LUSC', 'LUSC', 'LUSC', 'LUSC', 'LUSC', 'LUSC', 'LUSC', 'LUSC', 'LUSC', 'LUSC', 'LUSC', 'LUSC', 'LUSC', 'LUSC', 'LUSC', 'LUSC', 'LUSC', 'LUSC', 'LUSC', 'LUSC', 'LUSC', 'LUSC', 'LUSC', 'LUSC', 'LUSC', 'LUSC', 'LUSC', 'LUSC', 'LUSC', 'LUSC', 'LUSC', 'LUSC', 'LUSC', 'LUSC', 'LUSC', 'LUSC', 'LUSC', 'LUSC', 'LUSC', 'LUSC', 'LUSC', 'LUSC', 'LUSC', 'LUSC', 'LUSC', 'LUSC', 'LUSC', 'LUSC', 'LUSC', 'LUSC', 'LUSC', 'LUSC', 'LUSC', 'LUSC', 'LUSC', 'LUSC', 'LUSC', 'LUSC', 'LUSC', 'LUSC', 'LUSC', 'LUSC', 'LUSC', 'LUSC', 'LUSC', 'LUSC', 'LUSC', 'LUSC', 'LUSC', 'LUSC', 'LUSC', 'LUSC', 'LUSC', 'LUSC', 'LUSC', 'LUSC', 'LUSC', 'LUSC', 'LUSC', 'LUSC', 'LUSC', 'LUSC', 'LUSC', 'LUSC', 'LUSC', 'LUSC', 'LUSC', 'LUSC', 'LUSC', 'LUSC', 'LUSC', 'LUSC', 'LUSC', 'LUSC', 'LUSC', 'LUSC', 'LUSC', 'LUSC', 'LUSC', 'LUSC', 'LUSC', 'LUSC', 'LUSC', 'LUSC', 'LUSC', 'LUSC', 'LUSC', 'LUSC', 'LUSC', 'LUSC', 'LUSC', 'LUSC', 'LUSC', 'LUSC', 'LUSC', 'LUSC', 'LUSC', 'LUSC', 'LUSC', 'LUSC', 'LUSC', 'LUSC', 'LUSC', 'LUSC', 'LUSC', 'LUSC', 'LUSC', 'LUSC', 'LUSC', 'LUSC', 'LUSC', 'LUSC', 'LUSC', 'LUSC', 'LUSC', 'LUSC', 'LUSC', 'LUSC', 'LUSC', 'LUSC', 'LUSC', 'LUSC', 'LUSC', 'LUSC', 'LUSC', 'LUSC', 'LUSC', 'LUSC', 'LUSC', 'LUSC', 'LUSC', 'LUSC', 'LUSC', 'LUSC', 'LUSC', 'LUSC', 'LUSC', 'LUSC', 'LUSC', 'LUSC', 'LUSC', 'LUSC', 'LUSC', 'LUSC', 'LUSC', 'LUSC', 'LUSC', 'LUSC', 'LUSC', 'LUSC', 'LUSC', 'LUSC', 'LUSC', 'LUSC', 'LUSC', 'LUSC', 'LUSC', 'LUSC', 'LUSC', 'LUSC', 'LUSC', 'LUSC', 'LUSC', 'LUSC', 'LUSC', 'LUSC', 'LUSC', 'LUSC', 'LUSC', 'LUSC', 'LUSC', 'LUSC', 'LUSC', 'LUSC', 'LUSC', 'LUSC', 'LUSC', 'LUSC', 'LUSC', 'LUSC', 'LUSC', 'LUSC', 'LUSC', 'LUSC', 'LUSC', 'LUSC', 'LUSC', 'LUSC', 'LUSC', 'LUSC', 'LUSC', 'LUSC', 'LUSC', 'LUSC', 'LUSC', 'LUSC', 'LUSC', 'LUSC', 'LUSC', 'LUSC', 'LUSC', 'LUSC', 'LUSC', 'LUSC', 'LUSC', 'LUSC', 'LUSC', 'LUSC', 'LUSC', 'LUSC', 'LUSC', 'LUSC', 'LUSC', 'LUSC', 'LUSC', 'LUSC', 'LUSC', 'LUSC', 'UCEC', 'UCEC', 'UCEC', 'UCEC', 'UCEC', 'UCEC', 'UCEC', 'UCEC', 'UCEC', 'UCEC', 'UCEC', 'UCEC', 'UCEC', 'UCEC', 'UCEC', 'UCEC', 'UCEC', 'UCEC', 'UCEC', 'UCEC', 'UCEC', 'UCEC', 'UCEC', 'UCEC', 'UCEC', 'UCEC', 'UCEC', 'UCEC', 'UCEC', 'UCEC', 'UCEC', 'UCEC', 'UCEC', 'UCEC', 'UCEC', 'UCEC', 'UCEC', 'UCEC', 'UCEC', 'UCEC', 'UCEC', 'UCEC', 'UCEC', 'UCEC', 'UCEC', 'UCEC', 'UCEC', 'UCEC', 'UCEC', 'UCEC', 'UCEC', 'UCEC', 'UCEC', 'UCEC', 'UCEC', 'UCEC', 'UCEC', 'UCEC', 'UCEC', 'UCEC', 'UCEC', 'UCEC', 'UCEC', 'UCEC', 'UCEC', 'UCEC', 'UCEC', 'UCEC', 'UCEC', 'UCEC', 'UCEC', 'UCEC', 'UCEC', 'UCEC', 'UCEC', 'UCEC', 'UCEC', 'UCEC', 'UCEC', 'UCEC', 'UCEC', 'UCEC', 'UCEC', 'UCEC', 'UCEC', 'UCEC', 'UCEC', 'UCEC', 'UCEC', 'UCEC', 'UCEC', 'UCEC', 'UCEC', 'UCEC', 'UCEC', 'UCEC', 'UCEC', 'UCEC', 'UCEC', 'UCEC', 'UCEC', 'UCEC', 'UCEC', 'UCEC', 'UCEC', 'UCEC', 'UCEC', 'UCEC', 'UCEC', 'UCEC', 'UCEC', 'UCEC', 'UCEC', 'UCEC', 'UCEC', 'UCEC', 'UCEC', 'UCEC', 'UCEC', 'UCEC', 'UCEC', 'UCEC', 'UCEC', 'UCEC', 'UCEC', 'UCEC', 'UCEC', 'UCEC', 'UCEC', 'UCEC', 'UCEC', 'UCEC', 'UCEC', 'UCEC', 'UCEC', 'UCEC', 'UCEC', 'UCEC', 'UCEC', 'UCEC', 'UCEC', 'UCEC', 'UCEC', 'UCEC', 'UCEC', 'UCEC', 'UCEC', 'UCEC', 'UCEC', 'UCEC', 'UCEC', 'UCEC', 'UCEC', 'UCEC', 'UCEC', 'UCEC', 'UCEC', 'UCEC', 'UCEC', 'UCEC', 'UCEC', 'UCEC', 'UCEC', 'UCEC', 'UCEC', 'UCEC', 'UCEC', 'UCEC', 'UCEC', 'UCEC', 'UCEC', 'UCEC', 'UCEC', 'UCEC', 'UCEC', 'UCEC', 'UCEC', 'UCEC', 'UCEC', 'UCEC', 'UCEC', 'UCEC', 'UCEC', 'UCEC', 'UCEC', 'UCEC', 'UCEC', 'UCEC', 'UCEC', 'UCEC', 'UCEC', 'UCEC', 'UCEC', 'UCEC', 'UCEC', 'UCEC', 'UCEC', 'UCEC', 'UCEC', 'UCEC', 'UCEC', 'UCEC', 'UCEC', 'UCEC', 'UCEC', 'UCEC', 'UCEC', 'UCEC', 'UCEC', 'UCEC', 'UCEC', 'UCEC', 'UCEC', 'UCEC', 'UCEC', 'UCEC', 'UCEC', 'UCEC', 'UCEC', 'UCEC', 'UCEC', 'UCEC', 'UCEC', 'UCEC', 'UCEC', 'UCEC', 'UCEC', 'UCEC', 'UCEC', 'UCEC', 'UCEC', 'UCEC', 'UCEC', 'UCEC', 'UCEC', 'UCEC', 'UCEC', 'UCEC', 'UCEC', 'UCEC', 'UCEC', 'UCEC', 'UCEC', 'UCEC', 'UCEC', 'UCEC', 'UCEC', 'UCEC', 'UCEC', 'UCEC', 'UCEC', 'UCEC', 'UCEC', 'UCEC', 'UCEC', 'UCEC', 'UCEC', 'UCEC', 'UCEC', 'UCEC', 'UCEC', 'UCEC', 'UCEC', 'UCEC', 'UCEC', 'UCEC', 'UCEC', 'UCEC', 'UCEC', 'UCEC', 'UCEC', 'UCEC', 'UCEC', 'UCEC', 'UCEC', 'UCEC', 'UCEC', 'UCEC', 'UCEC', 'UCEC', 'UCEC', 'UCEC', 'UCEC', 'UCEC', 'UCEC', 'UCEC', 'UCEC', 'UCEC', 'UCEC', 'UCEC', 'UCEC', 'UCEC', 'UCEC', 'UCEC', 'UCEC', 'UCEC', 'UCEC', 'UCEC', 'UCEC', 'UCEC', 'UCEC', 'UCEC', 'UCEC', 'UCEC', 'UCEC', 'UCEC', 'UCEC', 'UCEC', 'UCEC', 'UCEC', 'UCEC', 'UCEC', 'UCEC', 'UCEC', 'UCEC', 'UCEC', 'UCEC', 'UCEC', 'UCEC', 'UCEC', 'UCEC', 'UCEC', 'UCEC', 'UCEC', 'UCEC', 'UCEC', 'UCEC', 'UCEC', 'UCEC', 'UCEC', 'UCEC', 'UCEC', 'UCEC', 'UCEC', 'UCEC', 'UCEC', 'UCEC', 'UCEC', 'UCEC', 'UCEC', 'UCEC', 'UCEC', 'UCEC', 'UCEC', 'UCEC', 'UCEC', 'UCEC', 'UCEC', 'UCEC', 'UCEC', 'UCEC', 'UCEC', 'UCEC', 'UCEC', 'UCEC', 'UCEC', 'UCEC', 'UCEC', 'UCEC', 'UCEC', 'UCEC', 'UCEC', 'UCEC', 'UCEC', 'UCEC', 'UCEC', 'UCEC', 'UCEC', 'UCEC', 'UCEC', 'UCEC', 'UCEC', 'UCEC', 'UCEC', 'UCEC', 'UCEC', 'UCEC', 'UCEC', 'UCEC', 'UCEC', 'UCEC', 'UCEC', 'UCEC', 'UCEC', 'UCEC', 'UCEC', 'UCEC', 'UCEC', 'UCEC', 'UCEC', 'UCEC', 'UCEC', 'UCEC', 'UCEC', 'UCEC', 'UCEC', 'UCEC', 'UCEC', 'UCEC', 'UCEC', 'UCEC', 'UCEC', 'UCEC', 'UCEC', 'UCEC', 'UCEC', 'UCEC', 'UCEC', 'UCEC', 'UCEC', 'UCEC', 'UCEC', 'UCEC', 'UCEC', 'UCEC', 'UCEC', 'UCEC', 'UCEC', 'UCEC', 'UCEC', 'UCEC', 'UCEC', 'UCEC', 'UCEC', 'UCEC', 'UCEC', 'UCEC', 'UCEC', 'UCEC', 'UCEC', 'UCEC', 'UCEC', 'UCEC', 'UCEC', 'UCEC', 'UCEC', 'UCEC', 'UCEC', 'UCEC', 'UCEC', 'UCEC', 'UCEC', 'UCEC', 'UCEC', 'UCEC', 'UCEC', 'UCEC', 'UCEC', 'UCEC', 'UCEC', 'UCEC', 'UCEC', 'UCEC', 'UCEC', 'UCEC', 'UCEC', 'UCEC', 'UCEC', 'UCEC', 'UCEC', 'UCEC', 'UCEC', 'UCEC', 'UCEC', 'UCEC', 'UCEC', 'UCEC', 'UCEC', 'UCEC', 'UCEC', 'UCEC', 'UCEC', 'UCEC', 'UCEC', 'UCEC', 'UCEC', 'UCEC', 'UCEC', 'UCEC', 'UCEC', 'UCEC', 'UCEC', 'UCEC', 'UCEC', 'UCEC', 'UCEC', 'UCEC', 'UCEC', 'UCEC', 'UCEC', 'UCEC', 'UCEC', 'UCEC', 'UCEC', 'UCEC', 'UCEC', 'UCEC', 'UCEC', 'UCEC', 'UCEC', 'UCEC', 'UCEC', 'UCEC', 'UCEC', 'UCEC', 'UCEC', 'UCEC', 'UCEC', 'UCEC', 'UCEC', 'UCEC', 'UCEC', 'UCEC', 'UCEC', 'UCEC', 'UCEC', 'UCEC', 'UCEC', 'UCEC', 'UCEC', 'LUAD', 'LUAD', 'LUAD', 'LUAD', 'LUAD', 'LUAD', 'LUAD', 'LUAD', 'LUAD', 'LUAD', 'LUAD', 'LUAD', 'LUAD', 'LUAD', 'LUAD', 'LUAD', 'LUAD', 'LUAD', 'LUAD', 'LUAD', 'LUAD', 'LUAD', 'LUAD', 'LUAD', 'LUAD', 'LUAD', 'LUAD', 'LUAD', 'LUAD', 'LUAD', 'LUAD', 'LUAD', 'LUAD', 'LUAD', 'LUAD', 'LUAD', 'LUAD', 'LUAD', 'LUAD', 'LUAD', 'LUAD', 'LUAD', 'LUAD', 'LUAD', 'LUAD', 'LUAD', 'LUAD', 'LUAD', 'LUAD', 'LUAD', 'LUAD', 'LUAD', 'LUAD', 'LUAD', 'LUAD', 'LUAD', 'LUAD', 'LUAD', 'LUAD', 'LUAD', 'LUAD', 'LUAD', 'LUAD', 'LUAD', 'LUAD', 'LUAD', 'LUAD', 'LUAD', 'LUAD', 'LUAD', 'LUAD', 'LUAD', 'LUAD', 'LUAD', 'LUAD', 'LUAD', 'LUAD', 'LUAD', 'LUAD', 'LUAD', 'LUAD', 'LUAD', 'LUAD', 'LUAD', 'LUAD', 'LUAD', 'LUAD', 'LUAD', 'LUAD', 'LUAD', 'LUAD', 'LUAD', 'LUAD', 'LUAD', 'LUAD', 'LUAD', 'LUAD', 'LUAD', 'LUAD', 'LUAD', 'LUAD', 'LUAD', 'LUAD', 'LUAD', 'LUAD', 'LUAD', 'LUAD', 'LUAD', 'LUAD', 'LUAD', 'LUAD', 'LUAD', 'LUAD', 'LUAD', 'LUAD', 'LUAD', 'LUAD', 'LUAD', 'LUAD', 'LUAD', 'LUAD', 'LUAD', 'LUAD', 'LUAD', 'LUAD', 'LUAD', 'LUAD', 'LUAD', 'LUAD', 'LUAD', 'LUAD', 'LUAD', 'LUAD', 'LUAD', 'LUAD', 'LUAD', 'LUAD', 'LUAD', 'LUAD', 'LUAD', 'LUAD', 'LUAD', 'LUAD', 'LUAD', 'LUAD', 'LUAD', 'LUAD', 'LUAD', 'LUAD', 'LUAD', 'LUAD', 'LUAD', 'LUAD', 'LUAD', 'LUAD', 'LUAD', 'LUAD', 'LUAD', 'LUAD', 'LUAD', 'LUAD', 'LUAD', 'LUAD', 'LUAD', 'LUAD', 'LUAD', 'LUAD', 'LUAD', 'LUAD', 'LUAD', 'LUAD', 'LUAD', 'LUAD', 'LUAD', 'LUAD', 'LUAD', 'LUAD', 'LUAD', 'LUAD', 'LUAD', 'LUAD', 'LUAD', 'LUAD', 'LUAD', 'LUAD', 'LUAD', 'LUAD', 'LUAD', 'LUAD', 'LUAD', 'LUAD', 'LUAD', 'LUAD', 'LUAD', 'LUAD', 'LUAD', 'LUAD', 'LUAD', 'LUAD', 'LUAD', 'LUAD', 'LUAD', 'LUAD', 'LUAD', 'LUAD', 'LUAD', 'LUAD', 'LUAD', 'LUAD', 'LUAD', 'LUAD', 'LUAD', 'LUAD', 'LUAD', 'LUAD', 'LUAD', 'LUAD', 'LUAD', 'LUAD', 'LUAD', 'LUAD', 'LUAD', 'LUAD', 'LUAD', 'LUAD', 'LUAD', 'LUAD', 'LUAD', 'LUAD', 'LUAD', 'LUAD', 'LUAD', 'LUAD', 'LUAD', 'LUAD', 'LUAD', 'LUAD', 'LUAD', 'LUAD', 'LUAD', 'LUAD', 'LUAD', 'LUAD', 'LUAD', 'LUAD', 'LUAD', 'LUAD', 'LUAD', 'LUAD', 'LUAD', 'LUAD', 'LUAD', 'LUAD', 'LUAD', 'LUAD', 'LUAD', 'LUAD', 'LUAD', 'LUAD', 'LUAD', 'LUAD', 'LUAD', 'LUAD', 'LUAD', 'LUAD', 'LUAD', 'LUAD', 'LUAD', 'LUAD', 'LUAD', 'LUAD', 'LUAD', 'LUAD', 'LUAD', 'LUAD', 'LUAD', 'LUAD', 'LUAD', 'LUAD', 'LUAD', 'LUAD', 'LUAD', 'LUAD', 'LUAD', 'LUAD', 'LUAD', 'LUAD', 'LUAD', 'LUAD', 'LUAD', 'LUAD', 'LUAD', 'LUAD', 'LUAD', 'LUAD', 'LUAD', 'LUAD', 'LUAD', 'LUAD', 'LUAD', 'LUAD', 'LUAD', 'LUAD', 'LUAD', 'LUAD', 'LUAD', 'LUAD', 'LUAD', 'LUAD', 'LUAD', 'LUAD', 'LUAD', 'LUAD', 'LUAD', 'LUAD', 'LUAD', 'LUAD', 'LUAD', 'LUAD', 'LUAD', 'LUAD', 'LUAD', 'LUAD', 'LUAD', 'LUAD', 'LUAD', 'LUAD', 'LUAD', 'LUAD', 'LUAD', 'LUAD', 'LUAD', 'LUAD', 'LUAD', 'LUAD', 'LUAD', 'LUAD', 'LUAD', 'LUAD', 'LUAD', 'GBM', 'GBM', 'GBM', 'GBM', 'BRCA', 'BRCA', 'BRCA', 'BRCA', 'BRCA', 'BRCA', 'BRCA', 'BRCA', 'BRCA', 'BRCA', 'BRCA', 'BRCA', 'BRCA', 'BRCA', 'BRCA', 'BRCA', 'BRCA', 'BRCA', 'BRCA', 'BRCA', 'BRCA', 'BRCA', 'BRCA', 'BRCA', 'BRCA', 'BRCA', 'BRCA', 'BRCA', 'BRCA', 'BRCA', 'BRCA', 'BRCA', 'BRCA', 'BRCA', 'BRCA', 'BRCA', 'BRCA', 'BRCA', 'BRCA', 'BRCA', 'BRCA', 'BRCA', 'BRCA', 'BRCA', 'BRCA', 'BRCA', 'BRCA', 'BRCA', 'BRCA', 'BRCA', 'BRCA', 'BRCA', 'BRCA', 'BRCA', 'BRCA', 'BRCA', 'BRCA', 'BRCA', 'BRCA', 'BRCA', 'BRCA', 'BRCA', 'BRCA', 'BRCA', 'BRCA', 'BRCA', 'BRCA', 'BRCA', 'BRCA', 'BRCA', 'BRCA', 'BRCA', 'BRCA', 'BRCA', 'BRCA', 'BRCA', 'BRCA', 'BRCA', 'BRCA', 'BRCA', 'BRCA', 'BRCA', 'BRCA', 'BRCA', 'BRCA', 'BRCA', 'BRCA', 'BRCA', 'BRCA', 'BRCA', 'BRCA', 'BRCA', 'BRCA', 'BRCA', 'BRCA', 'BRCA', 'BRCA', 'BRCA', 'BRCA', 'BRCA', 'BRCA', 'BRCA', 'BRCA', 'BRCA', 'BRCA', 'BRCA', 'BRCA', 'BRCA', 'BRCA', 'BRCA', 'BRCA', 'BRCA', 'BRCA', 'BRCA', 'BRCA', 'BRCA', 'BRCA', 'BRCA', 'BRCA', 'BRCA', 'BRCA', 'BRCA', 'BRCA', 'BRCA', 'BRCA', 'BRCA', 'BRCA', 'BRCA', 'BRCA', 'BRCA', 'BRCA', 'BRCA', 'BRCA', 'BRCA', 'BRCA', 'BRCA', 'BRCA', 'BRCA', 'BRCA', 'BRCA', 'BRCA', 'BRCA', 'BRCA', 'BRCA', 'BRCA', 'BRCA', 'BRCA', 'BRCA', 'BRCA', 'BRCA', 'BRCA', 'BRCA', 'BRCA', 'BRCA', 'BRCA', 'BRCA', 'BRCA', 'BRCA', 'BRCA', 'BRCA', 'BRCA', 'BRCA', 'BRCA', 'BRCA', 'BRCA', 'BRCA', 'BRCA', 'BRCA', 'BRCA', 'BRCA', 'BRCA', 'BRCA', 'BRCA', 'BRCA', 'BRCA', 'BRCA', 'BRCA', 'BRCA', 'BRCA', 'BRCA', 'BRCA', 'BRCA', 'BRCA', 'BRCA', 'BRCA', 'BRCA', 'BRCA', 'BRCA', 'BRCA', 'BRCA', 'BRCA', 'BRCA', 'BRCA', 'BRCA', 'BRCA', 'BRCA', 'BRCA', 'BRCA', 'BRCA', 'BRCA', 'BRCA', 'BRCA', 'BRCA', 'BRCA', 'BRCA', 'BRCA', 'BRCA', 'BRCA', 'BRCA', 'BRCA', 'BRCA', 'BRCA', 'BRCA', 'BRCA', 'BRCA', 'BRCA', 'BRCA', 'BRCA', 'BRCA', 'BRCA', 'BRCA', 'BRCA', 'BRCA', 'BRCA', 'BRCA', 'BRCA', 'BRCA', 'BRCA', 'BRCA', 'BRCA', 'BRCA', 'BRCA', 'BRCA', 'BRCA', 'BRCA', 'BRCA', 'BRCA', 'BRCA', 'BRCA', 'BRCA', 'BRCA', 'BRCA', 'BRCA', 'BRCA', 'BRCA', 'BRCA', 'BRCA', 'BRCA', 'BRCA', 'BRCA', 'BRCA', 'BRCA', 'BRCA', 'BRCA', 'BRCA', 'BRCA', 'BRCA', 'BRCA', 'BRCA', 'BRCA', 'BRCA', 'BRCA', 'BRCA', 'BRCA', 'BRCA', 'BRCA', 'BRCA', 'BRCA', 'BRCA', 'BRCA', 'BRCA', 'BRCA', 'BRCA', 'BRCA', 'BRCA', 'BRCA', 'BRCA', 'BRCA', 'BRCA', 'BRCA', 'BRCA', 'BRCA', 'BRCA', 'BRCA', 'BRCA', 'BRCA', 'BRCA', 'BRCA', 'BRCA', 'BRCA', 'BRCA', 'BRCA', 'BRCA', 'BRCA', 'BRCA', 'BRCA', 'BRCA', 'BRCA', 'BRCA', 'BRCA', 'BRCA', 'BRCA', 'BRCA', 'BRCA', 'BRCA', 'BRCA', 'BRCA', 'BRCA', 'BRCA', 'BRCA', 'BRCA', 'BRCA', 'BRCA', 'BRCA', 'BRCA', 'BRCA', 'BRCA', 'BRCA', 'BRCA', 'BRCA', 'BRCA', 'BRCA', 'BRCA', 'BRCA', 'BRCA', 'BRCA', 'BRCA', 'BRCA', 'BRCA', 'BRCA', 'BRCA', 'BRCA', 'BRCA', 'BRCA', 'BRCA', 'BRCA', 'BRCA', 'BRCA', 'BRCA', 'BRCA', 'BRCA', 'BRCA', 'BRCA', 'BRCA', 'BRCA', 'BRCA', 'BRCA', 'BRCA', 'BRCA', 'BRCA', 'BRCA', 'BRCA', 'BRCA', 'BRCA', 'BRCA', 'BRCA', 'BRCA', 'BRCA', 'BRCA', 'BRCA', 'BRCA', 'BRCA', 'BRCA', 'BRCA', 'BRCA', 'BRCA', 'BRCA', 'BRCA', 'BRCA', 'BRCA', 'BRCA', 'BRCA', 'BRCA', 'BRCA', 'BRCA', 'BRCA', 'BRCA', 'BRCA', 'BRCA', 'BRCA', 'BRCA', 'BRCA', 'BRCA', 'BRCA', 'BRCA', 'BRCA', 'BRCA', 'BRCA', 'BRCA', 'BRCA', 'BRCA', 'BRCA', 'BRCA', 'BRCA', 'BRCA', 'BRCA', 'BRCA', 'BRCA', 'BRCA', 'BRCA', 'BRCA', 'BRCA', 'BRCA', 'BRCA', 'BRCA', 'BRCA', 'BRCA', 'BRCA', 'BRCA', 'BRCA', 'BRCA', 'BRCA', 'BRCA', 'BRCA', 'BRCA', 'BRCA', 'BRCA', 'BRCA', 'BRCA', 'BRCA', 'BRCA', 'BRCA', 'BRCA', 'BRCA', 'BRCA', 'BRCA', 'BRCA', 'BRCA', 'BRCA', 'BRCA', 'BRCA', 'BRCA', 'BRCA', 'BRCA', 'BRCA', 'BRCA', 'BRCA', 'BRCA', 'BRCA', 'BRCA', 'BRCA', 'BRCA', 'BRCA', 'BRCA', 'BRCA', 'BRCA', 'BRCA', 'BRCA', 'OV', 'OV', 'OV', 'OV', 'OV', 'OV', 'OV', 'OV', 'OV', 'OV', 'OV', 'OV', 'OV', 'OV', 'OV', 'OV', 'OV', 'OV', 'OV', 'OV', 'OV', 'OV', 'OV', 'OV', 'OV', 'OV', 'OV', 'OV', 'OV', 'OV', 'OV', 'OV', 'OV', 'OV', 'OV', 'OV', 'OV', 'OV', 'OV', 'OV', 'OV', 'OV', 'OV', 'OV', 'OV', 'OV', 'OV', 'OV', 'OV', 'OV', 'OV', 'OV', 'OV', 'OV', 'OV', 'OV', 'OV', 'OV', 'OV', 'OV', 'OV', 'OV', 'OV', 'OV', 'OV', 'OV', 'OV', 'OV', 'OV', 'OV', 'TGCT', 'TGCT', 'TGCT', 'TGCT', 'TGCT', 'TGCT', 'TGCT', 'TGCT', 'TGCT', 'TGCT', 'TGCT', 'TGCT', 'TGCT', 'TGCT', 'TGCT', 'TGCT', 'TGCT', 'TGCT', 'TGCT', 'TGCT', 'TGCT', 'TGCT', 'TGCT', 'TGCT', 'TGCT', 'TGCT', 'TGCT', 'TGCT', 'TGCT', 'TGCT', 'TGCT', 'TGCT', 'TGCT', 'TGCT', 'TGCT', 'TGCT', 'TGCT', 'TGCT', 'TGCT', 'TGCT', 'TGCT', 'TGCT', 'TGCT', 'TGCT', 'TGCT', 'TGCT', 'TGCT', 'TGCT', 'TGCT', 'TGCT', 'TGCT', 'TGCT', 'TGCT', 'TGCT', 'TGCT', 'TGCT', 'TGCT', 'TGCT', 'TGCT', 'TGCT', 'TGCT', 'TGCT', 'TGCT', 'TGCT', 'TGCT', 'TGCT', 'TGCT', 'TGCT', 'TGCT', 'TGCT', 'TGCT', 'TGCT', 'TGCT', 'TGCT', 'TGCT', 'TGCT', 'TGCT', 'TGCT', 'TGCT', 'TGCT', 'TGCT', 'TGCT', 'TGCT', 'TGCT', 'TGCT', 'TGCT', 'TGCT', 'TGCT', 'TGCT', 'TGCT', 'TGCT', 'TGCT', 'TGCT', 'TGCT', 'TGCT', 'TGCT', 'TGCT', 'TGCT', 'TGCT', 'TGCT', 'TGCT', 'TGCT', 'TGCT', 'TGCT', 'TGCT', 'TGCT', 'TGCT', 'TGCT', 'TGCT', 'TGCT', 'TGCT', 'TGCT', 'TGCT', 'TGCT', 'TGCT', 'TGCT', 'TGCT', 'TGCT', 'TGCT', 'TGCT', 'TGCT', 'TGCT', 'TGCT', 'TGCT', 'TGCT', 'TGCT', 'TGCT', 'TGCT', 'TGCT', 'TGCT', 'TGCT', 'TGCT', 'TGCT', 'TGCT', 'TGCT', 'TGCT', 'TGCT', 'TGCT', 'TGCT', 'TGCT', 'TGCT', 'TGCT', 'TGCT', 'TGCT', 'TGCT', 'TGCT', 'TGCT', 'TGCT', 'TGCT', 'TGCT', 'TGCT', 'TGCT', 'TGCT', 'TGCT', 'TGCT', 'TGCT', 'LGG', 'LGG', 'LGG', 'LGG', 'LGG', 'LGG', 'LGG', 'LGG', 'LGG', 'LGG', 'LGG', 'LGG', 'LGG', 'LGG', 'LGG', 'LGG', 'LGG', 'LGG', 'LGG', 'LGG', 'LGG', 'LGG', 'LGG', 'LGG', 'LGG', 'LGG', 'LGG', 'LGG', 'LGG', 'LGG', 'LGG', 'LGG', 'LGG', 'LGG', 'LGG', 'LGG', 'LGG', 'LGG', 'LGG', 'LGG', 'LGG', 'LGG', 'LGG', 'LGG', 'LGG', 'LGG', 'LGG', 'LGG', 'LGG', 'LGG', 'LGG', 'LGG', 'LGG', 'LGG', 'LGG', 'LGG', 'LGG', 'LGG', 'LGG', 'LGG', 'LGG', 'LGG', 'LGG', 'LGG', 'LGG', 'LGG', 'LGG', 'LGG', 'LGG', 'LGG', 'LGG', 'LGG', 'LGG', 'LGG', 'LGG', 'LGG', 'LGG', 'LGG', 'LGG', 'LGG', 'LGG', 'LGG', 'LGG', 'LGG', 'LGG', 'LGG', 'LGG', 'LGG', 'LGG', 'LGG', 'LGG', 'LGG', 'LGG', 'LGG', 'LGG', 'LGG', 'LGG', 'LGG', 'LGG', 'LGG', 'LGG', 'LGG', 'LGG', 'LGG', 'LGG', 'LGG', 'LGG', 'LGG', 'LGG', 'LGG', 'LGG', 'LGG', 'LGG', 'LGG', 'LGG', 'LGG', 'LGG', 'LGG', 'LGG', 'LGG', 'LGG', 'LGG', 'LGG', 'LGG', 'LGG', 'LGG', 'LGG', 'LGG', 'LGG', 'LGG', 'LGG', 'LGG', 'LGG', 'LGG', 'LGG', 'LGG', 'LGG', 'LGG', 'LGG', 'LGG', 'LGG', 'LGG', 'LGG', 'LGG', 'LGG', 'LGG', 'LGG', 'LGG', 'LGG', 'LGG', 'LGG', 'LGG', 'LGG', 'LGG', 'LGG', 'LGG', 'LGG', 'LGG', 'LGG', 'LGG', 'LGG', 'LGG', 'LGG', 'LGG', 'LGG', 'LGG', 'LGG', 'LGG', 'LGG', 'LGG', 'LGG', 'LGG', 'LGG', 'LGG', 'LGG', 'LGG', 'LGG', 'LGG', 'LGG', 'LGG', 'LGG', 'LGG', 'LGG', 'LGG', 'LGG', 'LGG', 'LGG', 'LGG', 'LGG', 'LGG', 'LGG', 'LGG', 'LGG', 'LGG', 'LGG', 'LGG', 'LGG', 'LGG', 'LGG', 'LGG', 'LGG', 'LGG', 'LGG', 'LGG', 'LGG', 'LGG', 'LGG', 'LGG', 'LGG', 'LGG', 'LGG', 'LGG', 'LGG', 'LGG', 'LGG', 'LGG', 'LGG', 'LGG', 'LGG', 'LGG', 'LGG', 'LGG', 'LGG', 'LGG', 'LGG', 'LGG', 'LGG', 'LGG', 'LGG', 'LGG', 'LGG', 'LGG', 'LGG', 'LGG', 'LGG', 'LGG', 'LGG', 'LGG', 'LGG', 'LGG', 'LGG', 'LGG', 'LGG', 'LGG', 'LGG', 'LGG', 'LGG', 'LGG', 'LGG', 'LGG', 'LGG', 'LGG', 'LGG', 'LGG', 'LGG', 'LGG', 'LGG', 'LGG', 'LGG', 'LGG', 'LGG', 'LGG', 'LGG', 'LGG', 'LGG', 'LGG', 'LGG', 'LGG', 'LGG', 'LGG', 'LGG', 'LGG', 'LGG', 'LGG', 'LGG', 'LGG', 'LGG', 'LGG', 'LGG', 'LGG', 'LGG', 'LGG', 'LGG', 'LGG', 'LGG', 'LGG', 'LGG', 'LGG', 'LGG', 'LGG', 'LGG', 'LGG', 'LGG', 'LGG', 'LGG', 'LGG', 'LGG', 'LGG', 'LGG', 'LGG', 'LGG', 'LGG', 'LGG', 'LGG', 'LGG', 'LGG', 'LGG', 'LGG', 'LGG', 'LGG', 'LGG', 'LGG', 'LGG', 'LGG', 'LGG', 'LGG', 'LGG', 'LGG', 'LGG', 'LGG', 'LGG', 'LGG', 'LGG', 'LGG', 'LGG', 'LGG', 'LGG', 'LGG', 'LGG', 'LGG', 'LGG', 'LGG', 'LGG', 'LGG', 'LGG', 'LGG', 'LGG', 'LGG', 'LGG', 'LGG', 'LGG', 'LGG', 'LGG', 'LGG', 'LGG', 'LGG', 'LGG', 'LGG', 'LGG', 'LGG', 'LGG', 'LGG', 'LGG', 'LGG', 'LGG', 'LGG', 'LGG', 'LGG', 'LGG', 'LGG', 'LGG', 'LGG', 'LGG', 'LGG', 'LGG', 'LGG', 'LGG', 'LGG', 'LGG', 'LGG', 'LGG', 'LGG', 'LGG', 'LGG', 'LGG', 'LGG', 'LGG', 'LGG', 'LGG', 'LGG', 'LGG', 'LGG', 'LGG', 'LGG', 'LGG', 'LGG', 'LGG', 'LGG', 'LGG', 'LGG', 'LGG', 'LGG', 'LGG', 'LGG', 'LGG', 'LGG', 'LGG', 'LGG', 'LGG', 'LGG', 'LGG', 'LGG', 'LGG', 'LGG', 'LGG', 'LGG', 'LGG', 'LGG', 'LGG', 'LGG', 'LGG', 'LGG', 'LGG', 'LGG', 'LGG', 'LGG', 'LGG', 'LGG', 'LGG', 'LGG', 'LGG', 'LGG', 'LGG', 'LGG', 'LGG', 'LGG', 'LGG', 'LGG', 'LGG', 'LGG', 'LGG', 'LGG', 'LGG', 'LGG', 'LGG', 'LGG', 'LGG', 'LGG', 'LGG', 'LGG', 'LGG', 'LGG', 'LGG', 'LGG', 'LGG', 'LGG', 'LGG', 'LGG', 'LGG', 'LGG', 'LGG', 'LGG', 'LGG', 'LGG', 'LGG', 'LGG', 'LGG', 'LGG', 'LGG', 'LGG', 'LGG', 'LGG', 'LGG', 'LGG', 'LGG', 'LGG', 'LGG', 'LGG', 'LGG', 'LGG', 'LGG', 'LGG', 'LGG', 'LGG', 'LGG', 'LGG', 'LGG', 'LGG', 'LGG', 'LGG', 'LGG', 'LGG', 'LGG', 'LGG', 'LGG', 'LGG', 'LGG', 'LGG', 'LGG', 'LGG', 'LGG', 'LGG', 'LGG', 'LGG', 'LGG', 'LGG', 'LGG', 'LGG', 'LGG', 'LGG', 'LGG', 'LGG', 'LGG', 'LGG', 'LGG', 'LGG', 'LGG', 'LGG', 'LGG', 'LGG', 'LGG', 'LGG', 'LGG', 'LGG', 'LGG', 'LGG', 'LGG', 'LGG', 'LGG', 'LGG', 'LGG', 'LGG', 'LGG', 'LGG', 'LGG', 'LGG', 'LGG', 'LGG', 'LGG', 'LGG', 'DLBC', 'DLBC', 'DLBC', 'DLBC', 'DLBC', 'DLBC', 'DLBC', 'DLBC', 'DLBC', 'DLBC', 'DLBC', 'DLBC', 'DLBC', 'DLBC', 'DLBC', 'DLBC', 'DLBC', 'DLBC', 'DLBC', 'DLBC', 'DLBC', 'DLBC', 'DLBC', 'DLBC', 'DLBC', 'DLBC', 'DLBC', 'DLBC', 'DLBC', 'DLBC', 'DLBC', 'DLBC', 'DLBC', 'DLBC', 'DLBC', 'DLBC', 'DLBC', 'DLBC', 'DLBC', 'DLBC', 'DLBC', 'DLBC', 'DLBC', 'DLBC', 'DLBC', 'DLBC', 'DLBC', 'UVM', 'UVM', 'UVM', 'UVM', 'UVM', 'UVM', 'UVM', 'UVM', 'UVM', 'UVM', 'UVM', 'UVM', 'UVM', 'UVM', 'UVM', 'UVM', 'UVM', 'UVM', 'UVM', 'UVM', 'UVM', 'UVM', 'UVM', 'UVM', 'UVM', 'UVM', 'UVM', 'UVM', 'UVM', 'UVM', 'UVM', 'UVM', 'UVM', 'UVM', 'UVM', 'UVM', 'UVM', 'UVM', 'UVM', 'UVM', 'UVM', 'UVM', 'UVM', 'UVM', 'UVM', 'UVM', 'UVM', 'UVM', 'UVM', 'UVM', 'UVM', 'UVM', 'UVM', 'UVM', 'UVM', 'UVM', 'UVM', 'UVM', 'UVM', 'UVM', 'UVM', 'UVM', 'UVM', 'UVM', 'UVM', 'UVM', 'UVM', 'UVM', 'UVM', 'UVM', 'UVM', 'UVM', 'UVM', 'UVM', 'UVM', 'UVM', 'UVM', 'UVM', 'UVM', 'UVM', 'BRCA', 'BRCA', 'BRCA', 'BRCA', 'BRCA', 'BRCA', 'BRCA', 'BRCA', 'BRCA', 'BRCA', 'BRCA', 'BRCA', 'BRCA', 'BRCA', 'BRCA', 'BRCA', 'BRCA', 'BRCA', 'BRCA', 'BRCA', 'BRCA', 'BRCA', 'BRCA', 'BRCA', 'BRCA', 'BRCA', 'BRCA', 'BRCA', 'BRCA', 'BRCA', 'BRCA', 'BRCA', 'BRCA', 'BRCA', 'BRCA', 'BRCA', 'BRCA', 'BRCA', 'BRCA', 'BRCA', 'BRCA', 'BRCA', 'BRCA', 'BRCA', 'BRCA', 'BRCA', 'BRCA', 'BRCA', 'BRCA', 'BRCA', 'BRCA', 'BRCA', 'BRCA', 'BRCA', 'BRCA', 'BRCA', 'BRCA', 'BRCA', 'BRCA', 'BRCA', 'BRCA', 'BRCA', 'BRCA', 'BRCA', 'BRCA', 'BRCA', 'BRCA', 'BRCA', 'BRCA', 'BRCA', 'BRCA', 'BRCA', 'BRCA', 'BRCA', 'BRCA', 'BRCA', 'BRCA', 'BRCA', 'BRCA', 'BRCA', 'BRCA', 'BRCA', 'BRCA', 'BRCA', 'BRCA', 'BRCA', 'BRCA', 'BRCA', 'BRCA', 'BRCA', 'BRCA', 'BRCA', 'BRCA', 'BRCA', 'BRCA', 'BRCA', 'BRCA', 'BRCA', 'BRCA', 'BRCA', 'BRCA', 'BRCA', 'BRCA', 'BRCA', 'BRCA', 'BRCA', 'PRAD', 'PRAD', 'PRAD', 'PRAD', 'PRAD', 'PRAD', 'PRAD', 'PRAD', 'PRAD', 'PRAD', 'PRAD', 'PRAD', 'PRAD', 'PRAD', 'PRAD', 'PRAD', 'PRAD', 'PRAD', 'PRAD', 'PRAD', 'PRAD', 'PRAD', 'PRAD', 'PRAD', 'PRAD', 'PRAD', 'PRAD', 'PRAD', 'PRAD', 'PRAD', 'PRAD', 'PRAD', 'PRAD', 'PRAD', 'PRAD', 'PRAD', 'PRAD', 'PRAD', 'PRAD', 'PRAD', 'PRAD', 'PRAD', 'PRAD', 'PRAD', 'PRAD', 'PRAD', 'PRAD', 'PRAD', 'PRAD', 'PRAD', 'PRAD', 'PRAD', 'PRAD', 'PRAD', 'PRAD', 'PRAD', 'PRAD', 'PRAD', 'PRAD', 'PRAD', 'PRAD', 'PRAD', 'PRAD', 'PRAD', 'PRAD', 'PRAD', 'PRAD', 'PRAD', 'PRAD', 'PRAD', 'PRAD', 'PRAD', 'PRAD', 'PRAD', 'PRAD', 'PRAD', 'PRAD', 'PRAD', 'PRAD', 'PRAD', 'PRAD', 'PRAD', 'PRAD', 'PRAD', 'PRAD', 'PRAD', 'PRAD', 'PRAD', 'PRAD', 'PRAD', 'PRAD', 'PRAD', 'PRAD', 'PRAD', 'PRAD', 'PRAD', 'PRAD', 'PRAD', 'PRAD', 'PRAD', 'PRAD', 'PRAD', 'PRAD', 'PRAD', 'PRAD', 'PRAD', 'PRAD', 'PRAD', 'PRAD', 'PRAD', 'PRAD', 'PRAD', 'PRAD', 'PRAD', 'PRAD', 'PRAD', 'PRAD', 'PRAD', 'PRAD', 'PRAD', 'PRAD', 'PRAD', 'PRAD', 'PRAD', 'PRAD', 'PRAD', 'PRAD', 'PRAD', 'PRAD', 'PRAD', 'PRAD', 'PRAD', 'PRAD', 'PRAD', 'PRAD', 'PRAD', 'PRAD', 'PRAD', 'PRAD', 'PRAD', 'PRAD', 'PRAD', 'PRAD', 'PRAD', 'PRAD', 'PRAD', 'PRAD', 'PRAD', 'PRAD', 'PRAD', 'PRAD', 'PRAD', 'PRAD', 'PRAD', 'PRAD', 'PRAD', 'PRAD', 'PRAD', 'PRAD', 'PRAD', 'PRAD', 'PRAD', 'PRAD', 'PRAD', 'PRAD', 'PRAD', 'PRAD', 'PRAD', 'PRAD', 'PRAD', 'PRAD', 'PRAD', 'PRAD', 'PRAD', 'PRAD', 'PRAD', 'PRAD', 'PRAD', 'PRAD', 'PRAD', 'PRAD', 'PRAD', 'PRAD', 'PRAD', 'PRAD', 'PRAD', 'PRAD', 'PRAD', 'PRAD', 'PRAD', 'PRAD', 'PRAD', 'PRAD', 'PRAD', 'PRAD', 'PRAD', 'PRAD', 'PRAD', 'PRAD', 'PRAD', 'PRAD', 'PRAD', 'PRAD', 'PRAD', 'PRAD', 'PRAD', 'PRAD', 'PRAD', 'PRAD', 'PRAD', 'PRAD', 'PRAD', 'PRAD', 'PRAD', 'PRAD', 'PRAD', 'PRAD', 'PRAD', 'PRAD', 'PRAD', 'PRAD', 'PRAD', 'PRAD', 'PRAD', 'PRAD', 'PRAD', 'PRAD', 'PRAD', 'PRAD', 'PRAD', 'PRAD', 'PRAD', 'PRAD', 'PRAD', 'PRAD', 'PRAD', 'PRAD', 'PRAD', 'PRAD', 'PRAD', 'PRAD', 'PRAD', 'PRAD', 'PRAD', 'PRAD', 'PRAD', 'PRAD', 'PRAD', 'PRAD', 'PRAD', 'PRAD', 'PRAD', 'PRAD', 'PRAD', 'PRAD', 'PRAD', 'PRAD', 'PRAD', 'PRAD', 'PRAD', 'PRAD', 'PRAD', 'PRAD', 'PRAD', 'PRAD', 'PRAD', 'PRAD', 'PRAD', 'PRAD', 'PRAD', 'PRAD', 'PRAD', 'PRAD', 'PRAD', 'PRAD', 'PRAD', 'PRAD', 'PRAD', 'PRAD', 'PRAD', 'PRAD', 'PRAD', 'PRAD', 'PRAD', 'PRAD', 'PRAD', 'PRAD', 'PRAD', 'PRAD', 'PRAD', 'PRAD', 'PRAD', 'PRAD', 'PRAD', 'PRAD', 'PRAD', 'PRAD', 'PRAD', 'PRAD', 'PRAD', 'PRAD', 'PRAD', 'PRAD', 'PRAD', 'PRAD', 'PRAD', 'PRAD', 'PRAD', 'PRAD', 'PRAD', 'PRAD', 'PRAD', 'PRAD', 'PRAD', 'PRAD', 'PRAD', 'PRAD', 'PRAD', 'PRAD', 'PRAD', 'PRAD', 'PRAD', 'PRAD', 'PRAD', 'PRAD', 'PRAD', 'PRAD', 'PRAD', 'PRAD', 'PRAD', 'PRAD', 'PRAD', 'PRAD', 'PRAD', 'PRAD', 'PRAD', 'PRAD', 'PRAD', 'PRAD', 'PRAD', 'PRAD', 'PRAD', 'PRAD', 'PRAD', 'PRAD', 'PRAD', 'PRAD', 'PRAD', 'PRAD', 'PRAD', 'PRAD', 'PRAD', 'PRAD', 'PRAD', 'PRAD', 'PRAD', 'PRAD', 'PRAD', 'PRAD', 'PRAD', 'PRAD', 'PRAD', 'PRAD', 'PRAD', 'PRAD', 'PRAD', 'PRAD', 'PRAD', 'PRAD', 'PRAD', 'PRAD', 'PRAD', 'PRAD', 'PRAD', 'PRAD', 'PRAD', 'PRAD', 'PRAD', 'PRAD', 'PRAD', 'PRAD', 'PRAD', 'PRAD', 'PRAD', 'PRAD', 'PRAD', 'PRAD', 'PRAD', 'PRAD', 'PRAD', 'PRAD', 'PRAD', 'PRAD', 'PRAD', 'PRAD', 'PRAD', 'PRAD', 'PRAD', 'PRAD', 'PRAD', 'PRAD', 'PRAD', 'PRAD', 'PRAD', 'PRAD', 'PRAD', 'PRAD', 'PRAD', 'PRAD', 'PRAD', 'PRAD', 'PRAD', 'PRAD', 'PRAD', 'PRAD', 'PRAD', 'PRAD', 'PRAD', 'PRAD', 'PRAD', 'PRAD', 'PRAD', 'PRAD', 'PRAD', 'PRAD', 'PRAD', 'PRAD', 'PRAD', 'PRAD', 'PRAD', 'PRAD', 'PRAD', 'PRAD', 'PRAD', 'PRAD', 'PRAD', 'PRAD', 'PRAD', 'PRAD', 'PRAD', 'PRAD', 'PRAD', 'PRAD', 'PRAD', 'PRAD', 'PRAD', 'PRAD', 'PRAD', 'PRAD', 'PRAD', 'PRAD', 'PRAD', 'PRAD', 'PRAD', 'PRAD', 'PRAD', 'PRAD', 'PRAD', 'PRAD', 'PRAD', 'PRAD', 'PRAD', 'PRAD', 'PRAD', 'PRAD', 'PRAD', 'PRAD', 'PRAD', 'PRAD', 'PRAD', 'PRAD', 'PRAD', 'PRAD', 'PRAD', 'PRAD', 'PRAD', 'PRAD', 'PRAD', 'PRAD', 'PRAD', 'PRAD', 'PRAD', 'PRAD', 'PRAD', 'PRAD', 'PRAD', 'PRAD', 'PRAD', 'PRAD', 'PRAD', 'PRAD', 'PRAD', 'PRAD', 'PRAD', 'PRAD', 'PRAD', 'PRAD', 'PRAD', 'PRAD', 'PRAD', 'PRAD', 'PRAD', 'PRAD', 'PRAD', 'PRAD', 'PRAD', 'PRAD', 'PRAD', 'PRAD', 'PRAD', 'PRAD', 'PRAD', 'PRAD', 'PRAD', 'PRAD', 'PRAD', 'PRAD', 'PRAD', 'PRAD', 'PRAD', 'PRAD', 'PRAD', 'PRAD', 'PRAD', 'PRAD', 'PRAD', 'PRAD', 'PRAD', 'PRAD', 'PRAD', 'PRAD', 'PRAD', 'PRAD', 'PRAD', 'PRAD', 'PRAD', 'PRAD', 'PRAD', 'PRAD', 'PRAD', 'PRAD', 'PRAD', 'PRAD', 'PRAD', 'PRAD', 'PRAD', 'PRAD', 'PRAD', 'PRAD', 'PRAD', 'PRAD', 'BRCA', 'BRCA', 'BRCA', 'BRCA', 'BRCA', 'BRCA', 'BRCA', 'BRCA', 'BRCA', 'BRCA', 'BRCA', 'BRCA', 'BRCA', 'BRCA', 'BRCA', 'BRCA', 'BRCA', 'BRCA', 'BRCA', 'BRCA', 'BRCA', 'BRCA', 'BRCA', 'BRCA', 'BRCA', 'BRCA', 'BRCA', 'BRCA', 'BRCA', 'BRCA', 'BRCA', 'BRCA', 'BRCA', 'BRCA', 'BRCA', 'BRCA', 'BRCA', 'BRCA', 'BRCA', 'BRCA', 'BRCA', 'BRCA', 'BRCA', 'BRCA', 'BRCA', 'BRCA', 'BRCA', 'BRCA', 'BRCA', 'BRCA', 'BRCA', 'BRCA', 'BRCA', 'BRCA', 'BRCA', 'BRCA', 'BRCA', 'BRCA', 'BRCA', 'BRCA', 'BRCA', 'BRCA', 'BRCA', 'BRCA', 'BRCA', 'BRCA', 'BRCA', 'BRCA', 'BRCA', 'BRCA', 'BRCA', 'BRCA', 'BRCA', 'BRCA', 'BRCA', 'BRCA', 'BRCA', 'BRCA', 'BRCA', 'BRCA', 'BRCA', 'BRCA', 'BRCA', 'BRCA', 'BRCA', 'BRCA', 'BRCA', 'BRCA', 'BRCA', 'BRCA', 'BRCA', 'BRCA', 'BRCA', 'BRCA', 'BRCA', 'BRCA', 'BRCA', 'BRCA', 'BRCA', 'BRCA', 'BRCA', 'BRCA', 'BRCA', 'BRCA', 'BRCA', 'BRCA', 'BRCA', 'BRCA', 'BRCA', 'BRCA', 'BRCA', 'BRCA', 'BRCA', 'BRCA', 'BRCA', 'BRCA', 'BRCA', 'BRCA', 'BRCA', 'BRCA', 'BRCA', 'BRCA', 'BRCA', 'BRCA', 'BRCA', 'BRCA', 'BRCA', 'BRCA', 'BRCA', 'BRCA', 'BRCA', 'BRCA', 'BRCA', 'BRCA', 'BRCA', 'BRCA', 'BRCA', 'BRCA', 'BRCA', 'BRCA', 'BRCA', 'BRCA', 'BRCA', 'BRCA', 'BRCA', 'BRCA', 'BRCA', 'BRCA', 'BRCA', 'BRCA', 'BRCA', 'BRCA', 'BRCA', 'BRCA', 'BRCA', 'BRCA', 'BRCA', 'BRCA', 'BRCA', 'BRCA', 'BRCA', 'BRCA', 'BRCA', 'BRCA', 'BRCA', 'BRCA', 'BRCA', 'BRCA', 'BRCA', 'BRCA', 'BRCA', 'BRCA', 'BRCA', 'BRCA', 'BRCA', 'BRCA', 'BRCA', 'BRCA', 'BRCA', 'BRCA', 'BRCA', 'BRCA', 'BRCA', 'BRCA', 'BRCA', 'BRCA', 'BRCA', 'BRCA', 'BRCA', 'BRCA', 'BRCA', 'BRCA', 'BRCA', 'BRCA', 'BRCA', 'BRCA', 'BRCA', 'BRCA', 'BRCA', 'BRCA', 'BRCA', 'BRCA', 'BRCA', 'BRCA', 'BRCA', 'BRCA', 'BRCA', 'BRCA', 'BRCA', 'BRCA', 'BRCA', 'BRCA', 'BRCA', 'BRCA', 'BRCA', 'BRCA', 'BRCA', 'BRCA', 'BRCA', 'BRCA', 'BRCA', 'BRCA', 'BRCA', 'BRCA', 'BRCA', 'BRCA', 'BRCA', 'BRCA', 'BRCA', 'BRCA', 'BRCA', 'BRCA', 'BRCA', 'BRCA', 'BRCA', 'BRCA', 'BRCA', 'BRCA', 'BRCA', 'BRCA', 'BRCA', 'BRCA', 'BRCA', 'BRCA', 'BRCA', 'BRCA', 'BRCA', 'BRCA', 'BRCA', 'BRCA', 'BRCA', 'BRCA', 'BRCA', 'BRCA', 'BRCA', 'BRCA', 'BRCA', 'BRCA', 'BRCA', 'BRCA', 'BRCA', 'BRCA', 'BRCA', 'BRCA', 'BRCA', 'BRCA', 'BRCA', 'BRCA', 'BRCA', 'BRCA', 'BRCA', 'BRCA', 'BRCA', 'BRCA', 'BRCA', 'BRCA', 'BRCA', 'BRCA', 'BRCA', 'BRCA', 'BRCA', 'BRCA', 'BRCA', 'BRCA', 'BRCA', 'BRCA', 'BRCA', 'BRCA', 'BRCA', 'BRCA', 'BRCA', 'BRCA', 'BRCA', 'BRCA', 'BRCA', 'BRCA', 'BRCA', 'BRCA', 'BRCA', 'BRCA', 'BRCA', 'BRCA', 'BRCA', 'BRCA', 'BRCA', 'BRCA', 'BRCA', 'BRCA', 'BRCA', 'BRCA', 'BRCA', 'BRCA', 'BRCA', 'BRCA', 'BRCA', 'BRCA', 'BRCA', 'BRCA', 'BRCA', 'BRCA', 'BRCA', 'BRCA', 'BRCA', 'BRCA', 'BRCA', 'BRCA', 'BRCA', 'BRCA', 'BRCA', 'BRCA', 'BRCA', 'BRCA', 'BRCA', 'BRCA', 'BRCA', 'BRCA', 'BRCA', 'BRCA', 'BRCA', 'BRCA', 'BRCA', 'BRCA', 'BRCA', 'BRCA', 'BRCA', 'BRCA', 'BRCA', 'BRCA', 'BRCA', 'BRCA', 'BRCA', 'BRCA', 'BRCA', 'BRCA', 'BRCA', 'BRCA', 'BRCA', 'BRCA', 'BRCA', 'BRCA', 'BRCA', 'BRCA', 'BRCA', 'BRCA', 'BRCA', 'BRCA', 'BRCA', 'BRCA', 'BRCA', 'BRCA', 'BRCA', 'BRCA', 'BRCA', 'BRCA', 'BRCA', 'BRCA', 'BRCA', 'BRCA', 'BRCA', 'BRCA', 'BRCA', 'BRCA', 'BRCA', 'BRCA', 'BRCA', 'BRCA', 'BRCA', 'BRCA', 'BRCA', 'BRCA', 'BRCA', 'BRCA', 'BRCA', 'BRCA', 'BRCA', 'BRCA', 'BRCA', 'BRCA', 'BRCA', 'BRCA', 'BRCA', 'BRCA', 'BRCA', 'BRCA', 'BRCA', 'BRCA', 'BRCA', 'BRCA', 'BRCA', 'BRCA', 'BRCA', 'BRCA', 'BRCA', 'BRCA', 'BRCA', 'BRCA', 'BRCA', 'BRCA', 'BRCA', 'BRCA', 'BRCA', 'BRCA', 'BRCA', 'BRCA', 'BRCA', 'BRCA', 'BRCA', 'BRCA', 'BRCA', 'BRCA', 'BRCA', 'BRCA', 'BRCA', 'BRCA', 'BRCA', 'BRCA', 'BRCA', 'BRCA', 'BRCA', 'BRCA', 'BRCA', 'BRCA', 'BRCA', 'BRCA', 'BRCA', 'BRCA', 'BRCA', 'BRCA', 'BRCA', 'BRCA', 'BRCA', 'BRCA', 'BRCA', 'BRCA', 'BRCA', 'BRCA', 'BRCA', 'BRCA', 'BRCA', 'BRCA', 'BRCA', 'BRCA', 'BRCA', 'BRCA', 'BRCA', 'BRCA', 'BRCA', 'BRCA', 'BRCA', 'BRCA', 'BRCA', 'BRCA', 'BRCA', 'BRCA', 'BRCA', 'BRCA', 'BRCA', 'BRCA', 'BRCA', 'BRCA', 'BRCA', 'BRCA', 'BRCA', 'BRCA', 'BRCA', 'BRCA', 'BRCA', 'BRCA', 'BRCA', 'BRCA', 'BRCA', 'BRCA', 'BRCA', 'BRCA', 'BRCA', 'BRCA', 'BRCA', 'BRCA', 'BRCA', 'BRCA', 'BRCA', 'BRCA', 'BRCA', 'BRCA', 'BRCA', 'BRCA', 'BRCA', 'BRCA', 'BRCA', 'BRCA', 'BRCA', 'BRCA', 'BRCA', 'BRCA', 'BRCA', 'BRCA', 'BRCA', 'BRCA', 'BRCA', 'BRCA', 'BRCA', 'BRCA', 'BRCA', 'BRCA', 'BRCA', 'BRCA', 'BRCA', 'BRCA', 'BRCA', 'BRCA', 'BRCA', 'BRCA', 'BRCA', 'BRCA', 'BRCA', 'BRCA', 'BRCA', 'BRCA', 'BRCA', 'BRCA', 'BRCA', 'BRCA', 'BRCA', 'BRCA', 'BRCA', 'BRCA', 'BRCA', 'BRCA', 'BRCA', 'BRCA', 'BRCA', 'BRCA', 'BRCA', 'BRCA', 'BRCA', 'BRCA', 'BRCA', 'BRCA', 'BRCA', 'BRCA', 'BRCA', 'BRCA', 'BRCA', 'BRCA', 'BRCA', 'BRCA', 'BRCA', 'BRCA', 'BRCA', 'BRCA', 'BRCA', 'BRCA', 'BRCA', 'BRCA', 'BRCA', 'BRCA', 'BRCA', 'BRCA', 'BRCA', 'BRCA', 'BRCA', 'BRCA', 'BRCA', 'BRCA', 'BRCA', 'BRCA', 'BRCA', 'BRCA', 'BRCA', 'BRCA', 'BRCA', 'BRCA', 'BRCA', 'BRCA', 'BRCA', 'BRCA', 'BRCA', 'BRCA', 'BRCA', 'BRCA', 'BRCA', 'BRCA', 'BRCA', 'BRCA', 'BRCA', 'BRCA', 'BRCA', 'BRCA', 'BRCA', 'BRCA', 'BRCA', 'BRCA', 'BRCA', 'BRCA', 'BRCA', 'BRCA', 'BRCA', 'BRCA', 'BRCA', 'BRCA', 'BRCA', 'BRCA', 'BRCA', 'BRCA', 'BRCA', 'BRCA', 'BRCA', 'BRCA', 'BRCA', 'BRCA', 'BRCA', 'BRCA', 'BRCA', 'BRCA', 'BRCA', 'BRCA', 'BRCA', 'BRCA', 'BRCA', 'BRCA', 'BRCA', 'BRCA', 'BRCA', 'BRCA', 'BRCA', 'BRCA', 'BRCA', 'BRCA', 'BRCA', 'BRCA', 'BRCA', 'BRCA', 'BRCA', 'GBM', 'LUSC', 'LUSC', 'LUSC', 'LUSC', 'LUSC', 'LUSC', 'LUSC', 'LUSC', 'LUSC', 'LUSC', 'LUSC', 'LUSC', 'LUSC', 'LUSC', 'LUSC', 'LUSC', 'LUSC', 'LUSC', 'LUSC', 'LUSC', 'LUSC', 'LUSC', 'LUSC', 'LUSC', 'LUSC', 'LUSC', 'LUSC', 'LUSC', 'LUSC', 'LUSC', 'LUSC', 'LUSC', 'LUSC', 'LUSC', 'LUSC', 'LUSC', 'LUSC', 'LUSC', 'LUSC', 'LUSC', 'LUSC', 'LUSC', 'LUSC', 'LUSC', 'LUSC', 'LUSC', 'LUSC', 'LUSC', 'LUSC', 'LUSC', 'LUSC', 'LUSC', 'LUSC', 'LUSC', 'LUSC', 'LUSC', 'LUSC', 'LUSC', 'LUSC', 'LUSC', 'LUSC', 'LUSC', 'LUSC', 'LUSC', 'LUSC', 'LUSC', 'LUSC', 'LUSC', 'LUSC', 'LUSC', 'LUSC', 'LUSC', 'LUSC', 'LUSC', 'LUSC', 'LUSC', 'LUSC', 'LUSC', 'LUSC', 'LUSC', 'LUSC', 'LUSC', 'LUSC', 'LUSC', 'LUSC', 'LUSC', 'LUSC', 'LUSC', 'LUSC', 'LUSC', 'LUSC', 'LUSC', 'LUSC', 'LUSC', 'LUSC', 'LUSC', 'LUSC', 'LUSC', 'LUSC', 'LUSC', 'LUSC', 'LUSC', 'LUSC', 'LUSC', 'LUSC', 'LUSC', 'LUSC', 'LUSC', 'LUSC', 'LUSC', 'LUSC', 'LUSC', 'LUSC', 'LUSC', 'LUSC', 'LUSC', 'LUSC', 'LUSC', 'LUSC', 'LUSC', 'LUSC', 'LUSC', 'LUSC', 'LUSC', 'LUSC', 'LUSC', 'LUSC', 'LUSC', 'LUSC', 'LUSC', 'LUSC', 'LUSC', 'LUSC', 'LUSC', 'LUSC', 'LUSC', 'LUSC', 'LUSC', 'LUSC', 'LUSC', 'LUSC', 'LUSC', 'LUSC', 'LUSC', 'LUSC', 'LUSC', 'LUSC', 'LUSC', 'LUSC', 'LUSC', 'LUSC', 'LUSC', 'LUSC', 'LUSC', 'LUSC', 'LUSC', 'LUSC', 'LUSC', 'LUSC', 'LUSC', 'LUSC', 'LUSC', 'LUSC', 'LUSC', 'LUSC', 'LUSC', 'LUSC', 'LUSC', 'LUSC', 'LUSC', 'LUSC', 'LUSC', 'LUSC', 'LUSC', 'LUSC', 'LUSC', 'LUSC', 'LUSC', 'LUSC', 'LUSC', 'LUSC', 'LUSC', 'LUSC', 'LUSC', 'LUSC', 'LUSC', 'LUSC', 'LUSC']\n",
      "[23, 23, 23, 23, 23, 23, 23, 23, 23, 23, 23, 23, 23, 23, 23, 23, 23, 23, 23, 23, 23, 23, 23, 23, 23, 23, 23, 23, 23, 23, 23, 23, 23, 23, 23, 23, 23, 23, 23, 23, 23, 23, 23, 23, 23, 23, 23, 23, 23, 23, 23, 23, 23, 23, 23, 23, 23, 23, 23, 23, 23, 23, 23, 23, 23, 23, 23, 23, 23, 23, 23, 23, 23, 23, 23, 23, 23, 23, 23, 23, 23, 23, 23, 23, 23, 23, 23, 23, 23, 23, 23, 23, 23, 23, 23, 23, 23, 23, 23, 23, 23, 23, 23, 23, 23, 23, 23, 23, 23, 23, 23, 23, 23, 23, 23, 23, 23, 23, 23, 23, 23, 23, 23, 23, 23, 23, 23, 23, 23, 23, 23, 23, 23, 23, 23, 23, 23, 23, 23, 23, 23, 23, 23, 23, 23, 23, 23, 23, 23, 23, 23, 23, 23, 23, 23, 23, 23, 23, 23, 23, 23, 23, 23, 23, 23, 1, 1, 1, 1, 1, 1, 1, 1, 1, 1, 1, 1, 1, 1, 1, 1, 1, 1, 1, 1, 1, 1, 1, 1, 1, 1, 1, 1, 1, 1, 1, 1, 1, 1, 1, 1, 1, 1, 1, 1, 1, 1, 1, 1, 1, 1, 1, 1, 1, 1, 1, 1, 1, 1, 1, 1, 1, 1, 1, 1, 1, 1, 1, 1, 1, 1, 1, 1, 1, 1, 1, 1, 1, 1, 1, 1, 1, 1, 1, 1, 1, 1, 1, 1, 1, 1, 1, 1, 1, 1, 1, 1, 1, 1, 1, 1, 1, 1, 1, 1, 1, 1, 1, 1, 1, 1, 1, 1, 1, 1, 1, 1, 1, 1, 1, 1, 1, 1, 1, 1, 1, 1, 1, 1, 1, 1, 1, 1, 1, 1, 1, 1, 1, 1, 1, 1, 1, 1, 1, 1, 1, 1, 1, 1, 1, 1, 1, 1, 1, 1, 1, 1, 1, 1, 1, 1, 1, 1, 1, 1, 1, 1, 1, 1, 1, 1, 1, 1, 1, 1, 1, 1, 1, 1, 1, 1, 1, 1, 1, 1, 1, 1, 1, 1, 1, 1, 1, 1, 1, 1, 1, 1, 1, 1, 1, 1, 1, 1, 1, 1, 1, 1, 1, 1, 1, 1, 1, 1, 1, 1, 1, 1, 1, 1, 1, 1, 1, 1, 1, 1, 1, 1, 1, 1, 1, 1, 1, 1, 1, 1, 1, 1, 1, 1, 1, 1, 1, 1, 1, 1, 1, 1, 1, 1, 1, 1, 1, 1, 1, 1, 1, 1, 1, 1, 1, 1, 1, 1, 1, 1, 1, 1, 1, 1, 1, 1, 1, 1, 1, 1, 1, 1, 1, 1, 1, 1, 1, 1, 1, 1, 1, 1, 1, 1, 1, 1, 1, 1, 1, 1, 1, 1, 1, 1, 1, 1, 1, 1, 1, 1, 1, 1, 1, 1, 1, 1, 1, 1, 1, 1, 1, 1, 1, 1, 1, 1, 1, 1, 1, 1, 1, 1, 1, 1, 1, 1, 1, 1, 1, 1, 1, 1, 1, 1, 1, 1, 1, 1, 1, 1, 1, 1, 1, 1, 1, 1, 1, 1, 1, 1, 1, 1, 1, 1, 1, 1, 1, 1, 1, 1, 1, 1, 1, 1, 1, 1, 1, 1, 1, 1, 1, 1, 1, 1, 1, 1, 1, 1, 1, 1, 1, 1, 1, 1, 1, 1, 1, 1, 1, 1, 1, 1, 1, 1, 1, 1, 1, 1, 1, 1, 1, 1, 1, 1, 1, 1, 1, 1, 1, 1, 1, 1, 1, 1, 1, 1, 1, 1, 1, 1, 1, 1, 1, 1, 1, 1, 1, 1, 1, 1, 1, 1, 1, 1, 1, 1, 1, 5, 5, 5, 5, 5, 5, 5, 5, 5, 5, 5, 5, 5, 5, 5, 5, 5, 5, 5, 5, 5, 5, 5, 5, 5, 5, 5, 5, 5, 5, 5, 5, 5, 5, 5, 5, 5, 5, 5, 5, 5, 5, 5, 5, 5, 5, 5, 5, 5, 5, 5, 5, 5, 5, 5, 5, 5, 5, 5, 5, 5, 5, 5, 5, 5, 5, 5, 5, 5, 5, 5, 5, 5, 5, 5, 5, 5, 5, 5, 5, 5, 5, 5, 5, 5, 5, 5, 5, 5, 5, 5, 5, 5, 5, 5, 5, 5, 5, 5, 5, 5, 5, 5, 5, 5, 5, 5, 5, 5, 5, 5, 5, 5, 5, 5, 5, 5, 5, 5, 5, 5, 5, 5, 5, 5, 5, 5, 5, 5, 5, 5, 5, 5, 5, 5, 5, 5, 5, 5, 5, 5, 5, 5, 5, 5, 5, 5, 5, 5, 5, 5, 5, 5, 5, 5, 5, 5, 5, 5, 5, 5, 5, 5, 5, 5, 5, 5, 5, 5, 5, 5, 5, 5, 5, 5, 5, 5, 5, 5, 5, 5, 5, 5, 5, 5, 5, 5, 5, 5, 5, 5, 5, 5, 5, 5, 5, 5, 5, 5, 5, 5, 5, 5, 5, 5, 5, 5, 5, 5, 5, 5, 5, 5, 5, 5, 5, 5, 5, 5, 5, 5, 5, 5, 5, 5, 5, 5, 5, 5, 5, 5, 5, 5, 5, 5, 5, 5, 5, 5, 5, 5, 5, 5, 5, 5, 5, 5, 5, 5, 5, 5, 5, 5, 5, 5, 5, 5, 5, 5, 5, 5, 5, 5, 5, 5, 5, 5, 5, 5, 5, 5, 5, 5, 5, 5, 5, 5, 5, 5, 5, 5, 5, 5, 5, 5, 5, 5, 5, 5, 5, 5, 5, 5, 5, 5, 5, 5, 5, 5, 5, 5, 5, 5, 5, 5, 5, 5, 5, 5, 5, 5, 5, 5, 5, 5, 5, 5, 5, 5, 5, 5, 5, 5, 5, 5, 5, 5, 5, 5, 5, 5, 5, 5, 5, 5, 5, 5, 5, 5, 5, 5, 5, 5, 5, 5, 5, 5, 5, 5, 5, 5, 5, 5, 5, 5, 5, 5, 5, 5, 5, 5, 5, 5, 5, 5, 5, 5, 5, 5, 5, 5, 5, 5, 5, 5, 5, 5, 5, 5, 5, 5, 5, 5, 5, 5, 5, 5, 5, 5, 5, 5, 5, 5, 5, 5, 5, 5, 5, 5, 5, 5, 5, 5, 5, 5, 5, 5, 5, 5, 5, 5, 5, 5, 5, 5, 5, 5, 5, 5, 5, 5, 5, 5, 5, 5, 5, 5, 5, 5, 5, 5, 5, 5, 5, 5, 5, 5, 5, 5, 5, 5, 5, 5, 5, 5, 5, 5, 5, 5, 5, 5, 5, 5, 5, 5, 5, 5, 5, 5, 5, 5, 5, 5, 5, 5, 12, 12, 12, 12, 12, 12, 12, 12, 12, 12, 12, 12, 12, 12, 12, 12, 12, 12, 12, 12, 12, 12, 12, 12, 12, 12, 12, 12, 12, 12, 12, 12, 12, 12, 12, 12, 12, 12, 12, 12, 12, 12, 12, 12, 12, 12, 12, 12, 12, 12, 12, 12, 12, 12, 12, 12, 12, 12, 12, 12, 12, 12, 12, 12, 12, 12, 12, 12, 12, 12, 12, 12, 12, 12, 12, 12, 12, 12, 12, 12, 12, 12, 12, 12, 12, 12, 12, 12, 12, 12, 12, 12, 12, 12, 12, 12, 12, 12, 12, 12, 12, 12, 12, 12, 12, 12, 12, 12, 12, 12, 12, 12, 12, 12, 12, 12, 12, 12, 12, 12, 12, 12, 12, 12, 12, 12, 12, 12, 12, 12, 12, 12, 12, 12, 12, 12, 12, 12, 12, 12, 12, 12, 12, 12, 12, 12, 12, 12, 12, 12, 12, 12, 12, 12, 12, 12, 12, 12, 12, 12, 12, 12, 12, 12, 12, 12, 12, 12, 12, 12, 12, 12, 12, 12, 12, 12, 12, 12, 12, 12, 12, 12, 12, 12, 12, 12, 12, 12, 12, 12, 12, 12, 12, 12, 12, 12, 12, 12, 12, 12, 12, 12, 12, 12, 12, 12, 12, 12, 12, 12, 12, 12, 12, 12, 12, 12, 12, 12, 12, 12, 12, 12, 12, 12, 12, 12, 12, 12, 12, 12, 12, 12, 12, 12, 12, 12, 12, 12, 12, 12, 12, 12, 12, 12, 12, 12, 12, 12, 12, 12, 12, 12, 12, 12, 12, 12, 12, 12, 12, 12, 12, 12, 12, 12, 12, 12, 12, 12, 12, 12, 12, 12, 12, 12, 12, 12, 12, 12, 12, 12, 12, 12, 12, 12, 12, 12, 12, 12, 12, 12, 12, 12, 12, 12, 12, 12, 12, 12, 12, 12, 12, 12, 12, 12, 12, 12, 12, 12, 12, 12, 12, 12, 12, 12, 12, 12, 12, 12, 12, 12, 12, 12, 12, 12, 12, 12, 3, 3, 3, 3, 3, 3, 3, 3, 3, 3, 3, 3, 3, 3, 3, 3, 3, 3, 3, 3, 3, 3, 3, 3, 3, 3, 3, 3, 3, 3, 3, 3, 3, 3, 3, 3, 3, 3, 3, 3, 3, 3, 3, 3, 3, 3, 3, 3, 3, 3, 3, 3, 3, 3, 3, 3, 3, 3, 3, 3, 3, 3, 3, 3, 3, 3, 3, 3, 3, 3, 3, 3, 3, 3, 3, 3, 3, 3, 3, 3, 3, 3, 3, 3, 3, 3, 3, 3, 3, 3, 3, 3, 3, 3, 3, 3, 3, 3, 3, 3, 3, 3, 3, 3, 3, 3, 3, 3, 3, 3, 3, 3, 3, 3, 3, 3, 3, 3, 3, 3, 3, 3, 3, 3, 3, 3, 3, 3, 3, 3, 3, 3, 3, 3, 3, 3, 3, 3, 3, 3, 3, 3, 3, 3, 3, 3, 3, 3, 3, 3, 3, 3, 3, 3, 3, 3, 3, 3, 3, 3, 3, 3, 3, 3, 3, 3, 3, 3, 3, 3, 3, 3, 3, 3, 3, 3, 3, 3, 3, 3, 3, 3, 3, 3, 3, 3, 3, 3, 3, 3, 3, 3, 3, 3, 3, 3, 3, 3, 3, 3, 3, 3, 3, 3, 3, 3, 3, 3, 3, 3, 3, 3, 3, 3, 3, 3, 3, 3, 3, 3, 3, 3, 3, 3, 3, 3, 3, 3, 3, 3, 3, 3, 3, 3, 3, 3, 3, 3, 3, 3, 3, 3, 3, 3, 3, 3, 3, 3, 3, 3, 3, 3, 3, 3, 3, 3, 3, 3, 3, 3, 3, 3, 3, 3, 3, 3, 3, 3, 3, 3, 3, 3, 3, 3, 3, 3, 3, 3, 3, 3, 3, 3, 3, 3, 3, 3, 3, 3, 3, 3, 3, 3, 3, 3, 3, 3, 3, 3, 3, 3, 3, 3, 3, 3, 3, 3, 3, 3, 3, 3, 3, 3, 9, 9, 9, 9, 9, 9, 9, 9, 9, 9, 9, 9, 9, 9, 9, 9, 9, 9, 9, 9, 9, 9, 9, 9, 9, 9, 9, 9, 9, 9, 9, 9, 9, 9, 9, 9, 9, 9, 9, 9, 9, 9, 9, 9, 9, 9, 9, 9, 9, 9, 9, 9, 9, 9, 9, 9, 9, 9, 9, 9, 9, 9, 9, 9, 9, 9, 9, 9, 9, 9, 9, 9, 9, 9, 9, 9, 9, 9, 9, 9, 9, 9, 9, 9, 9, 9, 9, 9, 9, 9, 9, 9, 9, 9, 9, 9, 9, 9, 9, 9, 9, 9, 9, 9, 9, 9, 9, 9, 9, 9, 9, 9, 9, 9, 9, 9, 9, 9, 9, 9, 9, 9, 9, 9, 9, 9, 9, 9, 9, 9, 9, 9, 9, 9, 9, 9, 9, 9, 9, 9, 9, 9, 9, 9, 9, 9, 9, 9, 9, 9, 9, 9, 9, 9, 9, 9, 9, 9, 9, 9, 9, 9, 9, 9, 9, 9, 9, 9, 9, 9, 9, 9, 9, 9, 9, 9, 9, 9, 9, 9, 9, 9, 9, 9, 9, 9, 9, 9, 9, 9, 9, 9, 9, 9, 9, 9, 9, 9, 9, 9, 9, 9, 9, 9, 9, 9, 9, 9, 9, 9, 9, 9, 9, 9, 9, 9, 9, 9, 9, 9, 9, 9, 9, 9, 9, 9, 9, 9, 9, 9, 9, 9, 9, 9, 9, 9, 9, 9, 9, 9, 9, 9, 9, 9, 9, 9, 9, 9, 9, 9, 9, 9, 9, 9, 9, 9, 9, 9, 9, 9, 9, 9, 9, 9, 9, 9, 9, 9, 9, 9, 9, 9, 9, 9, 9, 9, 9, 9, 9, 9, 9, 9, 9, 9, 9, 9, 9, 9, 9, 9, 9, 9, 9, 9, 9, 9, 9, 9, 9, 9, 9, 9, 9, 9, 9, 9, 9, 9, 9, 9, 9, 9, 9, 9, 9, 9, 9, 9, 9, 9, 9, 9, 9, 9, 9, 9, 9, 9, 9, 9, 9, 9, 9, 9, 9, 9, 9, 9, 9, 9, 9, 9, 9, 9, 9, 9, 9, 9, 9, 9, 9, 9, 9, 9, 9, 9, 9, 9, 9, 9, 9, 9, 9, 9, 9, 9, 9, 9, 9, 9, 9, 9, 9, 9, 9, 9, 9, 9, 9, 9, 9, 9, 9, 9, 9, 9, 9, 9, 9, 9, 9, 9, 9, 9, 9, 9, 9, 9, 9, 9, 9, 9, 9, 9, 9, 9, 9, 9, 9, 9, 9, 9, 9, 9, 9, 9, 9, 9, 9, 9, 9, 9, 9, 9, 9, 9, 9, 9, 9, 9, 9, 9, 9, 9, 9, 9, 9, 9, 9, 9, 9, 9, 9, 9, 9, 9, 9, 9, 9, 9, 9, 9, 9, 9, 9, 9, 9, 9, 9, 9, 9, 9, 9, 9, 9, 9, 9, 9, 9, 9, 9, 9, 9, 9, 9, 9, 9, 9, 9, 9, 9, 9, 9, 9, 9, 9, 9, 9, 9, 9, 9, 9, 9, 9, 9, 26, 26, 26, 26, 26, 26, 26, 26, 26, 26, 26, 26, 26, 26, 26, 26, 26, 26, 26, 26, 26, 26, 26, 26, 26, 26, 26, 26, 26, 26, 26, 26, 26, 26, 26, 26, 26, 26, 26, 26, 26, 26, 26, 26, 26, 26, 26, 26, 26, 26, 26, 26, 26, 26, 26, 26, 26, 26, 26, 26, 26, 26, 26, 26, 26, 26, 26, 26, 26, 26, 26, 26, 26, 26, 26, 26, 26, 26, 26, 26, 26, 26, 26, 26, 26, 26, 26, 26, 26, 26, 26, 26, 26, 26, 26, 26, 26, 26, 26, 26, 26, 26, 26, 26, 26, 26, 26, 26, 26, 26, 26, 26, 26, 26, 26, 26, 26, 26, 26, 26, 26, 26, 26, 26, 26, 26, 26, 26, 26, 26, 26, 26, 26, 26, 26, 26, 26, 26, 26, 26, 26, 26, 26, 26, 26, 26, 26, 26, 26, 26, 26, 26, 26, 26, 26, 26, 26, 26, 26, 26, 26, 26, 26, 26, 26, 26, 26, 26, 26, 26, 26, 26, 26, 26, 26, 26, 26, 26, 26, 26, 26, 26, 26, 26, 26, 26, 26, 26, 26, 26, 26, 26, 26, 26, 26, 26, 26, 26, 26, 26, 26, 26, 26, 26, 26, 26, 26, 26, 26, 26, 26, 26, 26, 26, 26, 26, 26, 26, 26, 26, 26, 26, 26, 26, 26, 26, 26, 26, 26, 26, 26, 26, 26, 26, 26, 26, 26, 26, 26, 26, 26, 26, 26, 26, 26, 26, 26, 26, 26, 26, 26, 26, 26, 26, 26, 26, 26, 26, 26, 26, 26, 26, 26, 26, 26, 26, 26, 26, 26, 26, 26, 26, 26, 26, 26, 26, 26, 26, 26, 26, 26, 26, 26, 26, 26, 26, 26, 26, 26, 26, 26, 26, 26, 26, 26, 26, 26, 26, 26, 26, 26, 26, 26, 26, 26, 26, 26, 26, 26, 26, 26, 26, 26, 26, 26, 26, 26, 26, 26, 26, 26, 26, 26, 26, 26, 26, 26, 26, 26, 26, 26, 26, 26, 26, 26, 26, 26, 26, 26, 26, 26, 26, 26, 26, 26, 26, 26, 26, 26, 26, 26, 26, 26, 26, 26, 26, 26, 26, 26, 26, 26, 26, 26, 26, 26, 26, 26, 26, 26, 26, 26, 26, 26, 26, 26, 26, 26, 26, 26, 26, 26, 26, 26, 26, 26, 26, 26, 26, 26, 26, 26, 26, 26, 26, 26, 26, 26, 26, 26, 26, 26, 26, 26, 26, 26, 26, 26, 26, 26, 26, 26, 26, 26, 26, 26, 26, 26, 26, 26, 26, 26, 26, 26, 26, 26, 26, 26, 26, 26, 26, 26, 26, 26, 26, 26, 26, 26, 26, 26, 26, 26, 26, 31, 31, 31, 31, 31, 31, 31, 31, 31, 31, 31, 31, 31, 31, 31, 31, 31, 31, 31, 31, 31, 31, 31, 31, 31, 31, 31, 31, 31, 31, 31, 31, 31, 31, 31, 31, 31, 31, 31, 31, 31, 31, 31, 31, 31, 31, 31, 31, 31, 31, 31, 31, 31, 31, 31, 31, 31, 26, 26, 26, 26, 26, 26, 26, 26, 26, 26, 26, 26, 26, 26, 26, 26, 26, 26, 26, 26, 26, 26, 26, 26, 26, 26, 26, 26, 26, 26, 26, 26, 26, 26, 26, 26, 26, 26, 26, 26, 26, 26, 26, 26, 26, 26, 26, 26, 26, 9, 9, 9, 9, 9, 9, 9, 9, 9, 9, 9, 9, 9, 9, 9, 9, 9, 9, 9, 9, 9, 9, 9, 9, 9, 9, 9, 9, 9, 9, 9, 9, 9, 9, 9, 9, 9, 9, 9, 9, 9, 9, 9, 9, 9, 9, 9, 9, 9, 9, 9, 9, 9, 9, 9, 9, 9, 9, 9, 9, 9, 9, 9, 9, 9, 9, 9, 9, 9, 9, 9, 9, 9, 9, 29, 29, 29, 29, 29, 29, 29, 29, 29, 29, 29, 29, 29, 29, 29, 29, 29, 29, 29, 29, 29, 29, 29, 29, 29, 29, 29, 29, 29, 29, 29, 29, 29, 29, 29, 29, 29, 29, 29, 29, 29, 29, 29, 29, 29, 29, 29, 29, 29, 29, 29, 29, 29, 29, 29, 29, 29, 29, 29, 29, 29, 29, 29, 29, 29, 29, 29, 29, 29, 29, 29, 29, 29, 29, 29, 29, 29, 29, 29, 29, 29, 29, 29, 29, 29, 29, 29, 29, 29, 29, 29, 29, 29, 29, 29, 29, 29, 29, 29, 29, 29, 29, 29, 29, 29, 29, 29, 29, 29, 29, 29, 29, 29, 29, 29, 29, 29, 29, 29, 29, 29, 29, 29, 20, 20, 20, 20, 20, 20, 20, 20, 20, 20, 20, 20, 20, 20, 20, 20, 20, 20, 20, 20, 20, 20, 20, 20, 20, 20, 20, 20, 20, 20, 20, 20, 20, 20, 20, 20, 20, 20, 20, 20, 20, 20, 20, 20, 20, 20, 20, 20, 20, 20, 20, 20, 20, 20, 20, 20, 20, 20, 20, 20, 20, 20, 20, 20, 20, 20, 20, 20, 20, 20, 20, 20, 20, 20, 20, 20, 20, 20, 20, 20, 20, 20, 20, 20, 20, 20, 20, 20, 20, 20, 20, 20, 20, 20, 20, 20, 20, 20, 20, 20, 20, 20, 20, 20, 20, 20, 20, 20, 20, 20, 20, 20, 20, 20, 20, 20, 20, 20, 20, 20, 20, 20, 20, 20, 20, 20, 20, 20, 20, 20, 20, 20, 20, 20, 20, 20, 20, 20, 20, 20, 20, 20, 20, 20, 20, 20, 20, 20, 20, 20, 20, 20, 20, 20, 20, 20, 20, 20, 20, 20, 20, 20, 20, 20, 20, 20, 20, 20, 20, 20, 20, 20, 20, 20, 20, 20, 20, 20, 20, 20, 20, 20, 20, 21, 21, 21, 21, 21, 21, 21, 21, 21, 21, 21, 21, 21, 21, 21, 21, 21, 21, 21, 21, 21, 21, 21, 21, 21, 21, 21, 21, 21, 21, 21, 21, 21, 21, 21, 21, 21, 21, 21, 21, 21, 21, 21, 21, 21, 21, 21, 21, 21, 21, 21, 21, 21, 21, 21, 21, 21, 21, 21, 21, 21, 21, 21, 21, 21, 21, 21, 21, 21, 21, 21, 21, 21, 21, 21, 21, 21, 21, 21, 21, 21, 21, 21, 21, 21, 21, 21, 21, 21, 21, 21, 21, 21, 21, 21, 21, 21, 21, 21, 21, 21, 21, 21, 21, 21, 21, 21, 21, 21, 21, 21, 21, 21, 21, 21, 21, 21, 21, 21, 21, 21, 21, 21, 21, 21, 21, 21, 21, 21, 21, 21, 21, 21, 21, 21, 21, 21, 21, 21, 21, 21, 21, 21, 21, 21, 21, 21, 21, 21, 21, 21, 21, 21, 21, 21, 21, 21, 21, 21, 21, 21, 21, 21, 21, 21, 21, 21, 21, 21, 21, 21, 21, 21, 21, 21, 21, 21, 21, 21, 21, 21, 21, 21, 21, 21, 21, 21, 7, 7, 7, 7, 7, 7, 7, 7, 7, 7, 7, 7, 7, 7, 7, 7, 7, 7, 7, 7, 7, 7, 7, 7, 7, 7, 7, 7, 7, 7, 7, 7, 7, 7, 7, 7, 7, 7, 7, 7, 7, 7, 7, 7, 7, 7, 7, 7, 7, 7, 7, 7, 7, 7, 7, 7, 7, 7, 7, 7, 7, 7, 7, 7, 7, 7, 7, 7, 7, 7, 7, 7, 7, 7, 7, 7, 7, 7, 7, 7, 7, 7, 7, 7, 7, 7, 7, 7, 7, 7, 7, 7, 7, 7, 7, 7, 7, 7, 7, 7, 7, 7, 7, 7, 7, 7, 7, 7, 7, 7, 7, 7, 7, 7, 7, 7, 7, 7, 7, 7, 7, 7, 7, 7, 7, 7, 7, 7, 7, 7, 7, 7, 7, 7, 7, 7, 7, 7, 7, 7, 7, 7, 7, 7, 7, 7, 7, 7, 7, 7, 7, 7, 7, 7, 7, 7, 7, 7, 7, 7, 7, 7, 7, 7, 7, 7, 7, 7, 7, 7, 7, 7, 7, 7, 7, 7, 7, 7, 7, 7, 7, 7, 7, 7, 7, 7, 7, 7, 7, 7, 7, 7, 7, 7, 7, 7, 7, 7, 7, 7, 25, 25, 25, 25, 25, 25, 25, 25, 25, 25, 25, 25, 25, 25, 25, 25, 25, 25, 25, 25, 25, 25, 25, 25, 25, 25, 25, 25, 25, 25, 25, 25, 25, 25, 25, 25, 25, 25, 25, 25, 25, 25, 25, 25, 25, 25, 25, 25, 25, 25, 25, 25, 25, 25, 25, 25, 25, 25, 25, 25, 25, 25, 25, 25, 25, 25, 25, 25, 25, 25, 25, 25, 25, 25, 25, 25, 25, 25, 25, 25, 25, 25, 25, 25, 25, 25, 25, 25, 25, 25, 25, 25, 25, 25, 25, 25, 25, 25, 25, 25, 25, 25, 25, 25, 25, 25, 25, 25, 25, 25, 25, 25, 25, 25, 25, 25, 25, 25, 25, 25, 25, 25, 25, 25, 25, 25, 25, 25, 25, 25, 25, 25, 25, 25, 25, 25, 25, 25, 25, 25, 25, 25, 25, 25, 25, 25, 25, 25, 25, 25, 25, 25, 25, 25, 25, 25, 25, 25, 25, 25, 25, 25, 25, 25, 25, 25, 25, 25, 25, 25, 25, 25, 25, 25, 25, 25, 25, 25, 25, 25, 25, 25, 25, 25, 25, 25, 25, 25, 25, 25, 25, 25, 25, 25, 25, 25, 25, 25, 25, 25, 25, 25, 25, 25, 25, 25, 25, 25, 25, 25, 25, 25, 25, 25, 25, 25, 25, 25, 25, 25, 25, 25, 25, 25, 25, 25, 25, 25, 25, 25, 25, 25, 25, 25, 25, 25, 25, 25, 25, 25, 25, 25, 25, 25, 25, 25, 25, 25, 25, 25, 25, 25, 25, 25, 25, 25, 25, 25, 25, 25, 25, 25, 25, 25, 25, 25, 25, 25, 25, 25, 25, 25, 25, 25, 25, 25, 25, 25, 25, 25, 25, 25, 25, 25, 25, 25, 25, 25, 25, 25, 25, 25, 25, 25, 25, 25, 25, 25, 25, 25, 25, 25, 25, 25, 25, 25, 25, 25, 25, 25, 25, 25, 25, 25, 25, 25, 25, 25, 25, 25, 25, 25, 25, 25, 25, 25, 25, 25, 25, 25, 25, 25, 25, 25, 25, 25, 25, 25, 25, 25, 25, 25, 25, 25, 25, 25, 25, 25, 25, 25, 25, 25, 25, 25, 25, 25, 25, 25, 25, 25, 25, 25, 25, 25, 25, 25, 25, 25, 25, 25, 25, 25, 25, 25, 25, 25, 25, 25, 25, 25, 25, 25, 25, 25, 25, 25, 25, 25, 25, 25, 25, 25, 25, 25, 25, 25, 25, 25, 25, 25, 25, 25, 25, 25, 25, 25, 25, 25, 25, 25, 25, 25, 25, 25, 25, 25, 25, 25, 25, 25, 25, 25, 25, 25, 25, 25, 25, 25, 25, 25, 25, 25, 25, 25, 25, 25, 25, 25, 25, 25, 25, 25, 25, 25, 25, 25, 25, 25, 25, 25, 25, 25, 28, 28, 28, 28, 28, 28, 28, 28, 28, 28, 28, 28, 28, 28, 28, 28, 28, 28, 28, 28, 28, 28, 28, 28, 28, 28, 28, 28, 28, 28, 28, 28, 28, 28, 28, 28, 28, 28, 28, 28, 28, 28, 28, 28, 28, 28, 28, 28, 28, 28, 28, 28, 28, 28, 28, 28, 28, 28, 28, 28, 28, 28, 28, 28, 28, 28, 28, 28, 28, 28, 28, 28, 28, 28, 28, 28, 28, 28, 28, 28, 28, 28, 28, 28, 28, 28, 28, 28, 28, 28, 28, 28, 28, 28, 28, 28, 28, 28, 28, 28, 28, 28, 28, 28, 28, 28, 28, 28, 28, 28, 28, 28, 28, 28, 28, 28, 28, 28, 28, 28, 28, 28, 28, 28, 28, 28, 28, 28, 28, 28, 28, 28, 28, 28, 28, 28, 28, 28, 28, 28, 28, 28, 28, 28, 28, 28, 28, 28, 28, 28, 28, 28, 28, 28, 28, 28, 28, 28, 28, 28, 28, 28, 28, 28, 28, 28, 28, 28, 28, 28, 28, 28, 28, 28, 28, 28, 28, 28, 28, 28, 28, 28, 28, 28, 28, 28, 28, 28, 28, 28, 28, 28, 28, 28, 28, 28, 28, 28, 28, 28, 28, 28, 28, 28, 28, 28, 28, 28, 28, 28, 28, 28, 28, 28, 28, 28, 28, 28, 28, 28, 28, 28, 28, 28, 28, 28, 28, 28, 28, 28, 28, 28, 28, 28, 28, 28, 28, 28, 28, 28, 28, 28, 28, 28, 28, 28, 28, 28, 28, 28, 28, 28, 28, 28, 28, 28, 28, 28, 28, 28, 28, 28, 28, 28, 28, 28, 28, 28, 28, 28, 28, 28, 28, 28, 28, 28, 28, 28, 28, 28, 28, 28, 28, 28, 28, 28, 28, 28, 28, 28, 28, 28, 28, 28, 28, 28, 28, 28, 28, 28, 28, 28, 28, 28, 28, 28, 28, 28, 28, 28, 28, 28, 28, 28, 28, 28, 28, 28, 28, 28, 28, 28, 28, 28, 28, 28, 28, 28, 28, 28, 28, 28, 28, 28, 28, 28, 28, 28, 28, 28, 28, 28, 28, 28, 28, 28, 28, 28, 28, 28, 28, 28, 28, 28, 28, 28, 28, 28, 28, 28, 28, 28, 28, 28, 28, 28, 28, 28, 28, 28, 28, 28, 28, 28, 28, 28, 28, 28, 28, 28, 28, 28, 28, 28, 28, 28, 28, 28, 28, 28, 28, 28, 28, 28, 28, 28, 28, 28, 28, 28, 28, 28, 28, 28, 28, 28, 28, 28, 28, 28, 28, 28, 28, 28, 28, 28, 28, 28, 28, 28, 28, 28, 28, 28, 28, 28, 28, 28, 28, 28, 28, 28, 28, 28, 28, 28, 28, 28, 28, 28, 28, 28, 28, 28, 28, 28, 28, 28, 28, 28, 28, 28, 28, 28, 28, 28, 28, 28, 28, 28, 28, 28, 28, 28, 28, 28, 28, 13, 13, 13, 13, 13, 13, 13, 13, 13, 13, 13, 13, 13, 13, 13, 13, 13, 13, 13, 13, 13, 13, 13, 13, 13, 13, 13, 13, 13, 13, 13, 13, 13, 13, 13, 13, 13, 13, 13, 13, 13, 13, 13, 13, 13, 13, 13, 13, 13, 13, 13, 13, 13, 13, 13, 13, 13, 13, 13, 13, 13, 13, 13, 13, 13, 13, 13, 13, 13, 13, 13, 13, 13, 13, 13, 13, 13, 13, 13, 13, 13, 13, 13, 13, 13, 13, 13, 13, 13, 13, 13, 13, 13, 13, 13, 13, 13, 13, 13, 13, 13, 13, 13, 13, 13, 13, 13, 13, 13, 13, 13, 13, 13, 13, 13, 13, 13, 13, 13, 13, 13, 13, 13, 13, 13, 13, 13, 13, 13, 13, 13, 13, 13, 13, 13, 13, 13, 13, 13, 13, 13, 13, 13, 13, 13, 13, 13, 13, 13, 13, 13, 13, 13, 13, 13, 13, 13, 13, 13, 13, 13, 13, 13, 13, 13, 13, 13, 13, 13, 13, 13, 13, 13, 13, 13, 13, 13, 13, 13, 13, 13, 13, 13, 13, 13, 13, 13, 13, 28, 28, 28, 28, 28, 28, 28, 28, 28, 28, 28, 28, 28, 28, 28, 28, 28, 28, 28, 28, 28, 28, 28, 28, 28, 28, 28, 28, 28, 28, 28, 28, 28, 28, 28, 28, 28, 28, 28, 28, 28, 28, 28, 28, 28, 28, 28, 28, 28, 28, 28, 28, 28, 28, 28, 28, 28, 28, 28, 28, 28, 28, 28, 28, 28, 28, 28, 28, 28, 28, 28, 28, 28, 28, 28, 28, 28, 28, 28, 28, 28, 28, 28, 28, 28, 28, 28, 28, 28, 28, 28, 28, 28, 28, 28, 28, 28, 28, 28, 28, 28, 28, 28, 28, 28, 28, 0, 0, 0, 0, 0, 0, 0, 0, 0, 0, 0, 0, 0, 0, 0, 0, 0, 0, 0, 0, 0, 0, 0, 0, 0, 0, 0, 0, 0, 0, 0, 0, 0, 0, 0, 0, 0, 0, 0, 0, 0, 0, 0, 0, 0, 0, 0, 0, 0, 0, 0, 0, 0, 0, 0, 0, 0, 0, 0, 0, 0, 0, 0, 0, 0, 0, 0, 0, 0, 0, 0, 0, 0, 0, 0, 0, 0, 0, 0, 0, 4, 4, 4, 4, 4, 4, 4, 4, 4, 4, 4, 4, 4, 4, 4, 4, 4, 4, 4, 4, 4, 4, 4, 4, 4, 4, 4, 4, 4, 4, 4, 4, 4, 4, 4, 4, 4, 4, 4, 4, 4, 4, 4, 4, 4, 15, 15, 15, 15, 15, 15, 15, 15, 15, 15, 15, 15, 15, 15, 15, 15, 15, 15, 15, 15, 15, 15, 15, 15, 15, 15, 15, 15, 15, 15, 15, 15, 15, 15, 15, 15, 15, 15, 15, 15, 15, 15, 15, 15, 15, 15, 15, 15, 15, 15, 15, 15, 15, 15, 15, 15, 15, 15, 15, 15, 15, 15, 15, 15, 15, 15, 15, 15, 15, 15, 15, 15, 15, 15, 15, 15, 15, 15, 15, 15, 15, 15, 15, 15, 15, 15, 15, 15, 15, 15, 15, 15, 15, 15, 15, 15, 15, 15, 15, 15, 15, 15, 15, 15, 15, 15, 15, 15, 15, 15, 15, 15, 15, 15, 15, 15, 15, 15, 15, 15, 15, 15, 15, 15, 15, 15, 15, 15, 15, 15, 15, 15, 15, 15, 15, 15, 15, 15, 15, 15, 15, 15, 15, 15, 15, 15, 15, 15, 15, 15, 15, 15, 15, 15, 15, 15, 15, 15, 15, 15, 15, 15, 15, 15, 15, 15, 15, 15, 15, 15, 15, 15, 15, 15, 15, 15, 15, 15, 15, 15, 15, 15, 15, 15, 15, 15, 15, 15, 15, 15, 15, 15, 15, 15, 15, 15, 15, 15, 15, 15, 15, 15, 15, 15, 15, 15, 15, 15, 15, 15, 15, 15, 15, 15, 15, 15, 15, 15, 15, 15, 15, 15, 15, 15, 15, 15, 15, 15, 15, 15, 15, 15, 15, 15, 15, 15, 15, 15, 15, 15, 15, 15, 15, 15, 15, 15, 15, 15, 15, 15, 15, 15, 15, 15, 15, 15, 15, 15, 15, 15, 15, 15, 15, 15, 15, 15, 15, 15, 15, 15, 15, 15, 15, 15, 15, 15, 15, 15, 15, 15, 15, 15, 15, 15, 15, 15, 15, 15, 15, 15, 15, 15, 15, 15, 15, 15, 15, 15, 15, 15, 15, 15, 15, 15, 15, 15, 15, 15, 15, 15, 15, 15, 15, 15, 15, 15, 15, 15, 15, 15, 15, 15, 15, 15, 15, 15, 15, 15, 15, 15, 15, 15, 15, 15, 15, 15, 15, 15, 15, 15, 15, 15, 15, 15, 15, 15, 15, 15, 15, 15, 15, 15, 15, 15, 15, 15, 15, 15, 15, 15, 15, 15, 15, 15, 15, 15, 15, 15, 15, 15, 15, 15, 15, 15, 15, 15, 15, 15, 15, 15, 15, 15, 15, 15, 15, 15, 15, 15, 15, 15, 15, 15, 15, 15, 15, 15, 15, 15, 15, 15, 15, 15, 15, 15, 15, 15, 15, 15, 15, 15, 15, 15, 15, 15, 15, 15, 15, 15, 15, 15, 15, 15, 15, 15, 15, 24, 24, 24, 24, 24, 24, 24, 24, 24, 24, 24, 24, 24, 24, 24, 24, 24, 24, 24, 24, 24, 24, 24, 24, 24, 24, 24, 24, 24, 24, 24, 24, 24, 24, 24, 24, 24, 24, 24, 24, 24, 24, 24, 24, 24, 24, 24, 24, 24, 24, 24, 24, 24, 24, 24, 24, 24, 24, 24, 24, 24, 24, 24, 24, 24, 24, 24, 24, 24, 24, 24, 24, 24, 24, 24, 24, 24, 24, 24, 24, 24, 24, 24, 24, 24, 24, 24, 24, 24, 24, 24, 24, 24, 24, 24, 24, 24, 24, 24, 24, 24, 24, 24, 24, 24, 24, 24, 24, 24, 24, 24, 24, 24, 24, 24, 24, 24, 24, 24, 24, 24, 24, 24, 24, 24, 24, 24, 24, 24, 24, 24, 24, 24, 24, 24, 24, 24, 24, 24, 24, 24, 24, 24, 24, 24, 24, 24, 24, 24, 24, 24, 24, 24, 24, 24, 24, 24, 24, 24, 24, 24, 24, 24, 24, 24, 24, 24, 24, 24, 24, 24, 24, 24, 24, 24, 24, 24, 24, 24, 24, 24, 24, 24, 24, 24, 24, 24, 24, 24, 24, 24, 24, 24, 24, 24, 24, 24, 24, 24, 24, 24, 24, 24, 24, 24, 24, 24, 24, 24, 24, 24, 24, 24, 24, 24, 24, 24, 24, 24, 24, 24, 24, 24, 24, 24, 24, 24, 24, 24, 24, 24, 24, 24, 24, 24, 24, 24, 24, 24, 24, 24, 24, 24, 24, 24, 24, 24, 24, 24, 24, 24, 24, 24, 24, 24, 24, 24, 24, 24, 24, 24, 24, 24, 10, 10, 10, 10, 10, 10, 10, 10, 10, 10, 10, 10, 10, 10, 10, 10, 10, 10, 10, 10, 10, 10, 10, 10, 10, 10, 10, 10, 10, 10, 10, 10, 10, 10, 10, 10, 10, 10, 10, 10, 10, 10, 10, 10, 10, 10, 10, 10, 10, 10, 10, 10, 10, 10, 10, 10, 10, 10, 10, 10, 10, 10, 10, 10, 10, 10, 10, 10, 10, 10, 10, 10, 10, 10, 10, 10, 10, 10, 10, 10, 10, 10, 10, 10, 10, 10, 10, 10, 10, 10, 10, 29, 29, 29, 30, 30, 30, 30, 30, 30, 30, 30, 30, 30, 30, 30, 30, 30, 30, 30, 30, 30, 30, 30, 30, 30, 30, 30, 30, 30, 30, 30, 30, 30, 30, 30, 30, 30, 30, 30, 30, 30, 30, 30, 30, 30, 30, 30, 30, 30, 30, 30, 30, 30, 30, 30, 30, 30, 30, 30, 30, 30, 30, 11, 11, 11, 11, 11, 11, 11, 11, 11, 11, 11, 11, 11, 11, 11, 11, 11, 11, 11, 11, 11, 11, 11, 11, 11, 11, 11, 11, 11, 11, 11, 11, 11, 11, 11, 11, 11, 11, 11, 11, 11, 11, 11, 11, 11, 11, 11, 11, 11, 11, 11, 11, 11, 11, 11, 11, 11, 11, 11, 11, 11, 11, 11, 11, 11, 11, 11, 11, 11, 11, 11, 11, 11, 11, 11, 11, 11, 11, 11, 11, 11, 11, 11, 11, 11, 11, 11, 11, 11, 11, 11, 11, 11, 11, 11, 11, 11, 11, 11, 11, 11, 11, 11, 11, 11, 11, 11, 11, 11, 11, 11, 11, 11, 11, 11, 11, 11, 11, 11, 11, 11, 11, 11, 11, 11, 11, 11, 11, 11, 11, 11, 11, 11, 11, 11, 11, 11, 11, 11, 11, 11, 11, 11, 11, 11, 11, 11, 11, 11, 11, 11, 16, 16, 16, 16, 16, 16, 16, 16, 16, 16, 16, 16, 16, 16, 16, 16, 16, 16, 16, 16, 16, 16, 16, 16, 16, 16, 16, 16, 16, 16, 16, 16, 16, 16, 16, 16, 16, 16, 16, 16, 16, 16, 16, 16, 16, 16, 16, 16, 16, 16, 16, 16, 16, 16, 16, 16, 16, 16, 16, 16, 16, 16, 16, 16, 16, 16, 16, 16, 16, 16, 16, 16, 16, 16, 16, 16, 16, 16, 16, 16, 16, 16, 16, 16, 16, 16, 16, 16, 16, 16, 16, 16, 16, 16, 16, 16, 16, 16, 16, 16, 16, 16, 16, 16, 16, 16, 16, 16, 16, 16, 16, 16, 16, 16, 16, 16, 16, 16, 16, 16, 16, 16, 16, 16, 16, 16, 16, 16, 16, 16, 16, 16, 16, 16, 16, 16, 16, 16, 16, 16, 16, 16, 16, 16, 16, 16, 16, 16, 16, 16, 16, 16, 16, 16, 16, 16, 16, 16, 16, 16, 16, 16, 16, 16, 16, 16, 16, 16, 16, 16, 16, 16, 16, 16, 16, 16, 16, 16, 16, 16, 16, 16, 16, 16, 16, 16, 16, 16, 16, 16, 16, 16, 16, 16, 16, 16, 16, 16, 16, 16, 16, 16, 16, 16, 16, 16, 16, 16, 16, 16, 16, 16, 16, 16, 16, 16, 16, 16, 16, 16, 16, 16, 16, 16, 16, 16, 16, 18, 18, 18, 18, 18, 18, 18, 18, 18, 18, 18, 18, 18, 18, 18, 18, 18, 18, 18, 18, 18, 18, 18, 18, 18, 18, 18, 18, 18, 18, 18, 18, 18, 18, 18, 18, 18, 18, 18, 18, 18, 18, 18, 18, 18, 18, 18, 18, 18, 18, 18, 18, 18, 18, 18, 18, 18, 18, 18, 18, 18, 18, 18, 18, 18, 18, 18, 18, 18, 18, 18, 18, 18, 18, 18, 18, 18, 18, 18, 18, 18, 18, 18, 18, 18, 18, 18, 11, 11, 11, 11, 11, 11, 11, 11, 11, 11, 11, 11, 11, 11, 11, 11, 11, 11, 11, 11, 11, 11, 11, 11, 11, 11, 11, 11, 11, 11, 11, 11, 11, 11, 11, 11, 11, 11, 11, 11, 11, 11, 11, 11, 11, 11, 11, 11, 11, 11, 11, 11, 11, 11, 11, 11, 11, 11, 11, 11, 11, 11, 11, 11, 11, 11, 11, 11, 11, 11, 11, 11, 11, 11, 11, 11, 11, 11, 11, 11, 11, 11, 11, 11, 11, 11, 11, 11, 11, 11, 11, 11, 11, 11, 11, 11, 11, 11, 11, 11, 11, 11, 11, 11, 11, 11, 11, 11, 11, 11, 11, 11, 11, 11, 11, 11, 11, 11, 11, 11, 11, 11, 11, 11, 11, 11, 11, 11, 11, 11, 11, 11, 11, 11, 11, 11, 11, 11, 11, 11, 11, 11, 11, 11, 11, 11, 11, 11, 11, 11, 11, 11, 11, 11, 11, 11, 11, 11, 11, 11, 11, 11, 11, 11, 11, 11, 11, 11, 11, 11, 11, 11, 11, 11, 11, 11, 11, 11, 11, 11, 11, 11, 11, 11, 11, 11, 11, 11, 11, 11, 11, 11, 11, 11, 11, 11, 11, 11, 11, 11, 11, 11, 11, 11, 11, 11, 11, 11, 11, 11, 11, 11, 11, 11, 11, 11, 11, 11, 11, 11, 11, 11, 11, 11, 11, 11, 11, 11, 11, 11, 11, 11, 11, 11, 11, 11, 11, 11, 11, 11, 11, 11, 11, 11, 11, 11, 11, 11, 11, 11, 11, 11, 11, 11, 11, 11, 11, 11, 11, 11, 11, 11, 11, 11, 11, 11, 11, 11, 11, 11, 11, 11, 11, 11, 11, 11, 11, 11, 11, 11, 11, 11, 11, 11, 11, 11, 11, 11, 11, 11, 11, 11, 11, 11, 11, 11, 11, 11, 11, 11, 11, 11, 11, 11, 11, 11, 11, 11, 11, 11, 11, 11, 11, 11, 11, 11, 11, 11, 11, 11, 11, 11, 11, 11, 11, 11, 11, 11, 11, 11, 11, 11, 11, 11, 11, 11, 11, 11, 11, 11, 11, 11, 11, 11, 11, 11, 11, 11, 11, 11, 11, 11, 11, 11, 11, 11, 11, 11, 11, 11, 11, 11, 11, 11, 11, 11, 11, 11, 11, 11, 11, 11, 11, 11, 11, 11, 11, 11, 11, 11, 11, 11, 11, 11, 11, 11, 11, 11, 11, 11, 11, 11, 11, 11, 11, 11, 11, 11, 11, 11, 11, 11, 11, 11, 11, 11, 11, 11, 11, 11, 11, 11, 11, 11, 11, 11, 11, 11, 11, 11, 11, 11, 11, 11, 11, 11, 11, 11, 11, 11, 11, 11, 11, 11, 11, 11, 11, 11, 11, 11, 11, 11, 11, 11, 11, 11, 11, 11, 11, 11, 11, 11, 11, 11, 11, 11, 11, 11, 11, 11, 11, 11, 11, 11, 11, 19, 19, 19, 19, 19, 19, 19, 19, 19, 19, 19, 19, 19, 19, 19, 19, 19, 19, 19, 19, 19, 19, 19, 19, 19, 19, 19, 19, 19, 19, 19, 19, 19, 19, 19, 19, 19, 19, 19, 19, 19, 19, 19, 19, 19, 19, 19, 19, 19, 19, 19, 19, 19, 19, 19, 19, 19, 19, 19, 19, 19, 19, 19, 19, 19, 19, 19, 19, 19, 19, 19, 19, 19, 19, 19, 19, 19, 19, 19, 19, 19, 19, 19, 19, 19, 19, 19, 19, 19, 19, 19, 19, 19, 19, 19, 19, 19, 19, 19, 19, 19, 19, 19, 19, 19, 19, 19, 19, 19, 19, 19, 19, 19, 19, 19, 19, 19, 19, 19, 19, 19, 19, 19, 19, 19, 19, 19, 19, 19, 19, 19, 19, 19, 19, 19, 19, 19, 19, 19, 19, 19, 19, 19, 19, 19, 19, 19, 19, 19, 19, 19, 19, 19, 19, 19, 19, 19, 19, 19, 19, 19, 19, 19, 19, 19, 19, 19, 19, 19, 19, 19, 19, 19, 19, 19, 19, 19, 19, 19, 19, 19, 19, 19, 19, 19, 19, 19, 19, 19, 19, 19, 19, 19, 19, 19, 19, 19, 19, 19, 19, 19, 19, 19, 19, 19, 19, 19, 19, 19, 19, 19, 19, 19, 19, 19, 19, 19, 19, 19, 19, 19, 19, 19, 19, 19, 19, 19, 19, 19, 19, 19, 19, 19, 19, 19, 19, 19, 19, 19, 19, 19, 19, 19, 19, 19, 19, 19, 19, 19, 19, 19, 19, 19, 19, 19, 19, 19, 19, 19, 19, 19, 19, 19, 19, 19, 19, 19, 19, 19, 19, 19, 19, 19, 19, 19, 19, 19, 19, 19, 19, 19, 19, 19, 19, 19, 19, 19, 19, 19, 19, 19, 19, 19, 19, 19, 19, 19, 19, 19, 19, 19, 19, 19, 19, 19, 19, 19, 19, 19, 19, 19, 19, 19, 19, 19, 19, 19, 19, 19, 19, 19, 19, 19, 19, 19, 19, 19, 19, 19, 19, 19, 19, 19, 19, 19, 19, 19, 19, 19, 19, 19, 19, 19, 19, 19, 19, 19, 19, 19, 19, 19, 19, 19, 19, 19, 19, 19, 19, 19, 19, 19, 19, 19, 19, 19, 19, 19, 19, 19, 19, 19, 19, 19, 19, 19, 19, 19, 19, 19, 19, 19, 19, 19, 19, 19, 19, 19, 19, 19, 19, 19, 19, 19, 19, 19, 19, 19, 19, 19, 19, 19, 19, 19, 19, 19, 19, 19, 19, 19, 19, 19, 19, 19, 19, 19, 19, 19, 19, 19, 19, 19, 19, 19, 19, 19, 19, 19, 19, 19, 17, 17, 17, 17, 17, 17, 17, 17, 17, 17, 17, 17, 17, 17, 17, 17, 17, 17, 17, 17, 17, 17, 17, 17, 17, 17, 17, 17, 17, 17, 17, 17, 17, 17, 17, 17, 17, 17, 17, 17, 17, 17, 17, 17, 17, 17, 17, 17, 17, 17, 17, 17, 17, 17, 17, 17, 17, 17, 17, 17, 17, 17, 17, 17, 17, 17, 17, 17, 17, 17, 17, 17, 17, 17, 17, 17, 17, 17, 17, 17, 17, 17, 17, 17, 17, 17, 17, 17, 17, 17, 17, 17, 17, 17, 17, 17, 17, 17, 17, 17, 17, 17, 17, 17, 17, 17, 17, 17, 17, 17, 17, 17, 17, 17, 17, 17, 17, 17, 17, 17, 17, 17, 17, 17, 17, 17, 17, 17, 17, 17, 17, 17, 17, 17, 17, 17, 17, 17, 17, 17, 17, 17, 17, 17, 17, 17, 17, 17, 17, 17, 17, 17, 17, 17, 17, 17, 17, 17, 17, 17, 17, 17, 17, 17, 17, 17, 17, 17, 17, 17, 17, 17, 17, 17, 17, 17, 17, 17, 17, 17, 17, 17, 17, 17, 17, 17, 17, 17, 17, 17, 17, 17, 17, 17, 17, 17, 17, 17, 17, 17, 17, 17, 17, 17, 17, 17, 17, 17, 17, 17, 17, 17, 17, 17, 17, 17, 17, 17, 17, 17, 17, 17, 17, 17, 17, 17, 17, 17, 17, 17, 17, 17, 17, 17, 17, 17, 17, 17, 17, 17, 17, 17, 17, 17, 17, 17, 17, 17, 17, 17, 17, 17, 17, 17, 17, 17, 17, 17, 17, 17, 17, 17, 17, 17, 17, 17, 17, 17, 17, 17, 17, 17, 17, 17, 17, 17, 17, 17, 17, 17, 17, 17, 17, 17, 17, 17, 17, 17, 17, 17, 17, 17, 17, 17, 17, 17, 17, 17, 17, 17, 17, 17, 17, 17, 17, 17, 17, 17, 17, 17, 17, 17, 17, 17, 17, 17, 17, 17, 17, 17, 17, 17, 17, 17, 17, 17, 17, 17, 17, 17, 17, 17, 17, 17, 17, 30, 30, 30, 30, 30, 30, 30, 30, 30, 30, 30, 30, 30, 30, 30, 30, 30, 30, 30, 30, 30, 30, 30, 30, 30, 30, 30, 30, 30, 30, 30, 30, 30, 30, 30, 30, 30, 30, 30, 30, 30, 30, 30, 30, 30, 30, 30, 30, 30, 30, 30, 30, 30, 30, 30, 30, 30, 30, 30, 30, 30, 30, 30, 30, 30, 30, 30, 30, 30, 30, 30, 30, 30, 30, 30, 30, 30, 30, 30, 30, 30, 30, 30, 30, 30, 30, 30, 30, 30, 30, 30, 30, 30, 30, 30, 30, 30, 30, 30, 30, 30, 30, 30, 30, 30, 30, 30, 30, 30, 30, 30, 30, 30, 30, 30, 30, 30, 30, 30, 30, 30, 30, 30, 30, 30, 30, 30, 30, 30, 30, 30, 30, 30, 30, 30, 30, 30, 30, 30, 30, 30, 30, 30, 30, 30, 30, 30, 30, 30, 30, 30, 30, 30, 30, 30, 30, 30, 30, 30, 30, 30, 30, 30, 30, 30, 30, 30, 30, 30, 30, 30, 30, 30, 30, 30, 30, 30, 30, 30, 30, 30, 30, 30, 30, 30, 30, 30, 30, 30, 30, 30, 30, 30, 30, 30, 30, 30, 30, 30, 30, 30, 30, 30, 30, 30, 30, 30, 30, 30, 30, 30, 30, 30, 30, 30, 30, 30, 30, 30, 30, 30, 30, 30, 30, 30, 30, 30, 30, 30, 30, 30, 30, 30, 30, 30, 30, 30, 30, 30, 30, 30, 30, 30, 30, 30, 30, 30, 30, 30, 30, 30, 30, 30, 30, 30, 30, 30, 30, 30, 30, 30, 30, 30, 30, 30, 30, 30, 30, 30, 30, 30, 30, 30, 30, 30, 30, 30, 30, 30, 30, 30, 30, 30, 30, 30, 30, 30, 30, 30, 30, 30, 30, 30, 30, 30, 30, 30, 30, 30, 30, 30, 30, 30, 30, 30, 30, 30, 30, 30, 30, 30, 30, 30, 30, 30, 30, 30, 30, 30, 30, 30, 30, 30, 30, 30, 30, 30, 30, 30, 30, 30, 30, 30, 30, 30, 30, 30, 30, 30, 30, 30, 30, 30, 30, 30, 30, 30, 30, 30, 30, 30, 30, 30, 30, 30, 30, 30, 30, 30, 30, 30, 30, 30, 30, 30, 30, 30, 30, 30, 30, 30, 30, 30, 30, 30, 30, 30, 30, 30, 30, 30, 30, 30, 30, 30, 30, 30, 30, 30, 30, 30, 30, 30, 30, 30, 30, 30, 30, 30, 30, 30, 30, 30, 30, 30, 30, 30, 30, 30, 30, 30, 30, 30, 30, 30, 30, 30, 30, 30, 30, 30, 30, 30, 30, 30, 30, 30, 30, 30, 30, 30, 30, 30, 30, 30, 30, 30, 30, 30, 30, 30, 30, 30, 30, 30, 30, 30, 30, 30, 30, 30, 30, 30, 30, 30, 30, 30, 30, 30, 30, 30, 30, 30, 30, 30, 30, 30, 30, 30, 30, 30, 30, 30, 30, 30, 30, 30, 30, 30, 30, 30, 30, 30, 30, 30, 30, 30, 30, 30, 30, 30, 30, 30, 30, 30, 30, 30, 30, 30, 30, 30, 30, 30, 30, 30, 30, 30, 30, 30, 30, 30, 30, 30, 30, 30, 30, 30, 30, 30, 30, 16, 16, 16, 16, 16, 16, 16, 16, 16, 16, 16, 16, 16, 16, 16, 16, 16, 16, 16, 16, 16, 16, 16, 16, 16, 16, 16, 16, 16, 16, 16, 16, 16, 16, 16, 16, 16, 16, 16, 16, 16, 16, 16, 16, 16, 16, 16, 16, 16, 16, 16, 16, 16, 16, 16, 16, 16, 16, 16, 16, 16, 16, 16, 16, 16, 16, 16, 16, 16, 16, 16, 16, 16, 16, 16, 16, 16, 16, 16, 16, 16, 16, 16, 16, 16, 16, 16, 16, 16, 16, 16, 16, 16, 16, 16, 16, 16, 16, 16, 16, 16, 16, 16, 16, 16, 16, 16, 16, 16, 16, 16, 16, 16, 16, 16, 16, 16, 16, 16, 16, 16, 16, 16, 16, 16, 16, 16, 16, 16, 16, 16, 16, 16, 16, 16, 16, 16, 16, 16, 16, 16, 16, 16, 16, 16, 16, 16, 16, 16, 16, 16, 16, 16, 16, 16, 16, 16, 16, 16, 16, 16, 16, 16, 16, 16, 16, 16, 16, 16, 16, 16, 16, 16, 16, 16, 16, 16, 16, 16, 16, 16, 16, 16, 16, 16, 16, 16, 16, 16, 16, 16, 16, 16, 16, 16, 16, 16, 16, 16, 16, 16, 16, 16, 16, 16, 16, 16, 16, 16, 16, 16, 16, 16, 16, 16, 16, 16, 16, 16, 16, 16, 16, 16, 16, 16, 16, 16, 16, 16, 16, 16, 16, 16, 16, 16, 16, 16, 16, 16, 16, 16, 16, 16, 16, 16, 16, 16, 16, 16, 16, 16, 16, 16, 16, 16, 16, 16, 16, 16, 16, 16, 16, 16, 16, 16, 16, 16, 16, 16, 16, 16, 16, 16, 16, 16, 16, 16, 16, 16, 16, 16, 16, 16, 16, 16, 16, 16, 16, 16, 16, 16, 16, 16, 16, 16, 16, 16, 16, 16, 16, 16, 16, 16, 16, 16, 16, 16, 16, 16, 16, 16, 16, 16, 16, 16, 16, 16, 16, 16, 16, 16, 16, 16, 16, 16, 16, 16, 16, 16, 16, 16, 16, 16, 16, 16, 16, 16, 16, 16, 16, 8, 8, 8, 8, 2, 2, 2, 2, 2, 2, 2, 2, 2, 2, 2, 2, 2, 2, 2, 2, 2, 2, 2, 2, 2, 2, 2, 2, 2, 2, 2, 2, 2, 2, 2, 2, 2, 2, 2, 2, 2, 2, 2, 2, 2, 2, 2, 2, 2, 2, 2, 2, 2, 2, 2, 2, 2, 2, 2, 2, 2, 2, 2, 2, 2, 2, 2, 2, 2, 2, 2, 2, 2, 2, 2, 2, 2, 2, 2, 2, 2, 2, 2, 2, 2, 2, 2, 2, 2, 2, 2, 2, 2, 2, 2, 2, 2, 2, 2, 2, 2, 2, 2, 2, 2, 2, 2, 2, 2, 2, 2, 2, 2, 2, 2, 2, 2, 2, 2, 2, 2, 2, 2, 2, 2, 2, 2, 2, 2, 2, 2, 2, 2, 2, 2, 2, 2, 2, 2, 2, 2, 2, 2, 2, 2, 2, 2, 2, 2, 2, 2, 2, 2, 2, 2, 2, 2, 2, 2, 2, 2, 2, 2, 2, 2, 2, 2, 2, 2, 2, 2, 2, 2, 2, 2, 2, 2, 2, 2, 2, 2, 2, 2, 2, 2, 2, 2, 2, 2, 2, 2, 2, 2, 2, 2, 2, 2, 2, 2, 2, 2, 2, 2, 2, 2, 2, 2, 2, 2, 2, 2, 2, 2, 2, 2, 2, 2, 2, 2, 2, 2, 2, 2, 2, 2, 2, 2, 2, 2, 2, 2, 2, 2, 2, 2, 2, 2, 2, 2, 2, 2, 2, 2, 2, 2, 2, 2, 2, 2, 2, 2, 2, 2, 2, 2, 2, 2, 2, 2, 2, 2, 2, 2, 2, 2, 2, 2, 2, 2, 2, 2, 2, 2, 2, 2, 2, 2, 2, 2, 2, 2, 2, 2, 2, 2, 2, 2, 2, 2, 2, 2, 2, 2, 2, 2, 2, 2, 2, 2, 2, 2, 2, 2, 2, 2, 2, 2, 2, 2, 2, 2, 2, 2, 2, 2, 2, 2, 2, 2, 2, 2, 2, 2, 2, 2, 2, 2, 2, 2, 2, 2, 2, 2, 2, 2, 2, 2, 2, 2, 2, 2, 2, 2, 2, 2, 2, 2, 2, 2, 2, 2, 2, 2, 2, 2, 2, 2, 2, 2, 2, 2, 2, 2, 2, 2, 2, 2, 2, 2, 2, 2, 2, 2, 2, 2, 2, 2, 2, 2, 2, 2, 2, 2, 2, 2, 2, 2, 2, 2, 2, 2, 2, 2, 2, 2, 2, 2, 2, 2, 2, 2, 2, 2, 2, 2, 2, 2, 2, 2, 2, 2, 2, 2, 2, 2, 2, 2, 2, 2, 2, 2, 2, 2, 2, 2, 2, 2, 2, 2, 2, 2, 2, 2, 2, 2, 2, 2, 2, 2, 2, 2, 2, 2, 2, 2, 2, 2, 2, 2, 2, 2, 2, 19, 19, 19, 19, 19, 19, 19, 19, 19, 19, 19, 19, 19, 19, 19, 19, 19, 19, 19, 19, 19, 19, 19, 19, 19, 19, 19, 19, 19, 19, 19, 19, 19, 19, 19, 19, 19, 19, 19, 19, 19, 19, 19, 19, 19, 19, 19, 19, 19, 19, 19, 19, 19, 19, 19, 19, 19, 19, 19, 19, 19, 19, 19, 19, 19, 19, 19, 19, 19, 19, 27, 27, 27, 27, 27, 27, 27, 27, 27, 27, 27, 27, 27, 27, 27, 27, 27, 27, 27, 27, 27, 27, 27, 27, 27, 27, 27, 27, 27, 27, 27, 27, 27, 27, 27, 27, 27, 27, 27, 27, 27, 27, 27, 27, 27, 27, 27, 27, 27, 27, 27, 27, 27, 27, 27, 27, 27, 27, 27, 27, 27, 27, 27, 27, 27, 27, 27, 27, 27, 27, 27, 27, 27, 27, 27, 27, 27, 27, 27, 27, 27, 27, 27, 27, 27, 27, 27, 27, 27, 27, 27, 27, 27, 27, 27, 27, 27, 27, 27, 27, 27, 27, 27, 27, 27, 27, 27, 27, 27, 27, 27, 27, 27, 27, 27, 27, 27, 27, 27, 27, 27, 27, 27, 27, 27, 27, 27, 27, 27, 27, 27, 27, 27, 27, 27, 27, 27, 27, 27, 27, 27, 27, 27, 27, 27, 27, 27, 27, 27, 27, 27, 27, 27, 27, 27, 27, 14, 14, 14, 14, 14, 14, 14, 14, 14, 14, 14, 14, 14, 14, 14, 14, 14, 14, 14, 14, 14, 14, 14, 14, 14, 14, 14, 14, 14, 14, 14, 14, 14, 14, 14, 14, 14, 14, 14, 14, 14, 14, 14, 14, 14, 14, 14, 14, 14, 14, 14, 14, 14, 14, 14, 14, 14, 14, 14, 14, 14, 14, 14, 14, 14, 14, 14, 14, 14, 14, 14, 14, 14, 14, 14, 14, 14, 14, 14, 14, 14, 14, 14, 14, 14, 14, 14, 14, 14, 14, 14, 14, 14, 14, 14, 14, 14, 14, 14, 14, 14, 14, 14, 14, 14, 14, 14, 14, 14, 14, 14, 14, 14, 14, 14, 14, 14, 14, 14, 14, 14, 14, 14, 14, 14, 14, 14, 14, 14, 14, 14, 14, 14, 14, 14, 14, 14, 14, 14, 14, 14, 14, 14, 14, 14, 14, 14, 14, 14, 14, 14, 14, 14, 14, 14, 14, 14, 14, 14, 14, 14, 14, 14, 14, 14, 14, 14, 14, 14, 14, 14, 14, 14, 14, 14, 14, 14, 14, 14, 14, 14, 14, 14, 14, 14, 14, 14, 14, 14, 14, 14, 14, 14, 14, 14, 14, 14, 14, 14, 14, 14, 14, 14, 14, 14, 14, 14, 14, 14, 14, 14, 14, 14, 14, 14, 14, 14, 14, 14, 14, 14, 14, 14, 14, 14, 14, 14, 14, 14, 14, 14, 14, 14, 14, 14, 14, 14, 14, 14, 14, 14, 14, 14, 14, 14, 14, 14, 14, 14, 14, 14, 14, 14, 14, 14, 14, 14, 14, 14, 14, 14, 14, 14, 14, 14, 14, 14, 14, 14, 14, 14, 14, 14, 14, 14, 14, 14, 14, 14, 14, 14, 14, 14, 14, 14, 14, 14, 14, 14, 14, 14, 14, 14, 14, 14, 14, 14, 14, 14, 14, 14, 14, 14, 14, 14, 14, 14, 14, 14, 14, 14, 14, 14, 14, 14, 14, 14, 14, 14, 14, 14, 14, 14, 14, 14, 14, 14, 14, 14, 14, 14, 14, 14, 14, 14, 14, 14, 14, 14, 14, 14, 14, 14, 14, 14, 14, 14, 14, 14, 14, 14, 14, 14, 14, 14, 14, 14, 14, 14, 14, 14, 14, 14, 14, 14, 14, 14, 14, 14, 14, 14, 14, 14, 14, 14, 14, 14, 14, 14, 14, 14, 14, 14, 14, 14, 14, 14, 14, 14, 14, 14, 14, 14, 14, 14, 14, 14, 14, 14, 14, 14, 14, 14, 14, 14, 14, 14, 14, 14, 14, 14, 14, 14, 14, 14, 14, 14, 14, 14, 14, 14, 14, 14, 14, 14, 14, 14, 14, 14, 14, 14, 14, 14, 14, 14, 14, 14, 14, 14, 14, 14, 14, 14, 14, 14, 14, 14, 14, 14, 14, 14, 14, 14, 14, 14, 14, 14, 14, 14, 14, 14, 14, 14, 14, 14, 14, 14, 14, 14, 14, 14, 14, 14, 14, 14, 14, 14, 14, 14, 14, 14, 14, 14, 14, 14, 14, 14, 14, 14, 14, 14, 14, 14, 14, 14, 14, 14, 14, 14, 14, 14, 14, 14, 14, 14, 14, 14, 14, 14, 14, 14, 14, 14, 14, 14, 14, 14, 14, 14, 14, 14, 14, 14, 14, 14, 14, 14, 14, 14, 14, 6, 6, 6, 6, 6, 6, 6, 6, 6, 6, 6, 6, 6, 6, 6, 6, 6, 6, 6, 6, 6, 6, 6, 6, 6, 6, 6, 6, 6, 6, 6, 6, 6, 6, 6, 6, 6, 6, 6, 6, 6, 6, 6, 6, 6, 6, 6, 32, 32, 32, 32, 32, 32, 32, 32, 32, 32, 32, 32, 32, 32, 32, 32, 32, 32, 32, 32, 32, 32, 32, 32, 32, 32, 32, 32, 32, 32, 32, 32, 32, 32, 32, 32, 32, 32, 32, 32, 32, 32, 32, 32, 32, 32, 32, 32, 32, 32, 32, 32, 32, 32, 32, 32, 32, 32, 32, 32, 32, 32, 32, 32, 32, 32, 32, 32, 32, 32, 32, 32, 32, 32, 32, 32, 32, 32, 32, 32, 2, 2, 2, 2, 2, 2, 2, 2, 2, 2, 2, 2, 2, 2, 2, 2, 2, 2, 2, 2, 2, 2, 2, 2, 2, 2, 2, 2, 2, 2, 2, 2, 2, 2, 2, 2, 2, 2, 2, 2, 2, 2, 2, 2, 2, 2, 2, 2, 2, 2, 2, 2, 2, 2, 2, 2, 2, 2, 2, 2, 2, 2, 2, 2, 2, 2, 2, 2, 2, 2, 2, 2, 2, 2, 2, 2, 2, 2, 2, 2, 2, 2, 2, 2, 2, 2, 2, 2, 2, 2, 2, 2, 2, 2, 2, 2, 2, 2, 2, 2, 2, 2, 2, 2, 2, 2, 22, 22, 22, 22, 22, 22, 22, 22, 22, 22, 22, 22, 22, 22, 22, 22, 22, 22, 22, 22, 22, 22, 22, 22, 22, 22, 22, 22, 22, 22, 22, 22, 22, 22, 22, 22, 22, 22, 22, 22, 22, 22, 22, 22, 22, 22, 22, 22, 22, 22, 22, 22, 22, 22, 22, 22, 22, 22, 22, 22, 22, 22, 22, 22, 22, 22, 22, 22, 22, 22, 22, 22, 22, 22, 22, 22, 22, 22, 22, 22, 22, 22, 22, 22, 22, 22, 22, 22, 22, 22, 22, 22, 22, 22, 22, 22, 22, 22, 22, 22, 22, 22, 22, 22, 22, 22, 22, 22, 22, 22, 22, 22, 22, 22, 22, 22, 22, 22, 22, 22, 22, 22, 22, 22, 22, 22, 22, 22, 22, 22, 22, 22, 22, 22, 22, 22, 22, 22, 22, 22, 22, 22, 22, 22, 22, 22, 22, 22, 22, 22, 22, 22, 22, 22, 22, 22, 22, 22, 22, 22, 22, 22, 22, 22, 22, 22, 22, 22, 22, 22, 22, 22, 22, 22, 22, 22, 22, 22, 22, 22, 22, 22, 22, 22, 22, 22, 22, 22, 22, 22, 22, 22, 22, 22, 22, 22, 22, 22, 22, 22, 22, 22, 22, 22, 22, 22, 22, 22, 22, 22, 22, 22, 22, 22, 22, 22, 22, 22, 22, 22, 22, 22, 22, 22, 22, 22, 22, 22, 22, 22, 22, 22, 22, 22, 22, 22, 22, 22, 22, 22, 22, 22, 22, 22, 22, 22, 22, 22, 22, 22, 22, 22, 22, 22, 22, 22, 22, 22, 22, 22, 22, 22, 22, 22, 22, 22, 22, 22, 22, 22, 22, 22, 22, 22, 22, 22, 22, 22, 22, 22, 22, 22, 22, 22, 22, 22, 22, 22, 22, 22, 22, 22, 22, 22, 22, 22, 22, 22, 22, 22, 22, 22, 22, 22, 22, 22, 22, 22, 22, 22, 22, 22, 22, 22, 22, 22, 22, 22, 22, 22, 22, 22, 22, 22, 22, 22, 22, 22, 22, 22, 22, 22, 22, 22, 22, 22, 22, 22, 22, 22, 22, 22, 22, 22, 22, 22, 22, 22, 22, 22, 22, 22, 22, 22, 22, 22, 22, 22, 22, 22, 22, 22, 22, 22, 22, 22, 22, 22, 22, 22, 22, 22, 22, 22, 22, 22, 22, 22, 22, 22, 22, 22, 22, 22, 22, 22, 22, 22, 22, 22, 22, 22, 22, 22, 22, 22, 22, 22, 22, 22, 22, 22, 22, 22, 22, 22, 22, 22, 22, 22, 22, 22, 22, 22, 22, 22, 22, 22, 22, 22, 22, 22, 22, 22, 22, 22, 22, 22, 22, 22, 22, 22, 22, 22, 22, 22, 22, 22, 22, 22, 22, 22, 22, 22, 22, 22, 22, 22, 22, 22, 22, 22, 22, 22, 22, 22, 22, 22, 22, 22, 22, 22, 22, 22, 22, 22, 22, 22, 22, 22, 22, 22, 22, 22, 22, 22, 22, 22, 22, 22, 22, 22, 22, 22, 22, 22, 22, 22, 22, 22, 22, 22, 22, 22, 22, 22, 22, 22, 22, 22, 22, 22, 22, 22, 22, 22, 22, 22, 22, 22, 22, 22, 22, 22, 22, 22, 22, 22, 22, 22, 22, 22, 22, 22, 22, 22, 22, 22, 22, 22, 22, 22, 22, 22, 22, 22, 22, 22, 22, 22, 22, 22, 22, 22, 22, 22, 22, 22, 22, 22, 22, 2, 2, 2, 2, 2, 2, 2, 2, 2, 2, 2, 2, 2, 2, 2, 2, 2, 2, 2, 2, 2, 2, 2, 2, 2, 2, 2, 2, 2, 2, 2, 2, 2, 2, 2, 2, 2, 2, 2, 2, 2, 2, 2, 2, 2, 2, 2, 2, 2, 2, 2, 2, 2, 2, 2, 2, 2, 2, 2, 2, 2, 2, 2, 2, 2, 2, 2, 2, 2, 2, 2, 2, 2, 2, 2, 2, 2, 2, 2, 2, 2, 2, 2, 2, 2, 2, 2, 2, 2, 2, 2, 2, 2, 2, 2, 2, 2, 2, 2, 2, 2, 2, 2, 2, 2, 2, 2, 2, 2, 2, 2, 2, 2, 2, 2, 2, 2, 2, 2, 2, 2, 2, 2, 2, 2, 2, 2, 2, 2, 2, 2, 2, 2, 2, 2, 2, 2, 2, 2, 2, 2, 2, 2, 2, 2, 2, 2, 2, 2, 2, 2, 2, 2, 2, 2, 2, 2, 2, 2, 2, 2, 2, 2, 2, 2, 2, 2, 2, 2, 2, 2, 2, 2, 2, 2, 2, 2, 2, 2, 2, 2, 2, 2, 2, 2, 2, 2, 2, 2, 2, 2, 2, 2, 2, 2, 2, 2, 2, 2, 2, 2, 2, 2, 2, 2, 2, 2, 2, 2, 2, 2, 2, 2, 2, 2, 2, 2, 2, 2, 2, 2, 2, 2, 2, 2, 2, 2, 2, 2, 2, 2, 2, 2, 2, 2, 2, 2, 2, 2, 2, 2, 2, 2, 2, 2, 2, 2, 2, 2, 2, 2, 2, 2, 2, 2, 2, 2, 2, 2, 2, 2, 2, 2, 2, 2, 2, 2, 2, 2, 2, 2, 2, 2, 2, 2, 2, 2, 2, 2, 2, 2, 2, 2, 2, 2, 2, 2, 2, 2, 2, 2, 2, 2, 2, 2, 2, 2, 2, 2, 2, 2, 2, 2, 2, 2, 2, 2, 2, 2, 2, 2, 2, 2, 2, 2, 2, 2, 2, 2, 2, 2, 2, 2, 2, 2, 2, 2, 2, 2, 2, 2, 2, 2, 2, 2, 2, 2, 2, 2, 2, 2, 2, 2, 2, 2, 2, 2, 2, 2, 2, 2, 2, 2, 2, 2, 2, 2, 2, 2, 2, 2, 2, 2, 2, 2, 2, 2, 2, 2, 2, 2, 2, 2, 2, 2, 2, 2, 2, 2, 2, 2, 2, 2, 2, 2, 2, 2, 2, 2, 2, 2, 2, 2, 2, 2, 2, 2, 2, 2, 2, 2, 2, 2, 2, 2, 2, 2, 2, 2, 2, 2, 2, 2, 2, 2, 2, 2, 2, 2, 2, 2, 2, 2, 2, 2, 2, 2, 2, 2, 2, 2, 2, 2, 2, 2, 2, 2, 2, 2, 2, 2, 2, 2, 2, 2, 2, 2, 2, 2, 2, 2, 2, 2, 2, 2, 2, 2, 2, 2, 2, 2, 2, 2, 2, 2, 2, 2, 2, 2, 2, 2, 2, 2, 2, 2, 2, 2, 2, 2, 2, 2, 2, 2, 2, 2, 2, 2, 2, 2, 2, 2, 2, 2, 2, 2, 2, 2, 2, 2, 2, 2, 2, 2, 2, 2, 2, 2, 2, 2, 2, 2, 2, 2, 2, 2, 2, 2, 2, 2, 2, 2, 2, 2, 2, 2, 2, 2, 2, 2, 2, 2, 2, 2, 2, 2, 2, 2, 2, 2, 2, 2, 2, 2, 2, 2, 2, 2, 2, 2, 2, 2, 2, 2, 2, 2, 2, 2, 2, 2, 2, 2, 2, 2, 2, 2, 2, 2, 2, 2, 2, 2, 2, 2, 2, 2, 2, 2, 2, 2, 2, 2, 2, 2, 2, 2, 2, 2, 2, 2, 2, 2, 2, 2, 2, 2, 2, 2, 2, 2, 2, 2, 2, 2, 2, 2, 2, 2, 2, 2, 2, 2, 2, 2, 2, 2, 2, 2, 2, 2, 2, 2, 2, 2, 2, 2, 2, 2, 2, 2, 2, 2, 2, 2, 2, 2, 2, 2, 2, 2, 2, 2, 2, 2, 2, 2, 2, 2, 2, 2, 2, 2, 2, 2, 8, 17, 17, 17, 17, 17, 17, 17, 17, 17, 17, 17, 17, 17, 17, 17, 17, 17, 17, 17, 17, 17, 17, 17, 17, 17, 17, 17, 17, 17, 17, 17, 17, 17, 17, 17, 17, 17, 17, 17, 17, 17, 17, 17, 17, 17, 17, 17, 17, 17, 17, 17, 17, 17, 17, 17, 17, 17, 17, 17, 17, 17, 17, 17, 17, 17, 17, 17, 17, 17, 17, 17, 17, 17, 17, 17, 17, 17, 17, 17, 17, 17, 17, 17, 17, 17, 17, 17, 17, 17, 17, 17, 17, 17, 17, 17, 17, 17, 17, 17, 17, 17, 17, 17, 17, 17, 17, 17, 17, 17, 17, 17, 17, 17, 17, 17, 17, 17, 17, 17, 17, 17, 17, 17, 17, 17, 17, 17, 17, 17, 17, 17, 17, 17, 17, 17, 17, 17, 17, 17, 17, 17, 17, 17, 17, 17, 17, 17, 17, 17, 17, 17, 17, 17, 17, 17, 17, 17, 17, 17, 17, 17, 17, 17, 17, 17, 17, 17, 17, 17, 17, 17, 17, 17, 17, 17, 17, 17, 17, 17, 17, 17, 17, 17, 17, 17, 17, 17, 17]\n",
      "[[ 1.68703834  1.67910068  1.71667838 ... -0.05112508 -0.01854857\n",
      "   3.38106288]\n",
      " [ 1.18219121  1.17374444  1.18578609 ... -0.05325806 -0.05843891\n",
      "   2.91980646]\n",
      " [ 2.60183794  2.60415641  2.6546992  ... -0.07495895  1.58634529\n",
      "   0.7731397 ]\n",
      " ...\n",
      " [ 1.17624618  1.17292918  1.1904911  ... -0.06372078 -0.03895688\n",
      "   2.27106034]\n",
      " [ 0.5774943   0.56863731  0.58037282 ... -0.05434104 -0.05002326\n",
      "   6.14333592]\n",
      " [ 0.41819533  0.42662136  0.42794544 ... -0.04468211 -0.01095396\n",
      "   0.84854834]]\n"
     ]
    }
   ],
   "source": [
    "n_classes = np.unique(miR_label).size\n",
    "\n",
    "print(n_classes)\n",
    "print(miR_label)\n",
    "\n",
    "print(num_miR_label)\n",
    "print(miR_data)"
   ]
  },
  {
   "cell_type": "markdown",
   "id": "EYf13Gtx1OCj",
   "metadata": {
    "id": "EYf13Gtx1OCj"
   },
   "source": [
    "# DataLoading\n",
    "Define variables for dataloading."
   ]
  },
  {
   "cell_type": "code",
   "execution_count": 128,
   "id": "eo4T5MC21hgD",
   "metadata": {
    "id": "eo4T5MC21hgD"
   },
   "outputs": [],
   "source": [
    "batch_size = 128\n",
    "device = torch.device(\"cuda\") if torch.cuda.is_available() else torch.device(\"cpu\")\n",
    "padded_data = False"
   ]
  },
  {
   "cell_type": "markdown",
   "id": "206G0_wmLKy5",
   "metadata": {
    "id": "206G0_wmLKy5"
   },
   "source": [
    "Define function to add padding to our data \\<Optional\\> "
   ]
  },
  {
   "cell_type": "code",
   "execution_count": 129,
   "id": "xPGunfu-LRvG",
   "metadata": {
    "id": "xPGunfu-LRvG"
   },
   "outputs": [],
   "source": [
    "import math\n",
    "\n",
    "def add_pad_data(data):\n",
    "  miR_data = data\n",
    "  c_int = math.ceil(np.sqrt(len(miR_data[0])))\n",
    "  pad = c_int ** 2 - len(miR_data[0])\n",
    "  pad_width = (0, pad)\n",
    "\n",
    "  padded_miR_data = np.zeros((miR_data.shape[0], miR_data.shape[1] + pad_width[1]))\n",
    "\n",
    "  for i in range(len(miR_data)):\n",
    "    padded_miR_data[i] = np.pad(miR_data[i], pad_width, mode='constant')\n",
    "\n",
    "  # reshape shape[1] into (c_int, c_int)\n",
    "\n",
    "  dim = int(np.sqrt(len(padded_miR_data[0])))\n",
    "  padded_miR_data = padded_miR_data.reshape((padded_miR_data.shape[0],1, dim, dim))\n",
    "\n",
    "  return padded_miR_data"
   ]
  },
  {
   "cell_type": "markdown",
   "id": "xfisQK7XJOCu",
   "metadata": {
    "id": "xfisQK7XJOCu"
   },
   "source": [
    "## TODO: Generate subset based on top N most frequent labels \\<Optional\\>\n",
    "\n",
    "From the dataset extract the 10 most frequent classes"
   ]
  },
  {
   "cell_type": "code",
   "execution_count": 130,
   "id": "7iFrDuJuYh8N",
   "metadata": {
    "colab": {
     "base_uri": "https://localhost:8080/"
    },
    "id": "7iFrDuJuYh8N",
    "outputId": "3eabc747-6c34-4d31-8ba1-08a8ac0c3013"
   },
   "outputs": [
    {
     "name": "stdout",
     "output_type": "stream",
     "text": [
      "11082\n",
      "11082\n"
     ]
    }
   ],
   "source": [
    "# N = 10\n",
    "N = 33\n",
    "print(len(miR_data))\n",
    "print(len(miR_label))\n",
    "\n",
    "def elementi_piu_frequenti(lista, n):\n",
    "    unici, conteggi = np.unique(lista, return_counts=True)\n",
    "    indici_ordinati = np.argsort(conteggi)[::-1]\n",
    "    elementi_frequenti = unici[indici_ordinati][:n]\n",
    "    return list(elementi_frequenti)\n",
    "\n",
    "top_label_set = elementi_piu_frequenti(miR_label, N)"
   ]
  },
  {
   "cell_type": "code",
   "execution_count": 131,
   "id": "F3X33KYWpGKf",
   "metadata": {
    "id": "F3X33KYWpGKf"
   },
   "outputs": [],
   "source": [
    "# TODO: Write here your the code for identifying the most frequent classes\n",
    "# N = 10\n",
    "N = 33\n",
    "labels = np.unique(miR_label, return_counts=True)\n",
    "lab = []\n",
    "for i in range(len(labels[0])):\n",
    "  lab.append((labels[0][i], labels[1][i]))\n",
    "lab.sort(key=lambda i: i[1])\n",
    "top_lab = lab[-N:]\n",
    "new_dataset  =[]\n",
    "new_label_set = []\n",
    "\n",
    "for idx in range(len(miR_label)):\n",
    "  if miR_label[idx] in top_label_set:\n",
    "    new_dataset.append(miR_data[idx])\n",
    "    new_label_set.append(miR_label[idx])\n",
    "    \n",
    "n_classes = N\n",
    "miR_data = np.array(new_dataset)\n",
    "num_miR_label = label_processing(np.array(new_label_set))"
   ]
  },
  {
   "cell_type": "markdown",
   "id": "zFMiwSL-Ot8r",
   "metadata": {
    "id": "zFMiwSL-Ot8r"
   },
   "source": [
    "## TODO: Dimensionality analysis and reduction using Principal Component Analysis  \\<Optional\\>\n",
    "\n",
    "---\n",
    "\n",
    "(PCA) on train_data. \n",
    "\n",
    "Keep only features that preserve 99% of the variance.\n",
    "\n",
    "For further information, please look at the documentation available at https://scikit-learn.org/stable/modules/generated/sklearn.decomposition.PCA.html"
   ]
  },
  {
   "cell_type": "code",
   "execution_count": 132,
   "id": "rq7Uus2FPDo0",
   "metadata": {
    "id": "rq7Uus2FPDo0"
   },
   "outputs": [],
   "source": [
    "from sklearn.decomposition import PCA\n",
    "\n",
    "def apply_PCA(data):\n",
    "  pca = PCA()\n",
    "  return pca.fit_transform(data)\n",
    "\n"
   ]
  },
  {
   "cell_type": "markdown",
   "id": "R2JACzArPOw6",
   "metadata": {
    "id": "R2JACzArPOw6"
   },
   "source": [
    "## Create DataLoader"
   ]
  },
  {
   "cell_type": "code",
   "execution_count": 133,
   "id": "jCeUOy56QpFV",
   "metadata": {
    "id": "jCeUOy56QpFV"
   },
   "outputs": [],
   "source": [
    "# usefull if you want to represent your data as images <Optional>\n",
    "\n",
    "miR_data = add_pad_data(miR_data)\n",
    "padded_data = True"
   ]
  },
  {
   "cell_type": "code",
   "execution_count": 134,
   "id": "c7Xm9OcVNCa5",
   "metadata": {
    "id": "c7Xm9OcVNCa5"
   },
   "outputs": [],
   "source": [
    "train_data, val_data, train_label, val_label = train_test_split(miR_data, num_miR_label, test_size=0.20, random_state=42)"
   ]
  },
  {
   "cell_type": "code",
   "execution_count": 135,
   "id": "0OQmbkScTMym",
   "metadata": {
    "id": "0OQmbkScTMym"
   },
   "outputs": [],
   "source": [
    "from torch.utils.data import TensorDataset, DataLoader\n",
    "miR_train = torch.Tensor(train_data)\n",
    "miR_train_label = torch.Tensor(train_label)\n",
    "miR_dataset_train = TensorDataset(miR_train, miR_train_label)\n",
    "\n",
    "miR_val = torch.Tensor(val_data)\n",
    "miR_val_label = torch.Tensor(val_label)\n",
    "miR_dataset_val = TensorDataset(miR_val, miR_val_label)\n",
    "\n",
    "train_loader = DataLoader(miR_dataset_train, batch_size=batch_size, shuffle=True)\n",
    "test_loader = DataLoader(miR_dataset_val, batch_size=batch_size)"
   ]
  },
  {
   "cell_type": "markdown",
   "id": "BtJBOtez11wy",
   "metadata": {
    "id": "BtJBOtez11wy"
   },
   "source": [
    "# Define Network\n",
    "Let's compare the performance of a pair of networks both with and without population coding.\n",
    "\n",
    "\n",
    "Each group should try the assigned values.\n"
   ]
  },
  {
   "cell_type": "code",
   "execution_count": 145,
   "id": "Vx7Y3SH-gKzB",
   "metadata": {
    "id": "Vx7Y3SH-gKzB"
   },
   "outputs": [],
   "source": [
    "#TODO: Select a random configuration of parameters\n",
    "from snntorch import surrogate\n",
    "\n",
    "# network parameters\n",
    "if padded_data:\n",
    "  num_inputs = train_data.shape[2] ** 2\n",
    "else:\n",
    "  num_inputs = train_data.shape[1]\n",
    "\n",
    "num_hidden = 128 #GROUPS : A: [64], B: [128], C: [256], D: [512]\n",
    "num_outputs = n_classes\n",
    "\n",
    "# temporal dynamics\n",
    "num_steps = 20 #GROUPS : A: [5], B: [10], C: [20], D: [50]\n",
    "\n",
    "# spiking neuron parameters\n",
    "beta = 0.7   # neuron decay rate  #GROUPS : A: [0.7], B: [0.8], C: [0.85], D: [0.9 - 1]\n",
    "grad = surrogate.fast_sigmoid()"
   ]
  },
  {
   "cell_type": "markdown",
   "id": "DukdBcgFgBFW",
   "metadata": {
    "id": "DukdBcgFgBFW"
   },
   "source": [
    "## Without population coding"
   ]
  },
  {
   "cell_type": "code",
   "execution_count": 146,
   "id": "8ipqtuRsgCmJ",
   "metadata": {
    "id": "8ipqtuRsgCmJ"
   },
   "outputs": [],
   "source": [
    "first_layer_neuron = snn.Leaky(beta=beta, spike_grad=grad, init_hidden=True)\n",
    "second_layer_neuron =  snn.Leaky(beta=beta, spike_grad=grad, init_hidden=True, output=True)"
   ]
  },
  {
   "cell_type": "code",
   "execution_count": 138,
   "id": "gC-pwECaSn4U",
   "metadata": {
    "id": "gC-pwECaSn4U"
   },
   "outputs": [],
   "source": [
    "#TODO: change neuron type es. Lapique https://snntorch.readthedocs.io/en/latest/snn.neurons_lapicque.html <Optional>\n",
    "first_layer_neuron = snn.Lapicque(beta=beta, spike_grad=grad, init_hidden=True, threshold=.4)\n",
    "second_layer_neuron =  snn.Lapicque(beta=beta, spike_grad=grad, init_hidden=True, output=True, threshold=.4)"
   ]
  },
  {
   "cell_type": "code",
   "execution_count": 77,
   "id": "sBSw7HUgSnQp",
   "metadata": {
    "id": "sBSw7HUgSnQp"
   },
   "outputs": [],
   "source": [
    "#TODO: # change neuron type es. RLeaky https://snntorch.readthedocs.io/en/latest/snn.neurons_rleaky.html <Optional>\n",
    "first_layer_neuron = snn.RLeaky(beta=beta, spike_grad=grad, init_hidden=True, linear_features=num_hidden ,threshold=.4)\n",
    "second_layer_neuron = snn.RLeaky(beta=beta, spike_grad=grad, init_hidden=True, output=True, linear_features=num_outputs, threshold=.1)"
   ]
  },
  {
   "cell_type": "code",
   "execution_count": 147,
   "id": "-JeFUE65UmAF",
   "metadata": {
    "id": "-JeFUE65UmAF"
   },
   "outputs": [],
   "source": [
    "# standard network\n",
    "net = nn.Sequential(nn.Flatten(),\n",
    "                    nn.Linear(num_inputs, num_hidden),\n",
    "                    first_layer_neuron,\n",
    "                    nn.Linear(num_hidden, num_outputs),\n",
    "                    second_layer_neuron\n",
    "                    ).to(device)"
   ]
  },
  {
   "cell_type": "markdown",
   "id": "bgWUtvpmZD72",
   "metadata": {
    "id": "bgWUtvpmZD72"
   },
   "source": [
    "## Next Step: define your own network"
   ]
  },
  {
   "cell_type": "code",
   "execution_count": 115,
   "id": "wqzsMyaZVNBC",
   "metadata": {
    "id": "wqzsMyaZVNBC"
   },
   "outputs": [],
   "source": [
    "# TODO: define your own network (If you need another layer you need to define it. You can change the type of neurons between different layers)\n",
    "# A full list of neurons type is available at https://snntorch.readthedocs.io/en/latest/snntorch.html#neuron-list\n",
    "# Execute this step after reporting the results of the previous standard network\n",
    "\n",
    "net = nn.Sequential(nn.Flatten(),\n",
    "                    nn.Linear(num_inputs, num_hidden),\n",
    "                    first_layer_neuron,\n",
    "                    nn.Linear(num_hidden, num_hidden),\n",
    "                    nn.Linear(num_hidden, num_outputs),\n",
    "                    second_layer_neuron\n",
    "                    ).to(device)"
   ]
  },
  {
   "cell_type": "markdown",
   "id": "a_si0NREgDnl",
   "metadata": {
    "id": "a_si0NREgDnl"
   },
   "source": [
    "## With population coding\n"
   ]
  },
  {
   "cell_type": "code",
   "execution_count": 106,
   "id": "JM2thnrc10rD",
   "metadata": {
    "id": "JM2thnrc10rD"
   },
   "outputs": [],
   "source": [
    "#TODO: Select a random configuration of parameters\n",
    "neurons_per_classes = 25  #GROUPS : A: [25], B: [50], C: [75], D: [100]\n",
    "pop_outputs = n_classes * neurons_per_classes"
   ]
  },
  {
   "cell_type": "code",
   "execution_count": 107,
   "id": "eY8FecZgXCxP",
   "metadata": {
    "id": "eY8FecZgXCxP"
   },
   "outputs": [],
   "source": [
    "first_layer_neuron =  snn.Leaky(beta=beta, spike_grad=grad, init_hidden=True)\n",
    "second_layer_neuron =  snn.Leaky(beta=beta, spike_grad=grad, init_hidden=True, output=True)"
   ]
  },
  {
   "cell_type": "code",
   "execution_count": 66,
   "id": "i6B7qruG3pJD",
   "metadata": {
    "id": "i6B7qruG3pJD"
   },
   "outputs": [],
   "source": [
    "first_layer_neuron =  snn.Lapicque(beta=beta, spike_grad=grad, init_hidden=True, threshold=.4)\n",
    "second_layer_neuron =  snn.Lapicque(beta=beta, spike_grad=grad, init_hidden=True, output=True, threshold=.4)"
   ]
  },
  {
   "cell_type": "code",
   "execution_count": 67,
   "id": "0X-ELbsk3bgB",
   "metadata": {
    "id": "0X-ELbsk3bgB"
   },
   "outputs": [],
   "source": [
    "pop_outputs = n_classes * 50\n",
    "first_layer_neuron =  snn.RLeaky(beta=beta, spike_grad=grad, init_hidden=True, linear_features=num_hidden)\n",
    "second_layer_neuron =  snn.RLeaky(beta=beta, spike_grad=grad, init_hidden=True, output=True, linear_features=pop_outputs)"
   ]
  },
  {
   "cell_type": "code",
   "execution_count": 108,
   "id": "B7TygqPAS0IE",
   "metadata": {
    "id": "B7TygqPAS0IE"
   },
   "outputs": [],
   "source": [
    "# standard network with population coding\n",
    "\n",
    "net_pop = nn.Sequential(nn.Flatten(),\n",
    "                        nn.Linear(num_inputs, num_hidden),\n",
    "                        first_layer_neuron,   \n",
    "                        nn.Linear(num_hidden, pop_outputs),\n",
    "                        second_layer_neuron                        \n",
    "                        ).to(device)"
   ]
  },
  {
   "cell_type": "markdown",
   "id": "yu8wQ1KCYvDh",
   "metadata": {
    "id": "yu8wQ1KCYvDh"
   },
   "source": [
    "## Next Step: Define your own network with population coding"
   ]
  },
  {
   "cell_type": "code",
   "execution_count": 119,
   "id": "L01fSfXzYB9K",
   "metadata": {
    "id": "L01fSfXzYB9K"
   },
   "outputs": [],
   "source": [
    "# TODO: define your own network (If you need another layer you need to define it. You can change the type of neurons between different layers)\n",
    "# A full list of neurons type is available at https://snntorch.readthedocs.io/en/latest/snntorch.html#neuron-list\n",
    "# Execute this step after reporting the results of the previous standard network with population coding\n",
    "\n",
    "net_pop = nn.Sequential(nn.Flatten(),\n",
    "                        nn.Linear(num_inputs, num_hidden),\n",
    "                        first_layer_neuron,   \n",
    "                        nn.Linear(num_hidden, pop_outputs),\n",
    "                        nn.Linear(pop_outputs, pop_outputs),\n",
    "                        second_layer_neuron                        \n",
    "                        ).to(device)"
   ]
  },
  {
   "cell_type": "markdown",
   "id": "sIrJnBoz490c",
   "metadata": {
    "id": "sIrJnBoz490c"
   },
   "source": [
    "# Training\n",
    "## Without population coding\n",
    "Define the optimizer and loss function. Here, we use the MSE Count Loss, which counts up the total number of output spikes at the end of the simulation run. \n",
    "\n",
    "The correct class has a target firing probability of 100%, and incorrect classes are set to 0%. "
   ]
  },
  {
   "cell_type": "code",
   "execution_count": 148,
   "id": "VocYbtD7Vwp7",
   "metadata": {
    "id": "VocYbtD7Vwp7"
   },
   "outputs": [],
   "source": [
    "#TODO: Select a random configuration of parameters\n",
    "import snntorch.functional as SF\n",
    "\n",
    "learning_rate = 1e-3 #GROUPS : A: [1e-3], B: [1.5e-3], C: [2e-3], D: [2.5e-3]\n",
    "\n",
    "optimizer = torch.optim.Adam(net.parameters(), lr=learning_rate, betas=(0.9, 0.999))\n",
    "loss_fn = SF.mse_count_loss(correct_rate=1.0, incorrect_rate=0.0)"
   ]
  },
  {
   "cell_type": "markdown",
   "id": "w935Eglbh6bb",
   "metadata": {
    "id": "w935Eglbh6bb"
   },
   "source": [
    "We will also define a simple test accuracy function that predicts the correct class based on the neuron with the highest spike count. "
   ]
  },
  {
   "cell_type": "code",
   "execution_count": 142,
   "id": "cANTWvQ6_OjZ",
   "metadata": {
    "id": "cANTWvQ6_OjZ"
   },
   "outputs": [],
   "source": [
    "from snntorch import utils\n",
    "\n",
    "def test_accuracy(data_loader, net, num_steps, population_code=False, num_classes=False):\n",
    "  with torch.no_grad():\n",
    "    total = 0\n",
    "    acc = 0\n",
    "    net.eval()\n",
    "\n",
    "    data_loader = iter(data_loader)\n",
    "    for data, targets in data_loader:\n",
    "      data = data.to(device)\n",
    "      targets = targets.to(device)\n",
    "      utils.reset(net)\n",
    "      spk_rec, _ = net(data)\n",
    "\n",
    "      if population_code:\n",
    "        acc += SF.accuracy_rate(spk_rec.unsqueeze(0), targets, population_code=True, num_classes=n_classes) * spk_rec.size(1)\n",
    "      else:\n",
    "        acc += SF.accuracy_rate(spk_rec.unsqueeze(0), targets) * spk_rec.size(1)\n",
    "        \n",
    "      total += spk_rec.size(1)\n",
    "\n",
    "  return acc/total"
   ]
  },
  {
   "cell_type": "markdown",
   "id": "57U_9vy1W05U",
   "metadata": {
    "id": "57U_9vy1W05U"
   },
   "source": [
    "Let's run the training loop."
   ]
  },
  {
   "cell_type": "code",
   "execution_count": 149,
   "id": "tQZBPV0pgkx0",
   "metadata": {
    "colab": {
     "base_uri": "https://localhost:8080/"
    },
    "id": "tQZBPV0pgkx0",
    "outputId": "ac267194-70f8-4b9c-9ffd-b5bc5689e71c"
   },
   "outputs": [
    {
     "name": "stdout",
     "output_type": "stream",
     "text": [
      "Epoch: 0\n",
      "Test set accuracy: 12.006%\n",
      "\n",
      "Epoch: 1\n",
      "Test set accuracy: 14.707%\n",
      "\n",
      "Epoch: 2\n",
      "Test set accuracy: 23.192%\n",
      "\n",
      "Epoch: 3\n",
      "Test set accuracy: 19.676%\n",
      "\n",
      "Epoch: 4\n",
      "Test set accuracy: 23.577%\n",
      "\n",
      "Epoch: 5\n",
      "Test set accuracy: 23.886%\n",
      "\n",
      "Epoch: 6\n",
      "Test set accuracy: 25.850%\n",
      "\n",
      "Epoch: 7\n",
      "Test set accuracy: 26.105%\n",
      "\n",
      "Epoch: 8\n",
      "Test set accuracy: 26.029%\n",
      "\n",
      "Epoch: 9\n",
      "Test set accuracy: 27.109%\n",
      "\n",
      "Epoch: 10\n",
      "Test set accuracy: 26.838%\n",
      "\n",
      "Epoch: 11\n",
      "Test set accuracy: 27.760%\n",
      "\n",
      "Epoch: 12\n",
      "Test set accuracy: 32.859%\n",
      "\n",
      "Epoch: 13\n",
      "Test set accuracy: 30.142%\n",
      "\n",
      "Epoch: 14\n",
      "Test set accuracy: 29.810%\n",
      "\n",
      "Epoch: 15\n",
      "Test set accuracy: 32.414%\n",
      "\n",
      "Epoch: 16\n",
      "Test set accuracy: 33.841%\n",
      "\n",
      "Epoch: 17\n",
      "Test set accuracy: 32.322%\n",
      "\n",
      "Epoch: 18\n",
      "Test set accuracy: 33.538%\n",
      "\n",
      "Epoch: 19\n",
      "Test set accuracy: 34.161%\n",
      "\n"
     ]
    }
   ],
   "source": [
    "from snntorch import backprop\n",
    "\n",
    "num_epochs = 20\n",
    "\n",
    "# training loop\n",
    "for epoch in range(num_epochs):\n",
    "\n",
    "    avg_loss = backprop.BPTT(net, train_loader, num_steps=num_steps,\n",
    "                          optimizer=optimizer, criterion=loss_fn, time_var=False, device=device)\n",
    "    \n",
    "    print(f\"Epoch: {epoch}\")\n",
    "    print(f\"Test set accuracy: {test_accuracy(test_loader, net, num_steps)*100:.3f}%\\n\")"
   ]
  },
  {
   "cell_type": "markdown",
   "id": "vT-IuyY_LauT",
   "metadata": {
    "id": "vT-IuyY_LauT"
   },
   "source": [
    "## With population coding"
   ]
  },
  {
   "cell_type": "code",
   "execution_count": 120,
   "id": "YH-rAAxfLd_T",
   "metadata": {
    "id": "YH-rAAxfLd_T"
   },
   "outputs": [],
   "source": [
    "# TODO: Select a random configuration of parameters\n",
    "learning_rate = 1e-3  #GROUPS : A: [1e-3], B: [1.5e-3], C: [2e-3], D: [2.5e-3]\n",
    "\n",
    "loss_fn = SF.mse_count_loss(correct_rate=1.0, incorrect_rate=0.0, population_code=True, num_classes=n_classes)\n",
    "optimizer = torch.optim.Adam(net_pop.parameters(), lr=learning_rate, betas=(0.9, 0.999))"
   ]
  },
  {
   "cell_type": "code",
   "execution_count": 121,
   "id": "afyJpc5vM7qN",
   "metadata": {
    "colab": {
     "base_uri": "https://localhost:8080/"
    },
    "id": "afyJpc5vM7qN",
    "outputId": "4395295e-b19c-46ef-d2e4-776ded40086f"
   },
   "outputs": [
    {
     "name": "stdout",
     "output_type": "stream",
     "text": [
      "Epoch: 0\n",
      "Test set accuracy: 46.502%\n",
      "\n",
      "Epoch: 1\n",
      "Test set accuracy: 53.417%\n",
      "\n",
      "Epoch: 2\n",
      "Test set accuracy: 58.058%\n",
      "\n",
      "Epoch: 3\n",
      "Test set accuracy: 62.248%\n",
      "\n",
      "Epoch: 4\n",
      "Test set accuracy: 61.093%\n",
      "\n",
      "Epoch: 5\n",
      "Test set accuracy: 64.750%\n",
      "\n",
      "Epoch: 6\n",
      "Test set accuracy: 66.532%\n",
      "\n",
      "Epoch: 7\n",
      "Test set accuracy: 66.408%\n",
      "\n",
      "Epoch: 8\n",
      "Test set accuracy: 68.801%\n",
      "\n",
      "Epoch: 9\n",
      "Test set accuracy: 67.690%\n",
      "\n",
      "Epoch: 10\n",
      "Test set accuracy: 68.110%\n",
      "\n",
      "Epoch: 11\n",
      "Test set accuracy: 70.236%\n",
      "\n",
      "Epoch: 12\n",
      "Test set accuracy: 70.314%\n",
      "\n",
      "Epoch: 13\n",
      "Test set accuracy: 71.908%\n",
      "\n",
      "Epoch: 14\n",
      "Test set accuracy: 70.878%\n",
      "\n",
      "Epoch: 15\n",
      "Test set accuracy: 71.017%\n",
      "\n",
      "Epoch: 16\n",
      "Test set accuracy: 73.659%\n",
      "\n",
      "Epoch: 17\n",
      "Test set accuracy: 71.127%\n",
      "\n",
      "Epoch: 18\n",
      "Test set accuracy: 71.862%\n",
      "\n",
      "Epoch: 19\n",
      "Test set accuracy: 70.783%\n",
      "\n"
     ]
    }
   ],
   "source": [
    "num_epochs = 20\n",
    "\n",
    "# training loop\n",
    "for epoch in range(num_epochs):\n",
    "\n",
    "    avg_loss = backprop.BPTT(net_pop, train_loader, num_steps=num_steps,\n",
    "                            optimizer=optimizer, criterion=loss_fn, time_var=False, device=device)\n",
    "\n",
    "    print(f\"Epoch: {epoch}\")\n",
    "    print(f\"Test set accuracy: {test_accuracy(test_loader, net_pop, num_steps, population_code=True, num_classes=n_classes)*100:.3f}%\\n\")\n",
    "    "
   ]
  },
  {
   "cell_type": "markdown",
   "id": "EC3QdYLPBU21",
   "metadata": {
    "id": "EC3QdYLPBU21"
   },
   "source": [
    "## TODO: Report here the parameters of your configurations\n",
    "\n",
    "Consider that:\n",
    "\n",
    "*   with 10 classes:\n",
    "    *   we achieved ~51% of accuracy with the standard network without population coding and ~72% of accuracy with the standard population coding network\n",
    "    *    we achieved ~56% of accuracy with the  custom network and ~70% of accuracy with the custom population coding network\n",
    "\n",
    "\n",
    "*   with 33 classes:\n",
    "    *   we achieved ~15% of accuracy with the standard network without population coding and ~30% of accuracy with the standard population coding network\n",
    "    *   we achieved ~29% of accuracy with the  custom network and ~53% of accuracy with the custom population coding network\n",
    "\n"
   ]
  },
  {
   "cell_type": "code",
   "execution_count": 144,
   "id": "8GKCSfsQGY84",
   "metadata": {
    "id": "8GKCSfsQGY84"
   },
   "outputs": [],
   "source": [
    "# 10 classes - without population coding\n",
    "# num_hidden: B\n",
    "# num_steps: C\n",
    "# beta: C\n",
    "# LR: A\n",
    "\n",
    "# BEST ACCURACY = 67.375%\n",
    "\n",
    "\n",
    "\n",
    "# 10 classes - with population coding\n",
    "# num_hidden: B\n",
    "# num_steps: C\n",
    "# beta: A\n",
    "# LR: A\n",
    "# neurons_per_classes A\n",
    "\n",
    "# BEST ACCURACY = 74.504%\n",
    "\n",
    "\n",
    "\n",
    "# 33 classes - without population coding\n",
    "# num_hidden: B\n",
    "# num_steps: C\n",
    "# beta: A\n",
    "# LR: A\n",
    "\n",
    "# BEST ACCURACY = 34.161%\n",
    "\n",
    "\n",
    "\n",
    "# 33 classes - with population coding\n",
    "# /"
   ]
  },
  {
   "cell_type": "markdown",
   "id": "-iSGTq0Q3Lcm",
   "metadata": {
    "id": "-iSGTq0Q3Lcm"
   },
   "source": [
    "# Conclusion\n",
    "The performance boost from population coding may start to fade as the number of time steps increases. But it may also be preferable to increasing time steps as PyTorch is optimized for handling matrix-vector products, rather than sequential, step-by-step operations over time. \n",
    "\n",
    "* For a detailed tutorial of spiking neurons, neural nets, encoding, and training using neuromorphic datasets, check out the\n",
    "[snnTorch tutorial series](https://snntorch.readthedocs.io/en/latest/tutorials/index.html).\n",
    "* For more information on the features of snnTorch, check out the [documentation at this link](https://snntorch.readthedocs.io/en/latest/).\n",
    "* If you have ideas, suggestions or would like to find ways to get involved, then [check out the snnTorch GitHub project here.](https://github.com/jeshraghian/snntorch)"
   ]
  }
 ],
 "metadata": {
  "accelerator": "GPU",
  "colab": {
   "provenance": []
  },
  "kernelspec": {
   "display_name": "Python 3 (ipykernel)",
   "language": "python",
   "name": "python3"
  },
  "language_info": {
   "codemirror_mode": {
    "name": "ipython",
    "version": 3
   },
   "file_extension": ".py",
   "mimetype": "text/x-python",
   "name": "python",
   "nbconvert_exporter": "python",
   "pygments_lexer": "ipython3",
   "version": "3.10.4"
  }
 },
 "nbformat": 4,
 "nbformat_minor": 5
}
