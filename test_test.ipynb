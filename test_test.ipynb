from sklearn.metrics import confusion_matrix

# Create an empty confusion matrix
confusion_matrix = np.zeros((len(superclasses), len(superclasses)))

# For each superclass, we load the model and we test it on the corresponding dataset
for i in range(len(superclasses)):
    params = load_params(model_name, i)
    test_dataloader = torch.utils.data.DataLoader(datasets_per_superclass[i], batch_size=128, shuffle=True)
    model = load_model(os.path.join('models', model_name), model_name, i, len(superclasses[i]), params, test_dataloader)
    
    # Test the model and calculate accuracy
    if model_name.startswith('cnn'):
        accuracy = test(test_dataloader, model, loss_fn)
    else:
        accuracy = test_accuracy(test_dataloader, model)
    
    # Print accuracy for superclass
    print(f"Accuracy for superclass {i}: {accuracy}")
    
    # Generate predictions for the test dataset
    y_true = []
    y_pred = []
    for inputs, labels in test_dataloader:
        outputs = model(inputs)
        _, predicted = torch.max(outputs, 1)
        y_true.extend(labels.tolist())
        y_pred.extend(predicted.tolist())
    
    # Update the confusion matrix
    confusion_matrix[i] = confusion_matrix(y_true, y_pred)

# Print the confusion matrix
print("Confusion Matrix:")
print(confusion_matrix)